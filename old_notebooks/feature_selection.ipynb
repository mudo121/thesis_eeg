{
 "cells": [
  {
   "cell_type": "markdown",
   "metadata": {},
   "source": [
    "# Notebook to test feature selection methods\n",
    "- PCA\n",
    "- RFE\n",
    "- Feature importance\n",
    "- Univariate Selection"
   ]
  },
  {
   "cell_type": "code",
   "execution_count": 2,
   "metadata": {},
   "outputs": [
    {
     "name": "stdout",
     "output_type": "stream",
     "text": [
      "D:\\Masterthesis\\thesis_eeg\\code\n"
     ]
    },
    {
     "name": "stderr",
     "output_type": "stream",
     "text": [
      "Using TensorFlow backend.\n"
     ]
    }
   ],
   "source": [
    "# Imports\n",
    "import os, sys\n",
    "import numpy as np\n",
    "import matplotlib.pyplot as plt\n",
    "\n",
    "from numpy import mean\n",
    "from numpy import std\n",
    "from sklearn.datasets import make_classification\n",
    "from sklearn.model_selection import cross_val_score\n",
    "from sklearn.model_selection import RepeatedStratifiedKFold\n",
    "from sklearn.feature_selection import RFE\n",
    "from sklearn.tree import DecisionTreeClassifier\n",
    "from sklearn.pipeline import Pipeline\n",
    "\n",
    "# to enable local imports\n",
    "module_path = os.path.abspath('code')\n",
    "print(module_path)\n",
    "if module_path not in sys.path:\n",
    "    sys.path.append(module_path)\n",
    "\n",
    "from machine_learning_data_generation import loadOnlineEEGdata"
   ]
  },
  {
   "cell_type": "code",
   "execution_count": 3,
   "metadata": {},
   "outputs": [
    {
     "name": "stdout",
     "output_type": "stream",
     "text": [
      "Loading Online EEG Data from D:/Masterthesis/EEG_Data/eeg_data_online ...\n",
      "EEG Data Shape:\n",
      "(5024, 512, 40) (5024,) (2154, 512, 40) (2154,)\n",
      "Freq Data Shape:\n",
      "(1008, 1, 1200) (1008,) (432, 1, 1200) (432,)\n",
      "Entropy Data Shape:\n",
      "(5024, 1, 200) (5024,) (2154, 1, 200) (2154,)\n"
     ]
    }
   ],
   "source": [
    "# Load some online EEG Data\n",
    "eegData, freqData, entropyData = loadOnlineEEGdata(splitData=True)\n",
    "eegX_train, eegy_train, eegX_test, eegy_test = eegData\n",
    "freqX_train, freqy_train, freqX_test, freqy_test = freqData\n",
    "X_train_entropy, y_train_enoptry, X_test_entropy, y_test_entropy = entropyData\n",
    "\n",
    "# reshape\n",
    "freqX_train = freqX_train.reshape(freqX_train.shape[0], freqX_train.shape[2])\n",
    "freqX_test = freqX_test.reshape(freqX_test.shape[0], freqX_test.shape[2])\n",
    "\n",
    "X_train_entropy = X_train_entropy.reshape(X_train_entropy.shape[0], X_train_entropy.shape[2])\n",
    "X_test_entropy = X_test_entropy.reshape(X_test_entropy.shape[0], X_test_entropy.shape[2])"
   ]
  },
  {
   "cell_type": "markdown",
   "metadata": {},
   "source": [
    "## Principal Component Analysis (PCA)"
   ]
  },
  {
   "cell_type": "code",
   "execution_count": null,
   "metadata": {},
   "outputs": [],
   "source": []
  },
  {
   "cell_type": "markdown",
   "metadata": {},
   "source": [
    "## Recursive Feature Elimination (RFE)"
   ]
  },
  {
   "cell_type": "code",
   "execution_count": 4,
   "metadata": {},
   "outputs": [],
   "source": [
    "X = X_train_entropy\n",
    "y = y_train_enoptry"
   ]
  },
  {
   "cell_type": "code",
   "execution_count": 9,
   "metadata": {},
   "outputs": [
    {
     "name": "stdout",
     "output_type": "stream",
     "text": [
      "Column: 0, Selected True, Rank: 1.000\n",
      "Column: 1, Selected False, Rank: 77.000\n",
      "Column: 2, Selected False, Rank: 82.000\n",
      "Column: 3, Selected False, Rank: 47.000\n",
      "Column: 4, Selected False, Rank: 72.000\n",
      "Column: 5, Selected False, Rank: 73.000\n",
      "Column: 6, Selected False, Rank: 66.000\n",
      "Column: 7, Selected False, Rank: 64.000\n",
      "Column: 8, Selected False, Rank: 84.000\n",
      "Column: 9, Selected False, Rank: 98.000\n",
      "Column: 10, Selected False, Rank: 7.000\n",
      "Column: 11, Selected False, Rank: 88.000\n",
      "Column: 12, Selected False, Rank: 49.000\n",
      "Column: 13, Selected False, Rank: 75.000\n",
      "Column: 14, Selected False, Rank: 55.000\n",
      "Column: 15, Selected True, Rank: 1.000\n",
      "Column: 16, Selected False, Rank: 74.000\n",
      "Column: 17, Selected False, Rank: 96.000\n",
      "Column: 18, Selected False, Rank: 35.000\n",
      "Column: 19, Selected False, Rank: 91.000\n",
      "Column: 20, Selected False, Rank: 5.000\n",
      "Column: 21, Selected False, Rank: 59.000\n",
      "Column: 22, Selected False, Rank: 60.000\n",
      "Column: 23, Selected False, Rank: 18.000\n",
      "Column: 24, Selected False, Rank: 86.000\n",
      "Column: 25, Selected True, Rank: 1.000\n",
      "Column: 26, Selected True, Rank: 1.000\n",
      "Column: 27, Selected False, Rank: 30.000\n",
      "Column: 28, Selected False, Rank: 90.000\n",
      "Column: 29, Selected False, Rank: 34.000\n",
      "Column: 30, Selected False, Rank: 43.000\n",
      "Column: 31, Selected False, Rank: 108.000\n",
      "Column: 32, Selected False, Rank: 41.000\n",
      "Column: 33, Selected False, Rank: 71.000\n",
      "Column: 34, Selected False, Rank: 13.000\n",
      "Column: 35, Selected False, Rank: 128.000\n",
      "Column: 36, Selected True, Rank: 1.000\n",
      "Column: 37, Selected False, Rank: 94.000\n",
      "Column: 38, Selected False, Rank: 141.000\n",
      "Column: 39, Selected False, Rank: 119.000\n",
      "Column: 40, Selected False, Rank: 106.000\n",
      "Column: 41, Selected False, Rank: 56.000\n",
      "Column: 42, Selected False, Rank: 69.000\n",
      "Column: 43, Selected False, Rank: 87.000\n",
      "Column: 44, Selected False, Rank: 114.000\n",
      "Column: 45, Selected False, Rank: 3.000\n",
      "Column: 46, Selected False, Rank: 122.000\n",
      "Column: 47, Selected False, Rank: 101.000\n",
      "Column: 48, Selected False, Rank: 139.000\n",
      "Column: 49, Selected False, Rank: 138.000\n",
      "Column: 50, Selected True, Rank: 1.000\n",
      "Column: 51, Selected False, Rank: 50.000\n",
      "Column: 52, Selected False, Rank: 78.000\n",
      "Column: 53, Selected False, Rank: 127.000\n",
      "Column: 54, Selected False, Rank: 92.000\n",
      "Column: 55, Selected False, Rank: 104.000\n",
      "Column: 56, Selected True, Rank: 1.000\n",
      "Column: 57, Selected True, Rank: 1.000\n",
      "Column: 58, Selected False, Rank: 149.000\n",
      "Column: 59, Selected False, Rank: 144.000\n",
      "Column: 60, Selected False, Rank: 117.000\n",
      "Column: 61, Selected False, Rank: 135.000\n",
      "Column: 62, Selected False, Rank: 19.000\n",
      "Column: 63, Selected False, Rank: 28.000\n",
      "Column: 64, Selected False, Rank: 95.000\n",
      "Column: 65, Selected False, Rank: 118.000\n",
      "Column: 66, Selected False, Rank: 109.000\n",
      "Column: 67, Selected False, Rank: 123.000\n",
      "Column: 68, Selected False, Rank: 62.000\n",
      "Column: 69, Selected False, Rank: 52.000\n",
      "Column: 70, Selected True, Rank: 1.000\n",
      "Column: 71, Selected False, Rank: 37.000\n",
      "Column: 72, Selected False, Rank: 93.000\n",
      "Column: 73, Selected False, Rank: 33.000\n",
      "Column: 74, Selected False, Rank: 111.000\n",
      "Column: 75, Selected False, Rank: 10.000\n",
      "Column: 76, Selected False, Rank: 63.000\n",
      "Column: 77, Selected False, Rank: 2.000\n",
      "Column: 78, Selected True, Rank: 1.000\n",
      "Column: 79, Selected False, Rank: 100.000\n",
      "Column: 80, Selected True, Rank: 1.000\n",
      "Column: 81, Selected False, Rank: 124.000\n",
      "Column: 82, Selected False, Rank: 53.000\n",
      "Column: 83, Selected False, Rank: 132.000\n",
      "Column: 84, Selected False, Rank: 11.000\n",
      "Column: 85, Selected False, Rank: 24.000\n",
      "Column: 86, Selected False, Rank: 16.000\n",
      "Column: 87, Selected False, Rank: 152.000\n",
      "Column: 88, Selected True, Rank: 1.000\n",
      "Column: 89, Selected False, Rank: 156.000\n",
      "Column: 90, Selected False, Rank: 17.000\n",
      "Column: 91, Selected False, Rank: 160.000\n",
      "Column: 92, Selected False, Rank: 38.000\n",
      "Column: 93, Selected False, Rank: 164.000\n",
      "Column: 94, Selected False, Rank: 166.000\n",
      "Column: 95, Selected False, Rank: 20.000\n",
      "Column: 96, Selected True, Rank: 1.000\n",
      "Column: 97, Selected False, Rank: 172.000\n",
      "Column: 98, Selected False, Rank: 174.000\n",
      "Column: 99, Selected False, Rank: 21.000\n",
      "Column: 100, Selected False, Rank: 68.000\n",
      "Column: 101, Selected False, Rank: 112.000\n",
      "Column: 102, Selected False, Rank: 36.000\n",
      "Column: 103, Selected True, Rank: 1.000\n",
      "Column: 104, Selected False, Rank: 116.000\n",
      "Column: 105, Selected False, Rank: 8.000\n",
      "Column: 106, Selected False, Rank: 44.000\n",
      "Column: 107, Selected False, Rank: 65.000\n",
      "Column: 108, Selected False, Rank: 126.000\n",
      "Column: 109, Selected False, Rank: 137.000\n",
      "Column: 110, Selected False, Rank: 134.000\n",
      "Column: 111, Selected False, Rank: 146.000\n",
      "Column: 112, Selected False, Rank: 23.000\n",
      "Column: 113, Selected False, Rank: 27.000\n",
      "Column: 114, Selected False, Rank: 81.000\n",
      "Column: 115, Selected False, Rank: 25.000\n",
      "Column: 116, Selected False, Rank: 79.000\n",
      "Column: 117, Selected False, Rank: 129.000\n",
      "Column: 118, Selected False, Rank: 31.000\n",
      "Column: 119, Selected False, Rank: 83.000\n",
      "Column: 120, Selected False, Rank: 113.000\n",
      "Column: 121, Selected False, Rank: 42.000\n",
      "Column: 122, Selected True, Rank: 1.000\n",
      "Column: 123, Selected False, Rank: 80.000\n",
      "Column: 124, Selected False, Rank: 58.000\n",
      "Column: 125, Selected True, Rank: 1.000\n",
      "Column: 126, Selected False, Rank: 15.000\n",
      "Column: 127, Selected False, Rank: 45.000\n",
      "Column: 128, Selected False, Rank: 131.000\n",
      "Column: 129, Selected False, Rank: 57.000\n",
      "Column: 130, Selected False, Rank: 105.000\n",
      "Column: 131, Selected False, Rank: 125.000\n",
      "Column: 132, Selected False, Rank: 121.000\n",
      "Column: 133, Selected False, Rank: 143.000\n",
      "Column: 134, Selected False, Rank: 102.000\n",
      "Column: 135, Selected True, Rank: 1.000\n",
      "Column: 136, Selected False, Rank: 61.000\n",
      "Column: 137, Selected False, Rank: 51.000\n",
      "Column: 138, Selected False, Rank: 9.000\n",
      "Column: 139, Selected False, Rank: 26.000\n",
      "Column: 140, Selected True, Rank: 1.000\n",
      "Column: 141, Selected False, Rank: 46.000\n",
      "Column: 142, Selected False, Rank: 115.000\n",
      "Column: 143, Selected False, Rank: 4.000\n",
      "Column: 144, Selected False, Rank: 48.000\n",
      "Column: 145, Selected True, Rank: 1.000\n",
      "Column: 146, Selected False, Rank: 103.000\n",
      "Column: 147, Selected False, Rank: 40.000\n",
      "Column: 148, Selected False, Rank: 120.000\n",
      "Column: 149, Selected False, Rank: 142.000\n",
      "Column: 150, Selected False, Rank: 110.000\n",
      "Column: 151, Selected False, Rank: 136.000\n",
      "Column: 152, Selected False, Rank: 12.000\n",
      "Column: 153, Selected False, Rank: 147.000\n",
      "Column: 154, Selected False, Rank: 148.000\n",
      "Column: 155, Selected True, Rank: 1.000\n",
      "Column: 156, Selected False, Rank: 54.000\n",
      "Column: 157, Selected False, Rank: 6.000\n",
      "Column: 158, Selected False, Rank: 39.000\n",
      "Column: 159, Selected False, Rank: 133.000\n",
      "Column: 160, Selected False, Rank: 107.000\n",
      "Column: 161, Selected False, Rank: 140.000\n",
      "Column: 162, Selected False, Rank: 89.000\n",
      "Column: 163, Selected False, Rank: 99.000\n",
      "Column: 164, Selected False, Rank: 97.000\n",
      "Column: 165, Selected False, Rank: 14.000\n",
      "Column: 166, Selected False, Rank: 32.000\n",
      "Column: 167, Selected True, Rank: 1.000\n",
      "Column: 168, Selected False, Rank: 85.000\n",
      "Column: 169, Selected False, Rank: 67.000\n",
      "Column: 170, Selected True, Rank: 1.000\n",
      "Column: 171, Selected False, Rank: 70.000\n",
      "Column: 172, Selected True, Rank: 1.000\n",
      "Column: 173, Selected False, Rank: 76.000\n",
      "Column: 174, Selected True, Rank: 1.000\n",
      "Column: 175, Selected True, Rank: 1.000\n",
      "Column: 176, Selected False, Rank: 22.000\n",
      "Column: 177, Selected False, Rank: 29.000\n",
      "Column: 178, Selected False, Rank: 130.000\n",
      "Column: 179, Selected False, Rank: 145.000\n",
      "Column: 180, Selected False, Rank: 150.000\n",
      "Column: 181, Selected False, Rank: 151.000\n",
      "Column: 182, Selected False, Rank: 153.000\n",
      "Column: 183, Selected False, Rank: 154.000\n",
      "Column: 184, Selected False, Rank: 155.000\n",
      "Column: 185, Selected False, Rank: 157.000\n",
      "Column: 186, Selected False, Rank: 158.000\n",
      "Column: 187, Selected False, Rank: 159.000\n",
      "Column: 188, Selected False, Rank: 161.000\n",
      "Column: 189, Selected False, Rank: 162.000\n",
      "Column: 190, Selected False, Rank: 163.000\n",
      "Column: 191, Selected False, Rank: 165.000\n",
      "Column: 192, Selected False, Rank: 167.000\n",
      "Column: 193, Selected False, Rank: 168.000\n",
      "Column: 194, Selected False, Rank: 169.000\n",
      "Column: 195, Selected False, Rank: 170.000\n",
      "Column: 196, Selected False, Rank: 171.000\n",
      "Column: 197, Selected False, Rank: 173.000\n",
      "Column: 198, Selected False, Rank: 175.000\n",
      "Column: 199, Selected False, Rank: 176.000\n"
     ]
    }
   ],
   "source": [
    "from sklearn import svm\n",
    "from sklearn.tree import DecisionTreeClassifier\n",
    "rfe = RFE(estimator=DecisionTreeClassifier(), n_features_to_select=25)\n",
    "# fit RFE\n",
    "rfe.fit(X, y)\n",
    "# summarize all features\n",
    "for i in range(X.shape[1]):\n",
    "    print('Column: %d, Selected %s, Rank: %.3f' % (i, rfe.support_[i], rfe.ranking_[i]))"
   ]
  },
  {
   "cell_type": "code",
   "execution_count": 8,
   "metadata": {},
   "outputs": [
    {
     "name": "stdout",
     "output_type": "stream",
     "text": [
      "Accuracy / F1 Score: 0.883 (0.013)\n"
     ]
    }
   ],
   "source": [
    "from sklearn.metrics import f1_score\n",
    "from sklearn.metrics import make_scorer\n",
    "f1_scorer = make_scorer(f1_score)\n",
    "\n",
    "# create pipeline\n",
    "rfe = RFE(estimator=DecisionTreeClassifier(), n_features_to_select=50)\n",
    "model = DecisionTreeClassifier()\n",
    "pipeline = Pipeline(steps=[('s',rfe),('m',model)])\n",
    "# evaluate model\n",
    "cv = RepeatedStratifiedKFold(n_splits=10, n_repeats=3, random_state=1)\n",
    "n_scores = cross_val_score(pipeline, X, y, scoring=f1_scorer, cv=cv, n_jobs=-1, error_score='raise')\n",
    "# report performance\n",
    "print('Accuracy / F1 Score: %.3f (%.3f)' % (mean(n_scores), std(n_scores)))"
   ]
  },
  {
   "cell_type": "code",
   "execution_count": 11,
   "metadata": {},
   "outputs": [
    {
     "data": {
      "text/plain": [
       "<sklearn.model_selection._split.RepeatedStratifiedKFold at 0x253ead6d608>"
      ]
     },
     "execution_count": 11,
     "metadata": {},
     "output_type": "execute_result"
    }
   ],
   "source": []
  },
  {
   "cell_type": "code",
   "execution_count": null,
   "metadata": {},
   "outputs": [],
   "source": []
  },
  {
   "cell_type": "code",
   "execution_count": null,
   "metadata": {},
   "outputs": [],
   "source": []
  }
 ],
 "metadata": {
  "kernelspec": {
   "display_name": "ml",
   "language": "python",
   "name": "ml"
  },
  "language_info": {
   "codemirror_mode": {
    "name": "ipython",
    "version": 3
   },
   "file_extension": ".py",
   "mimetype": "text/x-python",
   "name": "python",
   "nbconvert_exporter": "python",
   "pygments_lexer": "ipython3",
   "version": "3.7.7"
  }
 },
 "nbformat": 4,
 "nbformat_minor": 4
}
