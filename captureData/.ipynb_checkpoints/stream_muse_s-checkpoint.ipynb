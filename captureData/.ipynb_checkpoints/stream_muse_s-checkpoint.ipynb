{
 "cells": [
  {
   "cell_type": "markdown",
   "metadata": {},
   "source": [
    "# Stream / Record Muse S (INF: 16110) Data\n",
    "\n",
    "- **MAC Adress**: 00:55:DA:B9:19:F4\n",
    "- **Name**: MuseS-19F4"
   ]
  },
  {
   "cell_type": "code",
   "execution_count": 5,
   "metadata": {},
   "outputs": [],
   "source": [
    "#imports\n",
    "import muselsl\n",
    "from datetime import datetime"
   ]
  },
  {
   "cell_type": "code",
   "execution_count": null,
   "metadata": {},
   "outputs": [],
   "source": [
    "def streamMuseS(mac_address = \"00:55:DA:B9:19:F4\"):\n",
    "    print(\"Trying to stream to {}\".format(mac_address))\n",
    "    muselsl.stream(mac_address)\n",
    "    return False\n",
    "\n",
    "def recordMuse(duration=300, fileName=\"../../muse_data/data\", dejitter=False, data_source=\"EEG\"):\n",
    "    # add the current time to the file name\n",
    "    raise Exception(\"Use 'RecordMuseDirect()'\")\n",
    "    fileName += datetime.now().strftime(\"%Y-%m-%d_%H:%M:%S\") + \".csv\"\n",
    "    print(\"Saving to '{}'\".format(fileName))\n",
    "    print(\"Recording for {} Seconds ({} Minutes)\".format(duration, duration/60.))\n",
    "    muselsl.record(duration, fileName, dejitter, data_source)\n",
    "    \n",
    "def recordMuseDirect(duration=300, mac_address = \"00:55:DA:B9:19:F4\", fileName=None, backend='auto', interface=None, name=None):\n",
    "    \n",
    "    if fileName is None:\n",
    "        fileName = \"../../muse_data/data\"\n",
    "        fileName += datetime.now().strftime(\"%Y-%m-%d_%H:%M:%S\") + \".csv\"\n",
    "    \n",
    "    print(\"Saving to '{}'\".format(fileName))\n",
    "    print(\"Recording for {} Seconds ({} Minutes)\".format(duration, duration/60.))\n",
    "    print(\"Trying to stream to {}\".format(mac_address))\n",
    "    \n",
    "    muselsl.rec"
   ]
  },
  {
   "cell_type": "code",
   "execution_count": 17,
   "metadata": {},
   "outputs": [],
   "source": [
    "#streamMuseS()"
   ]
  },
  {
   "cell_type": "code",
   "execution_count": null,
   "metadata": {},
   "outputs": [
    {
     "name": "stdout",
     "output_type": "stream",
     "text": [
      "Saving to '../../muse_data/data2020-06-15_11:58:39.csv'\n",
      "Looking for a EEG stream...\n",
      "Started acquiring data.\n",
      "Looking for a Markers stream...\n",
      "Can't find Markers stream.\n",
      "Start recording at time t=1592215124.743\n",
      "Time correction:  -1.6140499610628467e-05\n"
     ]
    }
   ],
   "source": [
    "recordMuse()"
   ]
  },
  {
   "cell_type": "code",
   "execution_count": null,
   "metadata": {},
   "outputs": [],
   "source": []
  }
 ],
 "metadata": {
  "kernelspec": {
   "display_name": "py37-ml",
   "language": "python",
   "name": "py37-ml"
  },
  "language_info": {
   "codemirror_mode": {
    "name": "ipython",
    "version": 3
   },
   "file_extension": ".py",
   "mimetype": "text/x-python",
   "name": "python",
   "nbconvert_exporter": "python",
   "pygments_lexer": "ipython3",
   "version": "3.7.0"
  }
 },
 "nbformat": 4,
 "nbformat_minor": 4
}
