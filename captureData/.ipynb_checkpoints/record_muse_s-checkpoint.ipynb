{
 "cells": [
  {
   "cell_type": "markdown",
   "metadata": {},
   "source": [
    "# Record Muse S (INF: 16110) Data\n",
    "\n",
    "- **MAC Adress**: 00:55:DA:B9:19:F4\n",
    "- **Name**: MuseS-19F4"
   ]
  },
  {
   "cell_type": "code",
   "execution_count": 9,
   "metadata": {},
   "outputs": [],
   "source": [
    "#imports\n",
    "import muselsl\n",
    "import os\n",
    "from datetime import datetime\n",
    "\n",
    "cwd = os.getcwd()"
   ]
  },
  {
   "cell_type": "code",
   "execution_count": 10,
   "metadata": {},
   "outputs": [],
   "source": [
    "\n",
    "def recordMuse(duration=300, fileName=None, dejitter=False, data_source=\"EEG\"):\n",
    "    \n",
    "    if fileName is None:\n",
    "        fileName = os.path.join(cwd,'..', '..', 'muse_data', datetime.now().strftime(\"%Y-%m-%d_%H:%M:%S\") + \".csv\")\n",
    "        \n",
    "    print(\"Saving to '{}'\".format(fileName))\n",
    "    print(\"Recording for {} Seconds ({} Minutes)\".format(duration, duration/60.))\n",
    "    muselsl.record(duration, fileName, dejitter, data_source)\n",
    "    \n",
    "def recordMuseDirect(duration=300, mac_address = '00:55:DA:B9:19:F4', fileName=None, backend='auto', interface=None, name='MuseS-19F4'):\n",
    "    \n",
    "    if fileName is None:\n",
    "        fileName = \"../../muse_data/data\"\n",
    "        fileName += datetime.now().strftime(\"%Y-%m-%d_%H:%M:%S\") + \".csv\"\n",
    "    \n",
    "    print(\"Saving to '{}'\".format(fileName))\n",
    "    print(\"Recording for {} Seconds ({} Minutes)\".format(duration, duration/60.))\n",
    "    print(\"Trying to stream to {}\".format(mac_address))\n",
    "    \n",
    "    muselsl.record_direct(duration, mac_address, fileName, backend, interface, name)"
   ]
  },
  {
   "cell_type": "code",
   "execution_count": null,
   "metadata": {},
   "outputs": [
    {
     "name": "stdout",
     "output_type": "stream",
     "text": [
      "Saving to '/media/rapha/Data/Masterthesis/thesis_eeg/captureData/../../muse_data/data/2020-06-15_12:24:37.csv'\n",
      "Recording for 30 Seconds (0.5 Minutes)\n",
      "Looking for a EEG stream...\n",
      "Started acquiring data.\n",
      "Looking for a Markers stream...\n",
      "Can't find Markers stream.\n",
      "Start recording at time t=1592216683.092\n",
      "Time correction:  -1.1565500244614668e-05\n"
     ]
    }
   ],
   "source": [
    "recordMuse(duration=30)"
   ]
  }
 ],
 "metadata": {
  "kernelspec": {
   "display_name": "py37-ml",
   "language": "python",
   "name": "py37-ml"
  },
  "language_info": {
   "codemirror_mode": {
    "name": "ipython",
    "version": 3
   },
   "file_extension": ".py",
   "mimetype": "text/x-python",
   "name": "python",
   "nbconvert_exporter": "python",
   "pygments_lexer": "ipython3",
   "version": "3.7.0"
  }
 },
 "nbformat": 4,
 "nbformat_minor": 4
}
