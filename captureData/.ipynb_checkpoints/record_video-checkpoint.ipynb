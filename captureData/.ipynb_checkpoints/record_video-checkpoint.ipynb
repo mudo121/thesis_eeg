{
 "cells": [
  {
   "cell_type": "markdown",
   "metadata": {},
   "source": [
    "# Record a video input\n",
    "\n",
    "- cv2 problem: https://stackoverflow.com/questions/43019951/after-install-ros-kinetic-cannot-import-opencv\n",
    "- capture video with cv2: https://www.codespeedy.com/save-webcam-video-in-python-using-opencv/"
   ]
  },
  {
   "cell_type": "code",
   "execution_count": 10,
   "metadata": {},
   "outputs": [],
   "source": [
    "# imports\n",
    "import cv2\n",
    "import os\n",
    "from datetime import datetime\n",
    "\n",
    "# datetime object containing current date and time\n",
    "now = datetime.now()\n",
    "dataDir = \"./../../EEG_Data/video_data/\""
   ]
  },
  {
   "cell_type": "code",
   "execution_count": 13,
   "metadata": {},
   "outputs": [
    {
     "data": {
      "text/plain": [
       "'2020-06-17_13:18:21'"
      ]
     },
     "execution_count": 13,
     "metadata": {},
     "output_type": "execute_result"
    }
   ],
   "source": []
  },
  {
   "cell_type": "code",
   "execution_count": null,
   "metadata": {},
   "outputs": [],
   "source": [
    "#Capture video from webcam\n",
    "vid_capture = cv2.VideoCapture(0)\n",
    "vid_cod = cv2.VideoWriter_fourcc(*'XVID')\n",
    "\n",
    "outputFilePath = os.path.join(dataDir, '{}_cam_video.mp4'.format(now.strftime(\"%Y-%m-%d_%H:%M:%S\")))\n",
    "output = cv2.VideoWriter(outputFilePath, vid_cod, 20.0, (480,320))\n",
    "\n",
    "while(True):\n",
    "    # Capture each frame of webcam video\n",
    "    ret,frame = vid_capture.read()\n",
    "    cv2.imshow(\"Camera - Driver Seat\", frame)\n",
    "    output.write(frame)\n",
    "    # Close and break the loop after pressing \"x\" key\n",
    "    if cv2.waitKey(1) &0XFF == ord('x'):\n",
    "        break\n",
    "\n",
    "# close the already opened camera\n",
    "vid_capture.release()\n",
    "# close the already opened file\n",
    "output.release()\n",
    "# close the window and de-allocate any associated memory usage\n",
    "cv2.destroyAllWindows()"
   ]
  }
 ],
 "metadata": {
  "kernelspec": {
   "display_name": "py37-ml",
   "language": "python",
   "name": "py37-ml"
  },
  "language_info": {
   "codemirror_mode": {
    "name": "ipython",
    "version": 3
   },
   "file_extension": ".py",
   "mimetype": "text/x-python",
   "name": "python",
   "nbconvert_exporter": "python",
   "pygments_lexer": "ipython3",
   "version": "3.7.0"
  }
 },
 "nbformat": 4,
 "nbformat_minor": 4
}
