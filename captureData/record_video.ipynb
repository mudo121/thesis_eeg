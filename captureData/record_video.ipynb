{
 "cells": [
  {
   "cell_type": "markdown",
   "metadata": {},
   "source": [
    "# Record a video input\n",
    "\n",
    "- cv2 problem: https://stackoverflow.com/questions/43019951/after-install-ros-kinetic-cannot-import-opencv\n",
    "- capture video with cv2: https://www.codespeedy.com/save-webcam-video-in-python-using-opencv/"
   ]
  },
  {
   "cell_type": "code",
   "execution_count": 3,
   "metadata": {},
   "outputs": [],
   "source": [
    "# imports\n",
    "import cv2\n",
    "import os\n",
    "from datetime import datetime\n",
    "\n",
    "# datetime object containing current date and time\n",
    "now = datetime.now()\n",
    "cwd = os.getcwd()\n",
    "\n",
    "dataDir = os.path.join(cwd, '..', '..', 'EEG_Data', 'video_data')"
   ]
  },
  {
   "cell_type": "code",
   "execution_count": 5,
   "metadata": {},
   "outputs": [
    {
     "name": "stdout",
     "output_type": "stream",
     "text": [
      "Saving Video to '/media/rapha/Data/Masterthesis/thesis_eeg/captureData/../../EEG_Data/video_data/2020-06-23_15:27:35_cam_video.avi'\n",
      "Resolution: (640, 480)\n",
      "Close Video recording\n"
     ]
    }
   ],
   "source": [
    "#Capture video from webcam\n",
    "cap = cv2.VideoCapture(0) # Can be 0 or 1, is never stable\n",
    "fourcc = cv2.VideoWriter_fourcc(*'XVID') # ubuntu only maybe\n",
    "#fourcc = cv2.VideoWriter_fourcc('M','J','P','G')\n",
    "#fourcc = cv2.VideoWriter_fourcc('F','M','P','4')\n",
    "\n",
    "outputFilePath = os.path.join(dataDir, '{}_cam_video.avi'.format(now.strftime(\"%Y-%m-%d_%H:%M:%S\")))\n",
    "print(\"Saving Video to '{}'\".format(outputFilePath))\n",
    "fps = 30.0\n",
    "resolution = (int(cap.get(3)),int(cap.get(4))) # use the resolution from the input device\n",
    "#resolution = (1280,720)\n",
    "#resolution = (1920, 1080)\n",
    "print(\"Resolution: {}\".format(resolution))\n",
    "out = cv2.VideoWriter(outputFilePath, fourcc, fps, resolution)\n",
    "\n",
    "while(cap.isOpened()):\n",
    "    ret, frame = cap.read()\n",
    "    if ret==True:\n",
    "        #frame = cv2.flip(frame,0)\n",
    "        # write the flipped frame\n",
    "        out.write(frame)\n",
    "\n",
    "        cv2.imshow('frame',frame)\n",
    "        if cv2.waitKey(1) & 0xFF == ord('q'):\n",
    "            break\n",
    "    else:\n",
    "        break\n",
    "\n",
    "print(\"Close Video recording\")\n",
    "# Release everything if job is finished\n",
    "cap.release()\n",
    "out.release()\n",
    "cv2.destroyAllWindows()"
   ]
  }
 ],
 "metadata": {
  "kernelspec": {
   "display_name": "py37-ml",
   "language": "python",
   "name": "py37-ml"
  },
  "language_info": {
   "codemirror_mode": {
    "name": "ipython",
    "version": 3
   },
   "file_extension": ".py",
   "mimetype": "text/x-python",
   "name": "python",
   "nbconvert_exporter": "python",
   "pygments_lexer": "ipython3",
   "version": "3.7.0"
  }
 },
 "nbformat": 4,
 "nbformat_minor": 4
}
