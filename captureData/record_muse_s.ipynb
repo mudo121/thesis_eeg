{
 "cells": [
  {
   "cell_type": "markdown",
   "metadata": {},
   "source": [
    "# Record Muse S (INF: 16110) Data\n",
    "\n",
    "- **MAC Adress**: 00:55:DA:B9:19:F4\n",
    "- **Name**: MuseS-19F4"
   ]
  },
  {
   "cell_type": "code",
   "execution_count": 9,
   "metadata": {},
   "outputs": [],
   "source": [
    "#imports\n",
    "import muselsl\n",
    "import os\n",
    "from datetime import datetime\n",
    "\n",
    "cwd = os.getcwd()"
   ]
  },
  {
   "cell_type": "code",
   "execution_count": 18,
   "metadata": {},
   "outputs": [],
   "source": [
    "\n",
    "def recordMuse(duration=300, fileName=None, dejitter=False, data_source=\"EEG\"):\n",
    "    \n",
    "    if fileName is None:\n",
    "        fileName = os.path.join(cwd, '..', '..', 'EEG_Data', 'muse_data', \"{}_{}.csv\".format(datetime.now().strftime(\"%Y-%m-%d_%H:%M:%S\"), duration))\n",
    "        \n",
    "    print(\"Saving to '{}'\".format(fileName))\n",
    "    print(\"Recording for {} Seconds ({} Minutes)\".format(duration, duration/60.))\n",
    "    muselsl.record(duration, fileName, dejitter, data_source)\n",
    "    \n",
    "def recordMuseDirect(duration=300, mac_address = '00:55:DA:B9:19:F4', fileName=None, backend='auto', interface=None, name='MuseS-19F4'):\n",
    "    \n",
    "    if fileName is None:\n",
    "        fileName = \"../../muse_data/data\"\n",
    "        fileName += datetime.now().strftime(\"%Y-%m-%d_%H:%M:%S\") + \".csv\"\n",
    "    \n",
    "    print(\"Saving to '{}'\".format(fileName))\n",
    "    print(\"Recording for {} Seconds ({} Minutes)\".format(duration, duration/60.))\n",
    "    print(\"Trying to stream to {}\".format(mac_address))\n",
    "    \n",
    "    muselsl.record_direct(duration, mac_address, fileName, backend, interface, name)"
   ]
  },
  {
   "cell_type": "code",
   "execution_count": 17,
   "metadata": {},
   "outputs": [
    {
     "name": "stdout",
     "output_type": "stream",
     "text": [
      "Saving to '/media/rapha/Data/Masterthesis/thesis_eeg/captureData/../../EEG_Data/muse_data/2020-06-15_12:29:14.csv'\n",
      "Recording for 300 Seconds (5.0 Minutes)\n",
      "Looking for a EEG stream...\n",
      "Started acquiring data.\n",
      "Looking for a Markers stream...\n",
      "Can't find Markers stream.\n",
      "Start recording at time t=1592216959.824\n",
      "Time correction:  1.720199998089811e-05\n",
      "Time correction:  -2.735599991865456e-05\n",
      "Done - wrote file: /media/rapha/Data/Masterthesis/thesis_eeg/captureData/../../EEG_Data/muse_data/2020-06-15_12:29:14.csv.\n"
     ]
    }
   ],
   "source": [
    "recordMuse(duration=300)"
   ]
  }
 ],
 "metadata": {
  "kernelspec": {
   "display_name": "py37-ml",
   "language": "python",
   "name": "py37-ml"
  },
  "language_info": {
   "codemirror_mode": {
    "name": "ipython",
    "version": 3
   },
   "file_extension": ".py",
   "mimetype": "text/x-python",
   "name": "python",
   "nbconvert_exporter": "python",
   "pygments_lexer": "ipython3",
   "version": "3.7.0"
  }
 },
 "nbformat": 4,
 "nbformat_minor": 4
}
