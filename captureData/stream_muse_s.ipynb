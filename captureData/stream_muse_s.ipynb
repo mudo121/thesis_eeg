{
 "cells": [
  {
   "cell_type": "markdown",
   "metadata": {},
   "source": [
    "# Stream Muse S (INF: 16110) Data\n",
    "\n",
    "- **MAC Adress**: 00:55:DA:B9:19:F4\n",
    "- **Name**: MuseS-19F4"
   ]
  },
  {
   "cell_type": "code",
   "execution_count": 1,
   "metadata": {},
   "outputs": [],
   "source": [
    "#imports\n",
    "import muselsl\n",
    "from datetime import datetime"
   ]
  },
  {
   "cell_type": "code",
   "execution_count": 2,
   "metadata": {},
   "outputs": [],
   "source": [
    "def streamMuseS(mac_address = \"00:55:DA:B9:19:F4\"):\n",
    "    print(\"Trying to stream to {}\".format(mac_address))\n",
    "    muselsl.stream(mac_address, interface='hci1') # hci0 = internal | hci1 = external device\n",
    "    return False\n"
   ]
  },
  {
   "cell_type": "code",
   "execution_count": 3,
   "metadata": {},
   "outputs": [
    {
     "name": "stdout",
     "output_type": "stream",
     "text": [
      "Trying to stream to 00:55:DA:B9:19:F4\n",
      "Connecting to Muse: 00:55:DA:B9:19:F4...\n",
      "Connected.\n",
      "Streaming EEG...\n",
      "Disconnected.\n"
     ]
    },
    {
     "data": {
      "text/plain": [
       "False"
      ]
     },
     "execution_count": 3,
     "metadata": {},
     "output_type": "execute_result"
    }
   ],
   "source": [
    "def fail_safe_stream_muse_s(retries = 3):\n",
    "    while(retries != 0):\n",
    "        streamMuseS()\n",
    "        print(\"Retrying to stream with Muse...\")\n",
    "        retries -= 1\n",
    "    \n",
    "    print(\"Tried to connect to the Muse now {} times. Aborting...\".format(retries))\n",
    "    \n",
    "\n",
    "streamMuseS()\n",
    "\n",
    "#fail_safe_stream_muse_s()"
   ]
  },
  {
   "cell_type": "code",
   "execution_count": null,
   "metadata": {},
   "outputs": [],
   "source": []
  }
 ],
 "metadata": {
  "kernelspec": {
   "display_name": "py37-ml",
   "language": "python",
   "name": "py37-ml"
  },
  "language_info": {
   "codemirror_mode": {
    "name": "ipython",
    "version": 3
   },
   "file_extension": ".py",
   "mimetype": "text/x-python",
   "name": "python",
   "nbconvert_exporter": "python",
   "pygments_lexer": "ipython3",
   "version": "3.7.0"
  }
 },
 "nbformat": 4,
 "nbformat_minor": 4
}
