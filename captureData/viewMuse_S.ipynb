{
 "cells": [
  {
   "cell_type": "markdown",
   "metadata": {},
   "source": [
    "# View Muse Stream\n",
    "\n",
    "- Doesnt really work in Jupyter\n",
    "- Call `muselsl view --backend Qt5Agg` in your terminal"
   ]
  },
  {
   "cell_type": "code",
   "execution_count": 7,
   "metadata": {},
   "outputs": [
    {
     "name": "stderr",
     "output_type": "stream",
     "text": [
      "/home/rapha/venv/py37-ml/lib/python3.7/site-packages/matplotlib/backends/backend_gtk3.py:195: Warning: Source ID 8 was not found when attempting to remove it\n",
      "  GLib.source_remove(self._idle_draw_id)\n"
     ]
    }
   ],
   "source": [
    "#imports\n",
    "%matplotlib notebook\n",
    "import muselsl"
   ]
  },
  {
   "cell_type": "code",
   "execution_count": 10,
   "metadata": {},
   "outputs": [
    {
     "name": "stdout",
     "output_type": "stream",
     "text": [
      "Looking for an EEG stream...\n",
      "Start acquiring data.\n",
      "\n",
      "                toggle filter : d\n",
      "                toogle full screen : f\n",
      "                zoom out : /\n",
      "                zoom in : *\n",
      "                increase time scale : -\n",
      "                decrease time scale : +\n",
      "               \n"
     ]
    }
   ],
   "source": [
    "muselsl.view(window=5, scale=100, refresh=0.2, figure=\"15x6\", version=1, backend='Qt5Agg')"
   ]
  },
  {
   "cell_type": "code",
   "execution_count": null,
   "metadata": {},
   "outputs": [],
   "source": []
  },
  {
   "cell_type": "code",
   "execution_count": null,
   "metadata": {},
   "outputs": [],
   "source": []
  }
 ],
 "metadata": {
  "kernelspec": {
   "display_name": "py37-ml",
   "language": "python",
   "name": "py37-ml"
  },
  "language_info": {
   "codemirror_mode": {
    "name": "ipython",
    "version": 3
   },
   "file_extension": ".py",
   "mimetype": "text/x-python",
   "name": "python",
   "nbconvert_exporter": "python",
   "pygments_lexer": "ipython3",
   "version": "3.7.0"
  }
 },
 "nbformat": 4,
 "nbformat_minor": 4
}
