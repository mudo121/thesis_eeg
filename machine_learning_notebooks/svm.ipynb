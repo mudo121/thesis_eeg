{
 "cells": [
  {
   "cell_type": "markdown",
   "metadata": {},
   "source": [
    "# Support Vector Machine"
   ]
  },
  {
   "cell_type": "code",
   "execution_count": 1,
   "metadata": {},
   "outputs": [
    {
     "name": "stdout",
     "output_type": "stream",
     "text": [
      "D:\\Masterthesis\\thesis_eeg\\code\n"
     ]
    },
    {
     "name": "stderr",
     "output_type": "stream",
     "text": [
      "Using TensorFlow backend.\n"
     ]
    }
   ],
   "source": [
    "# Imports\n",
    "import os, sys\n",
    "import numpy as np\n",
    "import matplotlib.pyplot as plt\n",
    "\n",
    "from sklearn import svm\n",
    "from sklearn.metrics import accuracy_score\n",
    "from sklearn.model_selection import KFold\n",
    "\n",
    "# to enable local imports\n",
    "module_path = os.path.abspath('../code')\n",
    "print(module_path)\n",
    "if module_path not in sys.path:\n",
    "    sys.path.append(module_path)\n",
    "\n",
    "from machine_learning_data_generation import loadOnlineEEGdata"
   ]
  },
  {
   "cell_type": "markdown",
   "metadata": {},
   "source": [
    "### K Fold Validierung - Owm implementation\n",
    "You don't have to use this because sklearn offers the same as a function already `sklearn.model_selection.cross_val_score`"
   ]
  },
  {
   "cell_type": "code",
   "execution_count": 51,
   "metadata": {},
   "outputs": [],
   "source": [
    "# load the data\n",
    "# load the dataset\n",
    "#eegData, freqData = loadOnlineEEGdata(splitData=False)\n",
    "#eegX, eegy = eegData\n",
    "#freqX, freqy = freqData\n",
    "\n",
    "def testSvmFold(X, y, fold = 10, shuffle=True):\n",
    "    \n",
    "    scores = []\n",
    "    kfold = KFold(fold, shuffle=shuffle)\n",
    "    for train_index, test_index in kfold.split(X):\n",
    "        #print(\"TRAIN:\", train_index, \"TEST:\", test_index)\n",
    "        # define train/test X/y\n",
    "        X_train, X_test = X[train_index], X[test_index]\n",
    "        y_train, y_test = y[train_index], y[test_index]\n",
    "        \n",
    "        # define model\n",
    "        C = 1.0  # SVM regularization parameter\n",
    "        #odels = svm.SVC(kernel='linear', C=C)\n",
    "        #odel = svm.LinearSVC(C=C, max_iter=10000)\n",
    "        model = svm.SVC(kernel='rbf', gamma=0.7, C=C)\n",
    "        #model = svm.SVC(kernel='poly', degree=3, gamma='auto', C=C)\n",
    "\n",
    "        # fit model on train set\n",
    "        model.fit(X_train, y_train)\n",
    "\n",
    "        # forecast test set\n",
    "        yhat = model.predict(X_test)\n",
    "\n",
    "        # evaluate predictions\n",
    "        score = accuracy_score(y_test, yhat)\n",
    "        # store\n",
    "\n",
    "        scores.append(score)\n",
    "        print('>%.3f' % score)\n",
    "        \n",
    "    # calculate mean score across each run\n",
    "    print('Final Score: %.3f' % (np.mean(scores)))\n",
    "    \n",
    "# Test with Frequency Data\n",
    "#testSvmFold(X=freqX.reshape(1440,1200), y=freqy, fold=10, shuffle=True)\n",
    "\n",
    "# Test with EEG Data\n",
    "#testSvmFold(X=eegX[:, :, 6], y=eegy, fold=2, shuffle=True)"
   ]
  },
  {
   "cell_type": "code",
   "execution_count": 4,
   "metadata": {},
   "outputs": [
    {
     "name": "stdout",
     "output_type": "stream",
     "text": [
      "Loading Online EEG Data from D:/Masterthesis/EEG_Data/eeg_data_online ...\n",
      "EEG Data Shape:\n",
      "(5024, 512, 40) (5024,) (2154, 512, 40) (2154,)\n",
      "Freq Data Shape:\n",
      "(1008, 1, 1200) (1008,) (432, 1, 1200) (432,)\n",
      "Entropy Data Shape:\n",
      "(5024, 1, 200) (5024,) (2154, 1, 200) (2154,)\n"
     ]
    }
   ],
   "source": [
    "# Load some online EEG Data\n",
    "eegData, freqData, entropyData = loadOnlineEEGdata(splitData=True)\n",
    "eegX_train, eegy_train, eegX_test, eegy_test = eegData\n",
    "freqX_train, freqy_train, freqX_test, freqy_test = freqData\n",
    "X_train_entropy, y_train_enoptry, X_test_entropy, y_test_entropy = entropyData\n",
    "\n",
    "# reshape\n",
    "freqX_train = freqX_train.reshape(freqX_train.shape[0], freqX_train.shape[2])\n",
    "freqX_test = freqX_test.reshape(freqX_test.shape[0], freqX_test.shape[2])\n",
    "\n",
    "X_train_entropy = X_train_entropy.reshape(X_train_entropy.shape[0], X_train_entropy.shape[2])\n",
    "X_test_entropy = X_test_entropy.reshape(X_test_entropy.shape[0], X_test_entropy.shape[2])"
   ]
  },
  {
   "cell_type": "code",
   "execution_count": null,
   "metadata": {},
   "outputs": [],
   "source": []
  },
  {
   "cell_type": "markdown",
   "metadata": {},
   "source": [
    "# Create & Evaluate Model\n",
    "- Here we create a very simpel Support Vector Machine Model\n",
    "- Then we use `cross_val_score` to get some Accuracies (uses kfold)\n",
    "- Then we use `cross_val_predict` to get some predictions (uses kfold)\n",
    "- With the predictions we can measure how good the model is\n",
    "    - We create a confusions matrix\n",
    "    - We calculate the Precision\n",
    "    - We calculate the F1 Score"
   ]
  },
  {
   "cell_type": "code",
   "execution_count": 5,
   "metadata": {},
   "outputs": [
    {
     "name": "stdout",
     "output_type": "stream",
     "text": [
      "Calculating cross val scores...\n",
      "Cross val scores (Accuracies): [0.87077535 0.64811133 0.58846918 0.69781312 0.60956175 0.85258964\n",
      " 0.6374502  0.74900398 0.43227092 0.68924303]\n",
      "\n",
      "Caclulating cross val predictions...\n",
      "\n",
      "Confusion Matrix\n",
      "------------------------\n",
      "True Negative:   380 - False Positive: 100\n",
      "False Negatives: 137 - True positive:  391\n",
      "----------------------\n",
      "Precision: 0.7963340122199593 \n",
      "Recall:    0.740530303030303\n",
      "F1 Score:  0.7674190382728164\n"
     ]
    }
   ],
   "source": [
    "from sklearn.metrics import precision_score, recall_score, f1_score, confusion_matrix\n",
    "from sklearn.model_selection import cross_val_predict, cross_val_score\n",
    "\n",
    "# Create a model\n",
    "model = svm.SVC(kernel='rbf', gamma=0.3, C=1.0)\n",
    "\n",
    "# generate cross val score\n",
    "kfoldTimes = 10\n",
    "print(\"Calculating cross val scores...\")\n",
    "print(\"Cross val scores (Accuracies): {}\".format(cross_val_score(model, X_train_entropy, y_train_enoptry, cv=kfoldTimes, scoring=\"accuracy\")))\n",
    "\n",
    "# make predictions with the model\n",
    "print(\"\\nCaclulating cross val predictions...\")\n",
    "y_train_pred = cross_val_predict(model, freqX_train, freqy_train, cv=kfoldTimes)\n",
    "\n",
    "\n",
    "svm_confusionMatrix = confusion_matrix(freqy_train, y_train_pred)\n",
    "print(\"\"\"\\nConfusion Matrix\\n------------------------\n",
    "True Negative:   {tn} - False Positive: {fp}\n",
    "False Negatives: {fn} - True positive:  {tp}\"\"\".format(tn=svm_confusionMatrix[0][0],\n",
    "                                                       fp=svm_confusionMatrix[0][1],\n",
    "                                                       fn=svm_confusionMatrix[1][0],\n",
    "                                                       tp=svm_confusionMatrix[1][1]))\n",
    "\n",
    "print(\"----------------------\")\n",
    "print(\"Precision: {} \".format(precision_score(freqy_train, y_train_pred)))\n",
    "print(\"Recall:    {}\".format(recall_score(freqy_train, y_train_pred)))\n",
    "print(\"F1 Score:  {}\".format(f1_score(freqy_train, y_train_pred)))"
   ]
  },
  {
   "cell_type": "markdown",
   "metadata": {},
   "source": [
    "# Find best parameters for the SVM\n",
    "Now we try to find the best parameters for the Support Vector Machine"
   ]
  },
  {
   "cell_type": "code",
   "execution_count": 55,
   "metadata": {},
   "outputs": [],
   "source": [
    "from sklearn.model_selection import GridSearchCV\n",
    "\n",
    "# Create a model to test\n",
    "svm_model = svm.SVC()\n",
    "\n",
    "# Create a parameter grid - here you specifiy which combinations you want to test\n",
    "param_grid = [\n",
    "    {'kernel': ['rbf'], 'gamma': [0.1, 0.3, 0.5, 0.75, 1], 'C': [0.2, 0.5, 0.75, 1, 5]},\n",
    "    {'kernel': ['poly'], 'degree': [2, 3, 5, 10], 'C': [0.5, 1, 5], 'coef0' : [1, 10, 100]},\n",
    "]\n",
    "\n",
    "kFoldTimes = 8\n",
    "\n",
    "# create a grid search\n",
    "grid_search = GridSearchCV(svm_model, param_grid, cv=kFoldTimes,\n",
    "                            scoring='accuracy',\n",
    "                            return_train_score=True)\n",
    "\n",
    "# fit it with the data\n",
    "result = grid_search.fit(freqX_train, freqy_train)"
   ]
  }
 ],
 "metadata": {
  "kernelspec": {
   "display_name": "ml",
   "language": "python",
   "name": "ml"
  },
  "language_info": {
   "codemirror_mode": {
    "name": "ipython",
    "version": 3
   },
   "file_extension": ".py",
   "mimetype": "text/x-python",
   "name": "python",
   "nbconvert_exporter": "python",
   "pygments_lexer": "ipython3",
   "version": "3.7.6"
  }
 },
 "nbformat": 4,
 "nbformat_minor": 4
}
