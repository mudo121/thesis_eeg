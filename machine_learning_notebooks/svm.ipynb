{
 "cells": [
  {
   "cell_type": "markdown",
   "metadata": {},
   "source": [
    "# Support Vector Machine"
   ]
  },
  {
   "cell_type": "code",
   "execution_count": 1,
   "metadata": {},
   "outputs": [
    {
     "name": "stdout",
     "output_type": "stream",
     "text": [
      "D:\\Masterthesis\\thesis_eeg\\code\n"
     ]
    },
    {
     "name": "stderr",
     "output_type": "stream",
     "text": [
      "Using TensorFlow backend.\n"
     ]
    }
   ],
   "source": [
    "# Imports\n",
    "import os, sys\n",
    "import numpy as np\n",
    "\n",
    "from sklearn import svm\n",
    "from sklearn.metrics import accuracy_score\n",
    "from sklearn.model_selection import KFold\n",
    "\n",
    "# to enable local imports\n",
    "module_path = os.path.abspath('../code')\n",
    "print(module_path)\n",
    "if module_path not in sys.path:\n",
    "    sys.path.append(module_path)\n",
    "\n",
    "from machine_learning_data_generation import loadOnlineEEGdata"
   ]
  },
  {
   "cell_type": "code",
   "execution_count": 2,
   "metadata": {},
   "outputs": [
    {
     "name": "stdout",
     "output_type": "stream",
     "text": [
      "Loading Online EEG Data from D:/Masterthesis/EEG_Data/eeg_data_online ...\n",
      "Data does not get splitted into train and test!\n",
      "EEG Data Shape:\n",
      "(7178, 512, 40) (7178,)\n",
      "Freq Data Shape:\n",
      "(1440, 1, 1200) (1440,)\n"
     ]
    }
   ],
   "source": [
    "# load the data\n",
    "# load the dataset\n",
    "eegData, freqData = loadOnlineEEGdata(splitData=False)\n",
    "eegX, eegy = eegData\n",
    "freqX, freqy = freqData"
   ]
  },
  {
   "cell_type": "code",
   "execution_count": 5,
   "metadata": {},
   "outputs": [],
   "source": [
    "def testSvmFold(X, y, fold = 10, shuffle=True):\n",
    "    \n",
    "    scores = []\n",
    "    kfold = KFold(fold, shuffle=shuffle)\n",
    "    for train_index, test_index in kfold.split(X):\n",
    "        #print(\"TRAIN:\", train_index, \"TEST:\", test_index)\n",
    "        # define train/test X/y\n",
    "        X_train, X_test = X[train_index], X[test_index]\n",
    "        y_train, y_test = y[train_index], y[test_index]\n",
    "        \n",
    "        # define model\n",
    "        C = 1.0  # SVM regularization parameter\n",
    "        #odels = svm.SVC(kernel='linear', C=C)\n",
    "        #odel = svm.LinearSVC(C=C, max_iter=10000)\n",
    "        model = svm.SVC(kernel='rbf', gamma=0.7, C=C)\n",
    "        #model = svm.SVC(kernel='poly', degree=3, gamma='auto', C=C)\n",
    "\n",
    "        # fit model on train set\n",
    "        model.fit(X_train, y_train)\n",
    "\n",
    "        # forecast test set\n",
    "        yhat = model.predict(X_test)\n",
    "\n",
    "        # evaluate predictions\n",
    "        score = accuracy_score(y_test, yhat)\n",
    "        # store\n",
    "\n",
    "        scores.append(score)\n",
    "        print('>%.3f' % score)\n",
    "        \n",
    "    # calculate mean score across each run\n",
    "    print('Final Score: %.3f' % (np.mean(scores)))"
   ]
  },
  {
   "cell_type": "code",
   "execution_count": 8,
   "metadata": {},
   "outputs": [
    {
     "name": "stdout",
     "output_type": "stream",
     "text": [
      ">0.889\n",
      ">0.896\n",
      ">0.951\n",
      ">0.931\n",
      ">0.896\n",
      ">0.944\n",
      ">0.903\n",
      ">0.910\n",
      ">0.882\n",
      ">0.924\n",
      "Final Score: 0.912\n"
     ]
    }
   ],
   "source": [
    "testSvmFold(X=freqX.reshape(1440,1200), y=freqy, fold=10, shuffle=True)"
   ]
  },
  {
   "cell_type": "code",
   "execution_count": 12,
   "metadata": {},
   "outputs": [
    {
     "name": "stdout",
     "output_type": "stream",
     "text": [
      ">0.494\n",
      ">0.494\n",
      "Final Score: 0.494\n"
     ]
    }
   ],
   "source": [
    "testSvmFold(X=eegX[:, :, 6], y=eegy, fold=2, shuffle=True)"
   ]
  }
 ],
 "metadata": {
  "kernelspec": {
   "display_name": "ml",
   "language": "python",
   "name": "ml"
  },
  "language_info": {
   "codemirror_mode": {
    "name": "ipython",
    "version": 3
   },
   "file_extension": ".py",
   "mimetype": "text/x-python",
   "name": "python",
   "nbconvert_exporter": "python",
   "pygments_lexer": "ipython3",
   "version": "3.7.6"
  }
 },
 "nbformat": 4,
 "nbformat_minor": 4
}
