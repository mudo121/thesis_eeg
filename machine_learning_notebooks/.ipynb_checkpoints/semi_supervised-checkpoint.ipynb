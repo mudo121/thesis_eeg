{
 "cells": [
  {
   "cell_type": "markdown",
   "metadata": {},
   "source": [
    "# Semi-Supervised Training\n",
    "An attempt to train something in a semi-supervised manner\n",
    "\n",
    "https://scikit-learn.org/stable/modules/label_propagation.html"
   ]
  },
  {
   "cell_type": "code",
   "execution_count": 19,
   "metadata": {},
   "outputs": [
    {
     "name": "stdout",
     "output_type": "stream",
     "text": [
      "D:\\Masterthesis\\thesis_eeg\\code\n"
     ]
    }
   ],
   "source": [
    "# Imports\n",
    "import os, sys\n",
    "import numpy as np\n",
    "\n",
    "from sklearn.metrics import accuracy_score\n",
    "from sklearn.model_selection import KFold\n",
    "from sklearn.neighbors import KNeighborsClassifier\n",
    "from numpy import mean\n",
    "\n",
    "# to enable local imports\n",
    "module_path = os.path.abspath('../code')\n",
    "print(module_path)\n",
    "if module_path not in sys.path:\n",
    "    sys.path.append(module_path)\n",
    "\n",
    "from machine_learning_data_generation import loadPickeldDataset, createXyFromFrequencyDf, loadOnlineEEGdata\n",
    "from consts import TARGET_FATIGUE, TARGET_NORMAL, TARGET_UNLABELED"
   ]
  },
  {
   "cell_type": "code",
   "execution_count": 2,
   "metadata": {},
   "outputs": [
    {
     "name": "stdout",
     "output_type": "stream",
     "text": [
      "Load Subject 1 Data...\n",
      "Load Subject 10 Data...\n",
      "Load Subject 11 Data...\n",
      "Load Subject 12 Data...\n",
      "Load Subject 2 Data...\n",
      "Load Subject 3 Data...\n",
      "Load Subject 4 Data...\n",
      "Load Subject 5 Data...\n",
      "Load Subject 6 Data...\n",
      "Load Subject 7 Data...\n",
      "Load Subject 8 Data...\n",
      "Load Subject 9 Data...\n"
     ]
    }
   ],
   "source": [
    "eegDataset = loadPickeldDataset(\"D:/Masterthesis/EEG_Data/eeg_data_online\")"
   ]
  },
  {
   "cell_type": "code",
   "execution_count": 22,
   "metadata": {},
   "outputs": [],
   "source": [
    "EPOCH_SERIES = 0\n",
    "FREQ_DF = 1\n",
    "\n",
    "TARGET_LABEL_DICT = {TARGET_NORMAL : 0,\n",
    "                     TARGET_UNLABELED : -1,\n",
    "                     TARGET_FATIGUE : 1}\n",
    "\n",
    "\n",
    "def createSemiSupervisedDataFromOnlineEegData(eegDataset, target_label_dict, normalData = 0.3) -> (((np.array, np.array)),(np.array, np.array)):\n",
    "    ''' This functions creates Data for testing semi-supervised learning techniques\n",
    "    \n",
    "    The data creates normal and unlabeled data. For both it creates an X and y\n",
    "    '''\n",
    "    X_frequency_features_normal = None\n",
    "    y_frequency_features_normal = None\n",
    "    \n",
    "    X_frequency_features_unlabeled = None\n",
    "    y_frequency_features_unlabeled = None\n",
    "\n",
    "\n",
    "    for subject in eegDataset:\n",
    "        #print(\"Processing Subject {}...\".format(subject))\n",
    "        \n",
    "        # calculate how much rows of each data goes to unlabeled and how much to the normal data\n",
    "        normalDataPercentage = len(eegDataset[subject][TARGET_NORMAL][FREQ_DF]) - int(len(eegDataset[subject][TARGET_NORMAL][FREQ_DF]) * (1.0-normalData))\n",
    "\n",
    "        normalDf = eegDataset[subject][TARGET_NORMAL][FREQ_DF][0:normalDataPercentage]\n",
    "        unlabeledDf = eegDataset[subject][TARGET_NORMAL][FREQ_DF][normalDataPercentage::]\n",
    "\n",
    "        # Create X,y from the frequency features - normal\n",
    "        tempX_freq_normal, tempy_freq_normal = createXyFromFrequencyDf(freqDf = normalDf,\n",
    "                                                         target = target_label_dict[TARGET_NORMAL])\n",
    "        \n",
    "        try:\n",
    "            X_frequency_features_normal = np.concatenate((X_frequency_features_normal, tempX_freq_normal))\n",
    "            y_frequency_features_normal = np.concatenate((y_frequency_features_normal, tempy_freq_normal))\n",
    "        except ValueError: # happens the first, when the init value is none\n",
    "            X_frequency_features_normal = tempX_freq_normal\n",
    "            y_frequency_features_normal = tempy_freq_normal\n",
    "        \n",
    "        \n",
    "        \n",
    "        # Create X,y from the frequency features - normal but into the unlabeled df\n",
    "        tempX_freq_unlabeled, tempy_freq_unlabeled = createXyFromFrequencyDf(freqDf = unlabeledDf,\n",
    "                                                         target = target_label_dict[TARGET_UNLABELED])\n",
    "        \n",
    "        try:\n",
    "            X_frequency_features_unlabeled = np.concatenate((X_frequency_features_unlabeled, tempX_freq_unlabeled))\n",
    "            y_frequency_features_unlabeled = np.concatenate((y_frequency_features_unlabeled, tempy_freq_unlabeled))\n",
    "        except ValueError: # happens the first, when the init value is none\n",
    "            X_frequency_features_unlabeled = tempX_freq_unlabeled\n",
    "            y_frequency_features_unlabeled = tempy_freq_unlabeled\n",
    "            \n",
    "            \n",
    "        # Create X,y from the frequency features - fatigue but into the unlabeled df\n",
    "        tempX_freq_unlabeled, tempy_freq_unlabeled = createXyFromFrequencyDf(freqDf = eegDataset[subject][TARGET_FATIGUE][FREQ_DF],\n",
    "                                                                             target = target_label_dict[TARGET_UNLABELED])\n",
    "        \n",
    "        X_frequency_features_unlabeled = np.concatenate((X_frequency_features_unlabeled, tempX_freq_unlabeled))\n",
    "        y_frequency_features_unlabeled = np.concatenate((y_frequency_features_unlabeled, tempy_freq_unlabeled))\n",
    "            \n",
    "        \n",
    "\n",
    "    print(\"Finished creating normal/unlabeled Freq Data\")\n",
    "    return ((X_frequency_features_normal, y_frequency_features_normal),(X_frequency_features_unlabeled, y_frequency_features_unlabeled))"
   ]
  },
  {
   "cell_type": "code",
   "execution_count": 23,
   "metadata": {},
   "outputs": [
    {
     "name": "stdout",
     "output_type": "stream",
     "text": [
      "Finished creating normal/unlabeled Freq Data\n"
     ]
    }
   ],
   "source": [
    "freq_normal, freq_unlabeled = createSemiSupervisedDataFromOnlineEegData(eegDataset, TARGET_LABEL_DICT)\n",
    "X_freq_normal = freq_normal[0]\n",
    "y_freq_normal = freq_normal[1]\n",
    "\n",
    "X_freq_unlabeled = freq_unlabeled[0]\n",
    "y_freq_unlabeled = freq_unlabeled[1]"
   ]
  },
  {
   "cell_type": "code",
   "execution_count": 24,
   "metadata": {},
   "outputs": [
    {
     "data": {
      "text/plain": [
       "(216,)"
      ]
     },
     "execution_count": 24,
     "metadata": {},
     "output_type": "execute_result"
    }
   ],
   "source": [
    "y_freq_normal.shape"
   ]
  },
  {
   "cell_type": "code",
   "execution_count": 18,
   "metadata": {},
   "outputs": [
    {
     "data": {
      "text/plain": [
       "(504, 1, 1200)"
      ]
     },
     "execution_count": 18,
     "metadata": {},
     "output_type": "execute_result"
    }
   ],
   "source": [
    "X_freq_unlabeled.shape"
   ]
  },
  {
   "cell_type": "code",
   "execution_count": 20,
   "metadata": {},
   "outputs": [
    {
     "name": "stdout",
     "output_type": "stream",
     "text": [
      "Loading Online EEG Data from D:/Masterthesis/EEG_Data/eeg_data_online ...\n",
      "EEG Data Shape:\n",
      "(5024, 512, 40) (5024,) (2154, 512, 40) (2154,)\n",
      "Freq Data Shape:\n",
      "(1008, 1, 1200) (1008,) (432, 1, 1200) (432,)\n"
     ]
    }
   ],
   "source": [
    "eegData, freqData = loadOnlineEEGdata(shuffle=False)"
   ]
  },
  {
   "cell_type": "code",
   "execution_count": null,
   "metadata": {},
   "outputs": [],
   "source": []
  }
 ],
 "metadata": {
  "kernelspec": {
   "display_name": "ml",
   "language": "python",
   "name": "ml"
  },
  "language_info": {
   "codemirror_mode": {
    "name": "ipython",
    "version": 3
   },
   "file_extension": ".py",
   "mimetype": "text/x-python",
   "name": "python",
   "nbconvert_exporter": "python",
   "pygments_lexer": "ipython3",
   "version": "3.7.6"
  }
 },
 "nbformat": 4,
 "nbformat_minor": 4
}
