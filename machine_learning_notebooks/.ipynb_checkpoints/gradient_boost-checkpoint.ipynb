{
 "cells": [
  {
   "cell_type": "markdown",
   "metadata": {},
   "source": [
    "# Gradient Boost"
   ]
  },
  {
   "cell_type": "code",
   "execution_count": 1,
   "metadata": {},
   "outputs": [
    {
     "name": "stdout",
     "output_type": "stream",
     "text": [
      "/home/nvidia/masterthesis/thesis_eeg/code\n"
     ]
    }
   ],
   "source": [
    "# Imports\n",
    "import os, sys\n",
    "import numpy as np\n",
    "import matplotlib.pyplot as plt\n",
    "\n",
    "# to enable local imports\n",
    "module_path = os.path.abspath('../code')\n",
    "print(module_path)\n",
    "if module_path not in sys.path:\n",
    "    sys.path.append(module_path)\n",
    "\n",
    "from machine_learning_load_data import loadOnlineEEGdata"
   ]
  },
  {
   "cell_type": "code",
   "execution_count": 3,
   "metadata": {},
   "outputs": [
    {
     "name": "stdout",
     "output_type": "stream",
     "text": [
      "Loading Online EEG Data from ../../EEG_Data/eeg_data_online ...\n",
      "EEG Data Shape:\n",
      "(5024, 512, 40) (5024,) (2154, 512, 40) (2154,)\n",
      "Freq Data Shape:\n",
      "(1008, 1, 1200) (1008,) (432, 1, 1200) (432,)\n",
      "Entropy Data Shape:\n",
      "(5024, 1, 200) (5024,) (2154, 1, 200) (2154,)\n"
     ]
    }
   ],
   "source": [
    "# Load some online EEG Data\n",
    "eegData, freqData, entropyData = loadOnlineEEGdata(dirPath='../../EEG_Data/eeg_data_online', splitData=True)\n",
    "eegX_train, eegy_train, eegX_test, eegy_test = eegData\n",
    "freqX_train, freqy_train, freqX_test, freqy_test = freqData\n",
    "X_train_entropy, y_train_entropy, X_test_entropy, y_test_entropy = entropyData\n",
    "\n",
    "# reshape\n",
    "freqX_train = freqX_train.reshape(freqX_train.shape[0], freqX_train.shape[2])\n",
    "freqX_test = freqX_test.reshape(freqX_test.shape[0], freqX_test.shape[2])\n",
    "\n",
    "X_train_entropy = X_train_entropy.reshape(X_train_entropy.shape[0], X_train_entropy.shape[2])\n",
    "X_test_entropy = X_test_entropy.reshape(X_test_entropy.shape[0], X_test_entropy.shape[2])"
   ]
  },
  {
   "cell_type": "code",
   "execution_count": 5,
   "metadata": {},
   "outputs": [],
   "source": [
    "from sklearn.ensemble import GradientBoostingClassifier\n",
    "from sklearn.model_selection import RandomizedSearchCV\n",
    "\n",
    "from sklearn.model_selection import GridSearchCV\n",
    "from sklearn.metrics import f1_score\n",
    "from sklearn.metrics import make_scorer\n",
    "f1_scorer = make_scorer(f1_score)\n",
    "\n",
    "model = GradientBoostingClassifier()\n",
    "\n",
    "\n",
    "# Create a parameter grid - here you specifiy which combinations you want to test\n",
    "param_grid = [\n",
    "        {'learning_rate' : [0.001, 0.01, 0.1],\n",
    "         'loss' : ['deviance', 'exponential'],\n",
    "         'n_estimators' : [1000], # 1000 seems good \n",
    "         #'subsample' : [1.0],\n",
    "         #'criterion' : ['friedman_mse', 'mse', 'mae'],\n",
    "         #'min_samples_split' : [2],\n",
    "         #'min_samples_leaf' : [1],\n",
    "         #'max_depth' : [3]\n",
    "    }\n",
    "]\n",
    "\n",
    "# Create randomized search 5-fold cross validation and 100 iterations\n",
    "grid_search = GridSearchCV(model, param_grid, cv=5,\n",
    "                            scoring=f1_scorer,\n",
    "                            return_train_score=True,\n",
    "                            n_jobs=-1)\n",
    "\n",
    "# fit it with the data\n",
    "result = grid_search.fit(X_train_entropy, y_train_entropy)"
   ]
  },
  {
   "cell_type": "code",
   "execution_count": 6,
   "metadata": {},
   "outputs": [
    {
     "name": "stdout",
     "output_type": "stream",
     "text": [
      "Best Params: {'loss': 'exponential', 'n_estimators': 1000, 'learning_rate': 0.1}\n",
      "Best Estimator: GradientBoostingClassifier(ccp_alpha=0.0, criterion='friedman_mse', init=None,\n",
      "                           learning_rate=0.1, loss='exponential', max_depth=3,\n",
      "                           max_features=None, max_leaf_nodes=None,\n",
      "                           min_impurity_decrease=0.0, min_impurity_split=None,\n",
      "                           min_samples_leaf=1, min_samples_split=2,\n",
      "                           min_weight_fraction_leaf=0.0, n_estimators=1000,\n",
      "                           n_iter_no_change=None, presort='deprecated',\n",
      "                           random_state=None, subsample=1.0, tol=0.0001,\n",
      "                           validation_fraction=0.1, verbose=0,\n",
      "                           warm_start=False)\n",
      "0.42863237872500404 {'loss': 'deviance', 'n_estimators': 1000, 'learning_rate': 0.001}\n",
      "0.4283832877465391 {'loss': 'exponential', 'n_estimators': 1000, 'learning_rate': 0.001}\n",
      "0.5333009558304342 {'loss': 'deviance', 'n_estimators': 1000, 'learning_rate': 0.01}\n",
      "0.5286719259025744 {'loss': 'exponential', 'n_estimators': 1000, 'learning_rate': 0.01}\n",
      "0.603767416691972 {'loss': 'deviance', 'n_estimators': 1000, 'learning_rate': 0.1}\n",
      "0.6086055611499029 {'loss': 'exponential', 'n_estimators': 1000, 'learning_rate': 0.1}\n"
     ]
    }
   ],
   "source": [
    "print(\"Best Params: {}\".format(grid_search.best_params_))\n",
    "print(\"Best Estimator: {}\".format(grid_search.best_estimator_))\n",
    "\n",
    "cvres = grid_search.cv_results_\n",
    "for mean_score, params in zip(cvres[\"mean_test_score\"], cvres[\"params\"]):\n",
    "    print(mean_score, params)"
   ]
  }
 ],
 "metadata": {
  "kernelspec": {
   "display_name": "ml",
   "language": "python",
   "name": "ml"
  },
  "language_info": {
   "codemirror_mode": {
    "name": "ipython",
    "version": 3
   },
   "file_extension": ".py",
   "mimetype": "text/x-python",
   "name": "python",
   "nbconvert_exporter": "python",
   "pygments_lexer": "ipython3",
   "version": "3.7.6"
  }
 },
 "nbformat": 4,
 "nbformat_minor": 4
}
