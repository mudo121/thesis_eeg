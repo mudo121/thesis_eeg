{
 "cells": [
  {
   "cell_type": "markdown",
   "metadata": {},
   "source": [
    "# Support Vector Machine"
   ]
  },
  {
   "cell_type": "code",
   "execution_count": 2,
   "metadata": {},
   "outputs": [
    {
     "name": "stdout",
     "output_type": "stream",
     "text": [
      "D:\\Masterthesis\\thesis_eeg\\code\n"
     ]
    },
    {
     "name": "stderr",
     "output_type": "stream",
     "text": [
      "Using TensorFlow backend.\n"
     ]
    }
   ],
   "source": [
    "# Imports\n",
    "import os, sys\n",
    "import numpy as np\n",
    "import matplotlib.pyplot as plt\n",
    "\n",
    "from sklearn import svm\n",
    "from sklearn.metrics import accuracy_score\n",
    "from sklearn.model_selection import KFold\n",
    "\n",
    "# to enable local imports\n",
    "module_path = os.path.abspath('../code')\n",
    "print(module_path)\n",
    "if module_path not in sys.path:\n",
    "    sys.path.append(module_path)\n",
    "\n",
    "from machine_learning_data_generation import loadOnlineEEGdata"
   ]
  },
  {
   "cell_type": "markdown",
   "metadata": {},
   "source": [
    "### K Fold Validierung - Owm implementation\n",
    "You don't have to use this because sklearn offers the same as a function already `sklearn.model_selection.cross_val_score`"
   ]
  },
  {
   "cell_type": "code",
   "execution_count": 3,
   "metadata": {},
   "outputs": [],
   "source": [
    "# load the data\n",
    "# load the dataset\n",
    "#eegData, freqData = loadOnlineEEGdata(splitData=False)\n",
    "#eegX, eegy = eegData\n",
    "#freqX, freqy = freqData\n",
    "\n",
    "def testSvmFold(X, y, fold = 10, shuffle=True):\n",
    "    \n",
    "    scores = []\n",
    "    kfold = KFold(fold, shuffle=shuffle)\n",
    "    for train_index, test_index in kfold.split(X):\n",
    "        #print(\"TRAIN:\", train_index, \"TEST:\", test_index)\n",
    "        # define train/test X/y\n",
    "        X_train, X_test = X[train_index], X[test_index]\n",
    "        y_train, y_test = y[train_index], y[test_index]\n",
    "        \n",
    "        # define model\n",
    "        C = 1.0  # SVM regularization parameter\n",
    "        #odels = svm.SVC(kernel='linear', C=C)\n",
    "        #odel = svm.LinearSVC(C=C, max_iter=10000)\n",
    "        model = svm.SVC(kernel='rbf', gamma=0.7, C=C)\n",
    "        #model = svm.SVC(kernel='poly', degree=3, gamma='auto', C=C)\n",
    "\n",
    "        # fit model on train set\n",
    "        model.fit(X_train, y_train)\n",
    "\n",
    "        # forecast test set\n",
    "        yhat = model.predict(X_test)\n",
    "\n",
    "        # evaluate predictions\n",
    "        score = accuracy_score(y_test, yhat)\n",
    "        # store\n",
    "\n",
    "        scores.append(score)\n",
    "        print('>%.3f' % score)\n",
    "        \n",
    "    # calculate mean score across each run\n",
    "    print('Final Score: %.3f' % (np.mean(scores)))\n",
    "    \n",
    "# Test with Frequency Data\n",
    "#testSvmFold(X=freqX.reshape(1440,1200), y=freqy, fold=10, shuffle=True)\n",
    "\n",
    "# Test with EEG Data\n",
    "#testSvmFold(X=eegX[:, :, 6], y=eegy, fold=2, shuffle=True)"
   ]
  },
  {
   "cell_type": "code",
   "execution_count": 4,
   "metadata": {},
   "outputs": [
    {
     "name": "stdout",
     "output_type": "stream",
     "text": [
      "Loading Online EEG Data from D:/Masterthesis/EEG_Data/eeg_data_online ...\n",
      "EEG Data Shape:\n",
      "(5024, 512, 40) (5024,) (2154, 512, 40) (2154,)\n",
      "Freq Data Shape:\n",
      "(1008, 1, 1200) (1008,) (432, 1, 1200) (432,)\n",
      "Entropy Data Shape:\n",
      "(5024, 1, 200) (5024,) (2154, 1, 200) (2154,)\n"
     ]
    }
   ],
   "source": [
    "# Load some online EEG Data\n",
    "eegData, freqData, entropyData = loadOnlineEEGdata(splitData=True)\n",
    "eegX_train, eegy_train, eegX_test, eegy_test = eegData\n",
    "freqX_train, freqy_train, freqX_test, freqy_test = freqData\n",
    "X_train_entropy, y_train_entropy, X_test_entropy, y_test_entropy = entropyData\n",
    "\n",
    "# reshape\n",
    "freqX_train = freqX_train.reshape(freqX_train.shape[0], freqX_train.shape[2])\n",
    "freqX_test = freqX_test.reshape(freqX_test.shape[0], freqX_test.shape[2])\n",
    "\n",
    "X_train_entropy = X_train_entropy.reshape(X_train_entropy.shape[0], X_train_entropy.shape[2])\n",
    "X_test_entropy = X_test_entropy.reshape(X_test_entropy.shape[0], X_test_entropy.shape[2])\n"
   ]
  },
  {
   "cell_type": "markdown",
   "metadata": {},
   "source": [
    "# Create & Evaluate Model\n",
    "- Here we create a very simpel Support Vector Machine Model\n",
    "- Then we use `cross_val_score` to get some Accuracies (uses kfold)\n",
    "- Then we use `cross_val_predict` to get some predictions (uses kfold)\n",
    "- With the predictions we can measure how good the model is\n",
    "    - We create a confusions matrix\n",
    "    - We calculate the Precision\n",
    "    - We calculate the F1 Score"
   ]
  },
  {
   "cell_type": "code",
   "execution_count": 21,
   "metadata": {},
   "outputs": [],
   "source": [
    "from sklearn.metrics import precision_score, recall_score, f1_score, confusion_matrix\n",
    "from sklearn.model_selection import cross_val_predict, cross_val_score\n",
    "from sklearn.metrics import plot_precision_recall_curve\n",
    "from sklearn.metrics import precision_recall_curve\n",
    "from sklearn.metrics import f1_score\n",
    "from sklearn.metrics import make_scorer\n",
    "from sklearn.metrics import average_precision_score\n",
    "f1_scorer = make_scorer(f1_score) \n",
    "\n",
    "\n",
    "def plot_precision_recall_vs_threshold(precisions, recalls, thresholds):\n",
    "    \n",
    "    plt.title(\"precision_recall_vs_threshold_plot\")\n",
    "    \n",
    "    plt.plot(thresholds, precisions[:-1], \"b--\", label=\"Precision\", linewidth=2)\n",
    "    plt.plot(thresholds, recalls[:-1], \"g-\", label=\"Recall\", linewidth=2)\n",
    "    plt.legend(loc=\"center right\", fontsize=16) # Not shown in the book\n",
    "    plt.xlabel(\"Threshold\", fontsize=16)        # Not shown\n",
    "    plt.grid(True)                              # Not shown\n",
    "    #plt.axis([-50000, 50000, 0, 1])             # Not shown\n",
    "\n",
    "\n",
    "# Create a model\n",
    "def evaluateModel(model,X_train, y_train, X_test=None, y_test=None, kfoldTimes=8):\n",
    "    \n",
    "    print(\"Model: {}\".format(model))\n",
    "    \n",
    "    if False:\n",
    "    \n",
    "        # generate cross val score\n",
    "        kfoldTimes = kfoldTimes\n",
    "        print(\"Calculating cross val scores...\")\n",
    "        accuaries = cross_val_score(model, X_train, y_train, cv=kfoldTimes, scoring=f1_scorer)\n",
    "        print(\"Cross val scores (Accuracies):\")\n",
    "        for i in range(0, len(accuaries)):\n",
    "            print(\" Fold {fold}: {acc}\".format(fold=i+1, acc=accuaries[i]))\n",
    "\n",
    "        # make predictions with the model\n",
    "        print(\"\\nCaclulating cross val predictions...\")\n",
    "        y_train_pred = cross_val_predict(model, X_train, y_train, cv=kfoldTimes)\n",
    "\n",
    "\n",
    "        svm_confusionMatrix = confusion_matrix(y_train, y_train_pred)\n",
    "        print(\"\"\"\\nConfusion Matrix\\n------------------------\n",
    "        True Negative:   {tn} - False Positive: {fp}\n",
    "        False Negatives: {fn} - True positive:  {tp}\"\"\".format(tn=svm_confusionMatrix[0][0],\n",
    "                                                               fp=svm_confusionMatrix[0][1],\n",
    "                                                               fn=svm_confusionMatrix[1][0],\n",
    "                                                               tp=svm_confusionMatrix[1][1]))\n",
    "\n",
    "        print(\"----------------------\")\n",
    "        print(\"Precision: {} \".format(precision_score(y_train, y_train_pred)))\n",
    "        print(\"Recall:    {}\".format(recall_score(y_train, y_train_pred)))\n",
    "        print(\"F1 Score:  {}\".format(f1_score(y_train, y_train_pred)))\n",
    "    \n",
    "    if X_test is None or y_test is None:\n",
    "        print(\"No test data!\")\n",
    "        return\n",
    "    \n",
    "    # Calculate and plot the precion-recall tradeoff\n",
    "    model.fit(X_train, y_train)\n",
    "    y_score = model.decision_function(X_test)\n",
    "    average_precision = average_precision_score(y_test, y_score)\n",
    "    print('Average precision-recall score: {0:0.2f}'.format(average_precision))\n",
    "    \n",
    "    disp = plot_precision_recall_curve(model, X_test, y_test)\n",
    "    disp.ax_.set_title('2-class Precision-Recall curve: AP={0:0.2f}'.format(average_precision))\n",
    "    \n",
    "    \n",
    "    \n",
    "    y_scores_dec_func = cross_val_predict(model, X_train, y_train, cv=kfoldTimes, method=\"decision_function\")\n",
    "    precisions, recalls, thresholds = precision_recall_curve(y_train, y_scores_dec_func)\n",
    "    \n",
    "    plt.figure(figsize=(8, 4))                      # Not shown\n",
    "    plot_precision_recall_vs_threshold(precisions, recalls, thresholds)\n",
    "    "
   ]
  },
  {
   "cell_type": "code",
   "execution_count": 22,
   "metadata": {},
   "outputs": [
    {
     "name": "stdout",
     "output_type": "stream",
     "text": [
      "Model: SVC(C=1.0, break_ties=False, cache_size=200, class_weight=None, coef0=0.0,\n",
      "    decision_function_shape='ovr', degree=5, gamma='scale', kernel='poly',\n",
      "    max_iter=-1, probability=False, random_state=None, shrinking=True,\n",
      "    tol=0.001, verbose=False)\n",
      "Average precision-recall score: 0.49\n"
     ]
    },
    {
     "data": {
      "image/png": "[encoded data removed]",
      "text/plain": [
       "<Figure size 432x288 with 1 Axes>"
      ]
     },
     "metadata": {
      "needs_background": "light"
     },
     "output_type": "display_data"
    },
    {
     "data": {
      "image/png": "[encoded data removed]",
      "text/plain": [
       "<Figure size 576x288 with 1 Axes>"
      ]
     },
     "metadata": {
      "needs_background": "light"
     },
     "output_type": "display_data"
    }
   ],
   "source": [
    "# good model\n",
    "goodModel = svm.SVC(C=1.0, cache_size=200, class_weight=None, coef0=0.0,\n",
    "  decision_function_shape='ovr', degree=5, gamma='scale', kernel='poly',\n",
    "  max_iter=-1, probability=False, random_state=None, shrinking=True,\n",
    "  tol=0.001, verbose=False)\n",
    "\n",
    "simpleModel = svm.SVC(kernel='rbf', gamma=0.3, C=1.0)\n",
    "\n",
    "\n",
    "evaluateModel(model=goodModel,\n",
    "              X_train=X_train_entropy,\n",
    "              y_train=y_train_entropy,\n",
    "              X_test=X_test_entropy,\n",
    "              y_test=y_test_entropy)"
   ]
  },
  {
   "cell_type": "code",
   "execution_count": null,
   "metadata": {},
   "outputs": [],
   "source": []
  },
  {
   "cell_type": "markdown",
   "metadata": {},
   "source": [
    "# Find best parameters for the SVM\n",
    "Now we try to find the best parameters for the Support Vector Machine"
   ]
  },
  {
   "cell_type": "code",
   "execution_count": 11,
   "metadata": {},
   "outputs": [],
   "source": [
    "from sklearn.model_selection import GridSearchCV\n",
    "\n",
    "\n",
    "# Create a model to test\n",
    "svm_model = svm.SVC()\n",
    "\n",
    "# Create a parameter grid - here you specifiy which combinations you want to test\n",
    "param_grid = [\n",
    "    {'kernel': ['poly', 'rbf', 'sigmoid'],\n",
    "     'degree': [2, 3, 5, 10], # only for poly kernel\n",
    "     'gamma': ['scale', 'auto']\n",
    "    } \n",
    "    \n",
    "    #{'kernel': ['rbf','poly'], 'degree': [2, 3, 5, 10], 'C': [0.5, 1, 5], 'coef0' : [1, 10, 100], 'gamme' :['scale', 'auto']}\n",
    "    #{'kernel': ['rbf'], 'gamma': ['scale', 'auto'], 'C': [0.2, 0.5, 0.75, 1, 5], 'degree': [2, 3, 5, 10]},\n",
    "    #{'kernel': ['poly'], 'degree': [2, 3, 5, 10], 'C': [0.5, 1, 5], 'coef0' : [1, 10, 100], 'gamma': ['scale', 'auto']},\n",
    "    #{'kernel': ['rbf'], 'gamma': ['scale'], 'C': [1,2]},\n",
    "    #{'kernel': ['poly'], 'degree': [3, 5], 'C': [0.5, 1], 'coef0' : [1], 'gamma': ['scale']},\n",
    "]\n",
    "\n",
    "kFoldTimes = 8\n",
    "\n",
    "# create a grid search\n",
    "grid_search = GridSearchCV(svm_model, param_grid, cv=kFoldTimes,\n",
    "                            scoring='accuracy',\n",
    "                            return_train_score=True)\n",
    "\n",
    "# fit it with the data\n",
    "result = grid_search.fit(X_train_entropy, y_train_entropy)"
   ]
  },
  {
   "cell_type": "code",
   "execution_count": 18,
   "metadata": {},
   "outputs": [
    {
     "name": "stdout",
     "output_type": "stream",
     "text": [
      "sklearn: 0.20.3\n"
     ]
    }
   ],
   "source": [
    "import sklearn\n",
    "print('sklearn: %s' % sklearn.__version__)"
   ]
  },
  {
   "cell_type": "code",
   "execution_count": 12,
   "metadata": {},
   "outputs": [
    {
     "data": {
      "text/plain": [
       "{'degree': 5, 'gamma': 'scale', 'kernel': 'poly'}"
      ]
     },
     "execution_count": 12,
     "metadata": {},
     "output_type": "execute_result"
    }
   ],
   "source": [
    "grid_search.best_params_"
   ]
  },
  {
   "cell_type": "code",
   "execution_count": 13,
   "metadata": {},
   "outputs": [
    {
     "data": {
      "text/plain": [
       "SVC(C=1.0, cache_size=200, class_weight=None, coef0=0.0,\n",
       "  decision_function_shape='ovr', degree=5, gamma='scale', kernel='poly',\n",
       "  max_iter=-1, probability=False, random_state=None, shrinking=True,\n",
       "  tol=0.001, verbose=False)"
      ]
     },
     "execution_count": 13,
     "metadata": {},
     "output_type": "execute_result"
    }
   ],
   "source": [
    "grid_search.best_estimator_"
   ]
  },
  {
   "cell_type": "code",
   "execution_count": 14,
   "metadata": {},
   "outputs": [
    {
     "name": "stdout",
     "output_type": "stream",
     "text": [
      "0.6725716560509554 {'degree': 2, 'gamma': 'scale', 'kernel': 'poly'}\n",
      "0.6263933121019108 {'degree': 2, 'gamma': 'scale', 'kernel': 'rbf'}\n",
      "0.4267515923566879 {'degree': 2, 'gamma': 'scale', 'kernel': 'sigmoid'}\n",
      "0.5406050955414012 {'degree': 2, 'gamma': 'auto', 'kernel': 'poly'}\n",
      "0.5252786624203821 {'degree': 2, 'gamma': 'auto', 'kernel': 'rbf'}\n",
      "0.5314490445859873 {'degree': 2, 'gamma': 'auto', 'kernel': 'sigmoid'}\n",
      "0.7289012738853503 {'degree': 3, 'gamma': 'scale', 'kernel': 'poly'}\n",
      "0.6263933121019108 {'degree': 3, 'gamma': 'scale', 'kernel': 'rbf'}\n",
      "0.4267515923566879 {'degree': 3, 'gamma': 'scale', 'kernel': 'sigmoid'}\n",
      "0.5527468152866242 {'degree': 3, 'gamma': 'auto', 'kernel': 'poly'}\n",
      "0.5252786624203821 {'degree': 3, 'gamma': 'auto', 'kernel': 'rbf'}\n",
      "0.5314490445859873 {'degree': 3, 'gamma': 'auto', 'kernel': 'sigmoid'}\n",
      "0.7406449044585988 {'degree': 5, 'gamma': 'scale', 'kernel': 'poly'}\n",
      "0.6263933121019108 {'degree': 5, 'gamma': 'scale', 'kernel': 'rbf'}\n",
      "0.4267515923566879 {'degree': 5, 'gamma': 'scale', 'kernel': 'sigmoid'}\n",
      "0.5153264331210191 {'degree': 5, 'gamma': 'auto', 'kernel': 'poly'}\n",
      "0.5252786624203821 {'degree': 5, 'gamma': 'auto', 'kernel': 'rbf'}\n",
      "0.5314490445859873 {'degree': 5, 'gamma': 'auto', 'kernel': 'sigmoid'}\n",
      "0.7000398089171974 {'degree': 10, 'gamma': 'scale', 'kernel': 'poly'}\n",
      "0.6263933121019108 {'degree': 10, 'gamma': 'scale', 'kernel': 'rbf'}\n",
      "0.4267515923566879 {'degree': 10, 'gamma': 'scale', 'kernel': 'sigmoid'}\n",
      "0.4890525477707006 {'degree': 10, 'gamma': 'auto', 'kernel': 'poly'}\n",
      "0.5252786624203821 {'degree': 10, 'gamma': 'auto', 'kernel': 'rbf'}\n",
      "0.5314490445859873 {'degree': 10, 'gamma': 'auto', 'kernel': 'sigmoid'}\n"
     ]
    }
   ],
   "source": [
    "cvres = grid_search.cv_results_\n",
    "for mean_score, params in zip(cvres[\"mean_test_score\"], cvres[\"params\"]):\n",
    "    print(mean_score, params)"
   ]
  },
  {
   "cell_type": "code",
   "execution_count": null,
   "metadata": {},
   "outputs": [
    {
     "name": "stdout",
     "output_type": "stream",
     "text": [
      "Model: SVC(C=1.0, cache_size=200, class_weight=None, coef0=0.0,\n",
      "  decision_function_shape='ovr', degree=5, gamma='scale', kernel='poly',\n",
      "  max_iter=-1, probability=False, random_state=None, shrinking=True,\n",
      "  tol=0.001, verbose=False)\n",
      "Calculating cross val scores...\n",
      "Cross val scores (Accuracies):\n",
      " Fold 1: 0.1698630136986301\n",
      " Fold 2: 0.7597633136094675\n",
      " Fold 3: 0.7315357561547479\n",
      " Fold 4: 0.835781041388518\n",
      " Fold 5: 0.7915632754342432\n",
      " Fold 6: 0.9078014184397163\n",
      " Fold 7: 0.8354792560801145\n",
      " Fold 8: 0.8665749656121046\n",
      "\n",
      "Caclulating cross val predictions...\n"
     ]
    }
   ],
   "source": [
    "evaluateModel(grid_search.best_estimator_, X_train_entropy, y_train_entropy)"
   ]
  },
  {
   "cell_type": "code",
   "execution_count": 10,
   "metadata": {},
   "outputs": [],
   "source": []
  }
 ],
 "metadata": {
  "kernelspec": {
   "display_name": "ml",
   "language": "python",
   "name": "ml"
  },
  "language_info": {
   "codemirror_mode": {
    "name": "ipython",
    "version": 3
   },
   "file_extension": ".py",
   "mimetype": "text/x-python",
   "name": "python",
   "nbconvert_exporter": "python",
   "pygments_lexer": "ipython3",
   "version": "3.7.6"
  }
 },
 "nbformat": 4,
 "nbformat_minor": 4
}
