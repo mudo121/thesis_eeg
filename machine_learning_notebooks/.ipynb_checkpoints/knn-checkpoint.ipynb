{
 "cells": [
  {
   "cell_type": "markdown",
   "metadata": {},
   "source": [
    "## KNN - K-nearest neighbour"
   ]
  },
  {
   "cell_type": "code",
   "execution_count": 1,
   "metadata": {},
   "outputs": [
    {
     "name": "stdout",
     "output_type": "stream",
     "text": [
      "D:\\Masterthesis\\thesis_eeg\\code\n"
     ]
    },
    {
     "name": "stderr",
     "output_type": "stream",
     "text": [
      "Using TensorFlow backend.\n"
     ]
    }
   ],
   "source": [
    "# Imports\n",
    "import os, sys\n",
    "import numpy as np\n",
    "\n",
    "from sklearn.metrics import accuracy_score\n",
    "from sklearn.model_selection import KFold\n",
    "from sklearn.neighbors import KNeighborsClassifier\n",
    "from numpy import mean\n",
    "\n",
    "# to enable local imports\n",
    "module_path = os.path.abspath('../code')\n",
    "print(module_path)\n",
    "if module_path not in sys.path:\n",
    "    sys.path.append(module_path)\n",
    "\n",
    "from machine_learning_data_generation import loadOnlineEEGdata"
   ]
  },
  {
   "cell_type": "code",
   "execution_count": 2,
   "metadata": {},
   "outputs": [
    {
     "name": "stdout",
     "output_type": "stream",
     "text": [
      "Loading Online EEG Data from D:/Masterthesis/EEG_Data/eeg_data_online ...\n",
      "Data does not get splitted into train and test!\n",
      "EEG Data Shape:\n",
      "(7178, 512, 40) (7178,)\n",
      "Freq Data Shape:\n",
      "(1440, 1, 1200) (1440,)\n"
     ]
    }
   ],
   "source": [
    "# load the dataset\n",
    "eegData, freqData = loadOnlineEEGdata(splitData=False)\n",
    "eegX, eegy = eegData\n",
    "freqX, freqy = freqData"
   ]
  },
  {
   "cell_type": "code",
   "execution_count": 3,
   "metadata": {},
   "outputs": [
    {
     "data": {
      "text/plain": [
       "array([[ 0.58857225, -0.05947701,  0.75340673, ...,  0.        ,\n",
       "         0.        ,  0.        ],\n",
       "       [ 0.77181281,  0.53140419,  0.83882233, ...,  0.        ,\n",
       "         0.        ,  0.        ],\n",
       "       [ 0.60697763,  0.44422637,  0.88404084, ...,  0.        ,\n",
       "         0.        ,  0.        ],\n",
       "       ...,\n",
       "       [ 0.90218838,  0.88308262,  0.92119535, ...,  0.        ,\n",
       "         0.        ,  0.        ],\n",
       "       [ 0.87244329,  0.82212695,  0.94194085, ...,  0.        ,\n",
       "         0.        ,  0.        ],\n",
       "       [ 0.82407456,  0.75105618,  0.87172023, ...,  0.        ,\n",
       "         0.        ,  0.        ]])"
      ]
     },
     "execution_count": 3,
     "metadata": {},
     "output_type": "execute_result"
    }
   ],
   "source": [
    "freqX.reshape(1440,1200)"
   ]
  },
  {
   "cell_type": "code",
   "execution_count": 5,
   "metadata": {},
   "outputs": [],
   "source": [
    "def testKnnKFold(X, y, fold = 10, shuffle=True):\n",
    "    \n",
    "    scores = []\n",
    "    \n",
    "    kfold = KFold(fold, shuffle=shuffle, random_state=1)\n",
    "    for train_index, test_index in kfold.split(X):\n",
    "        #print(\"TRAIN:\", train_index, \"TEST:\", test_index)\n",
    "        # define train/test X/y\n",
    "        X_train, X_test = X[train_index], X[test_index]\n",
    "        y_train, y_test = y[train_index], y[test_index]\n",
    "\n",
    "        # define model\n",
    "        model = KNeighborsClassifier(n_neighbors=3)\n",
    "\n",
    "        # fit model on train set\n",
    "        model.fit(X_train, y_train)\n",
    "\n",
    "        # forecast test set\n",
    "        yhat = model.predict(X_test)\n",
    "\n",
    "        # evaluate predictions\n",
    "        score = accuracy_score(y_test, yhat)\n",
    "        # store\n",
    "\n",
    "        scores.append(score)\n",
    "        print('>%.3f' % score)\n",
    "\n",
    "    # calculate mean score across each run\n",
    "    print('Final Score: %.3f' % (np.mean(scores)))"
   ]
  },
  {
   "cell_type": "code",
   "execution_count": 6,
   "metadata": {},
   "outputs": [
    {
     "ename": "NameError",
     "evalue": "name 'scores' is not defined",
     "output_type": "error",
     "traceback": [
      "\u001b[1;31m---------------------------------------------------------------------------\u001b[0m",
      "\u001b[1;31mNameError\u001b[0m                                 Traceback (most recent call last)",
      "\u001b[1;32m<ipython-input-6-6b60ddf173d3>\u001b[0m in \u001b[0;36m<module>\u001b[1;34m\u001b[0m\n\u001b[1;32m----> 1\u001b[1;33m \u001b[0mtestKnnKFold\u001b[0m\u001b[1;33m(\u001b[0m\u001b[0mX\u001b[0m\u001b[1;33m=\u001b[0m\u001b[0mfreqX\u001b[0m\u001b[1;33m.\u001b[0m\u001b[0mreshape\u001b[0m\u001b[1;33m(\u001b[0m\u001b[1;36m1440\u001b[0m\u001b[1;33m,\u001b[0m\u001b[1;36m1200\u001b[0m\u001b[1;33m)\u001b[0m\u001b[1;33m,\u001b[0m \u001b[0my\u001b[0m\u001b[1;33m=\u001b[0m\u001b[0mfreqy\u001b[0m\u001b[1;33m,\u001b[0m \u001b[0mfold\u001b[0m\u001b[1;33m=\u001b[0m\u001b[1;36m10\u001b[0m\u001b[1;33m,\u001b[0m \u001b[0mshuffle\u001b[0m\u001b[1;33m=\u001b[0m\u001b[1;32mTrue\u001b[0m\u001b[1;33m)\u001b[0m\u001b[1;33m\u001b[0m\u001b[1;33m\u001b[0m\u001b[0m\n\u001b[0m",
      "\u001b[1;32m<ipython-input-5-85fdbfb9a996>\u001b[0m in \u001b[0;36mtestKnnKFold\u001b[1;34m(X, y, fold, shuffle)\u001b[0m\n\u001b[0;32m     21\u001b[0m         \u001b[1;31m# store\u001b[0m\u001b[1;33m\u001b[0m\u001b[1;33m\u001b[0m\u001b[1;33m\u001b[0m\u001b[0m\n\u001b[0;32m     22\u001b[0m \u001b[1;33m\u001b[0m\u001b[0m\n\u001b[1;32m---> 23\u001b[1;33m         \u001b[0mscores\u001b[0m\u001b[1;33m.\u001b[0m\u001b[0mappend\u001b[0m\u001b[1;33m(\u001b[0m\u001b[0mscore\u001b[0m\u001b[1;33m)\u001b[0m\u001b[1;33m\u001b[0m\u001b[1;33m\u001b[0m\u001b[0m\n\u001b[0m\u001b[0;32m     24\u001b[0m         \u001b[0mprint\u001b[0m\u001b[1;33m(\u001b[0m\u001b[1;34m'>%.3f'\u001b[0m \u001b[1;33m%\u001b[0m \u001b[0mscore\u001b[0m\u001b[1;33m)\u001b[0m\u001b[1;33m\u001b[0m\u001b[1;33m\u001b[0m\u001b[0m\n\u001b[0;32m     25\u001b[0m \u001b[1;33m\u001b[0m\u001b[0m\n",
      "\u001b[1;31mNameError\u001b[0m: name 'scores' is not defined"
     ]
    }
   ],
   "source": [
    "testKnnKFold(X=freqX.reshape(1440,1200), y=freqy, fold=10, shuffle=True)"
   ]
  },
  {
   "cell_type": "code",
   "execution_count": null,
   "metadata": {},
   "outputs": [],
   "source": [
    "\n",
    "\n",
    "data = read_csv('EEG_Eye_State_no_outliers.csv', header=None)\n",
    "values = data.values\n",
    "# evaluate knn using 10-fold cross-validation\n",
    "scores = list()\n",
    "kfold = KFold(10, shuffle=True, random_state=1)\n",
    "for train_ix, test_ix in kfold.split(values):\n",
    "\t# define train/test X/y\n",
    "\ttrainX, trainy = values[train_ix, :-1], values[train_ix, -1]\n",
    "\ttestX, testy = values[test_ix, :-1], values[test_ix, -1]\n",
    "\t# define model\n",
    "\tmodel = KNeighborsClassifier(n_neighbors=3)\n",
    "\t# fit model on train set\n",
    "\tmodel.fit(trainX, trainy)\n",
    "\t# forecast test set\n",
    "\tyhat = model.predict(testX)\n",
    "\t# evaluate predictions\n",
    "\tscore = accuracy_score(testy, yhat)\n",
    "\t# store\n",
    "\tscores.append(score)\n",
    "\tprint('>%.3f' % score)\n",
    "# calculate mean score across each run\n",
    "print('Final Score: %.3f' % (mean(scores)))"
   ]
  }
 ],
 "metadata": {
  "kernelspec": {
   "display_name": "ml",
   "language": "python",
   "name": "ml"
  },
  "language_info": {
   "codemirror_mode": {
    "name": "ipython",
    "version": 3
   },
   "file_extension": ".py",
   "mimetype": "text/x-python",
   "name": "python",
   "nbconvert_exporter": "python",
   "pygments_lexer": "ipython3",
   "version": "3.7.6"
  }
 },
 "nbformat": 4,
 "nbformat_minor": 4
}
