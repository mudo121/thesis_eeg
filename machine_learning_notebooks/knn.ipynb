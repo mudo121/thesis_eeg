{
 "cells": [
  {
   "cell_type": "markdown",
   "metadata": {},
   "source": [
    "## KNN - K-nearest neighbour"
   ]
  },
  {
   "cell_type": "code",
   "execution_count": 1,
   "metadata": {},
   "outputs": [
    {
     "name": "stdout",
     "output_type": "stream",
     "text": [
      "D:\\Masterthesis\\thesis_eeg\\code\n"
     ]
    },
    {
     "name": "stderr",
     "output_type": "stream",
     "text": [
      "Using TensorFlow backend.\n"
     ]
    }
   ],
   "source": [
    "# Imports\n",
    "import os, sys\n",
    "import numpy as np\n",
    "\n",
    "from sklearn.metrics import accuracy_score\n",
    "from sklearn.model_selection import KFold\n",
    "from sklearn.neighbors import KNeighborsClassifier\n",
    "from numpy import mean\n",
    "\n",
    "# to enable local imports\n",
    "module_path = os.path.abspath('../code')\n",
    "print(module_path)\n",
    "if module_path not in sys.path:\n",
    "    sys.path.append(module_path)\n",
    "\n",
    "from machine_learning_data_generation import loadOnlineEEGdata"
   ]
  },
  {
   "cell_type": "code",
   "execution_count": 2,
   "metadata": {},
   "outputs": [
    {
     "name": "stdout",
     "output_type": "stream",
     "text": [
      "Loading Online EEG Data from D:/Masterthesis/EEG_Data/eeg_data_online ...\n",
      "Data does not get splitted into train and test!\n",
      "EEG Data Shape:\n",
      "(7178, 512, 40) (7178,)\n",
      "Freq Data Shape:\n",
      "(1440, 1, 1200) (1440,)\n"
     ]
    }
   ],
   "source": [
    "# load the dataset\n",
    "eegData, freqData = loadOnlineEEGdata(splitData=False)\n",
    "eegX, eegy = eegData\n",
    "freqX, freqy = freqData"
   ]
  },
  {
   "cell_type": "code",
   "execution_count": 18,
   "metadata": {},
   "outputs": [
    {
     "data": {
      "text/plain": [
       "(1440,)"
      ]
     },
     "execution_count": 18,
     "metadata": {},
     "output_type": "execute_result"
    }
   ],
   "source": [
    "freqy.shape"
   ]
  },
  {
   "cell_type": "code",
   "execution_count": 3,
   "metadata": {},
   "outputs": [
    {
     "data": {
      "text/plain": [
       "array([[ 0.58857225, -0.05947701,  0.75340673, ...,  0.        ,\n",
       "         0.        ,  0.        ],\n",
       "       [ 0.77181281,  0.53140419,  0.83882233, ...,  0.        ,\n",
       "         0.        ,  0.        ],\n",
       "       [ 0.60697763,  0.44422637,  0.88404084, ...,  0.        ,\n",
       "         0.        ,  0.        ],\n",
       "       ...,\n",
       "       [ 0.90218838,  0.88308262,  0.92119535, ...,  0.        ,\n",
       "         0.        ,  0.        ],\n",
       "       [ 0.87244329,  0.82212695,  0.94194085, ...,  0.        ,\n",
       "         0.        ,  0.        ],\n",
       "       [ 0.82407456,  0.75105618,  0.87172023, ...,  0.        ,\n",
       "         0.        ,  0.        ]])"
      ]
     },
     "execution_count": 3,
     "metadata": {},
     "output_type": "execute_result"
    }
   ],
   "source": [
    "freqX.reshape(1440,1200)"
   ]
  },
  {
   "cell_type": "code",
   "execution_count": 9,
   "metadata": {},
   "outputs": [],
   "source": [
    "def testKnnKFold(X, y, fold = 10, shuffle=True):\n",
    "    \n",
    "    scores = []\n",
    "    \n",
    "    kfold = KFold(fold, shuffle=shuffle, random_state=1)\n",
    "    for train_index, test_index in kfold.split(X):\n",
    "        #print(\"TRAIN:\", train_index, \"TEST:\", test_index)\n",
    "        # define train/test X/y\n",
    "        X_train, X_test = X[train_index], X[test_index]\n",
    "        y_train, y_test = y[train_index], y[test_index]\n",
    "\n",
    "        # define model\n",
    "        model = KNeighborsClassifier(n_neighbors=3)\n",
    "\n",
    "        # fit model on train set\n",
    "        model.fit(X_train, y_train)\n",
    "\n",
    "        # forecast test set\n",
    "        yhat = model.predict(X_test)\n",
    "\n",
    "        # evaluate predictions\n",
    "        score = accuracy_score(y_test, yhat)\n",
    "        # store\n",
    "\n",
    "        scores.append(score)\n",
    "        print('>%.3f' % score)\n",
    "\n",
    "    # calculate mean score across each run\n",
    "    print('Final Score: %.3f' % (np.mean(scores)))"
   ]
  },
  {
   "cell_type": "code",
   "execution_count": 10,
   "metadata": {},
   "outputs": [
    {
     "name": "stdout",
     "output_type": "stream",
     "text": [
      ">0.868\n",
      ">0.924\n",
      ">0.868\n",
      ">0.875\n",
      ">0.861\n",
      ">0.924\n",
      ">0.847\n",
      ">0.882\n",
      ">0.854\n",
      ">0.861\n",
      "Final Score: 0.876\n"
     ]
    }
   ],
   "source": [
    "testKnnKFold(X=freqX.reshape(1440,1200), y=freqy, fold=10, shuffle=True)"
   ]
  },
  {
   "cell_type": "code",
   "execution_count": 21,
   "metadata": {},
   "outputs": [
    {
     "name": "stdout",
     "output_type": "stream",
     "text": [
      ">0.497\n",
      ">0.531\n",
      ">0.478\n",
      ">0.504\n",
      ">0.482\n",
      ">0.494\n",
      ">0.464\n",
      ">0.519\n",
      ">0.505\n",
      ">0.487\n",
      "Final Score: 0.496\n"
     ]
    }
   ],
   "source": [
    "testKnnKFold(X=eegX[:, :, 5], y=eegy, fold=10, shuffle=True)"
   ]
  }
 ],
 "metadata": {
  "kernelspec": {
   "display_name": "ml",
   "language": "python",
   "name": "ml"
  },
  "language_info": {
   "codemirror_mode": {
    "name": "ipython",
    "version": 3
   },
   "file_extension": ".py",
   "mimetype": "text/x-python",
   "name": "python",
   "nbconvert_exporter": "python",
   "pygments_lexer": "ipython3",
   "version": "3.7.6"
  }
 },
 "nbformat": 4,
 "nbformat_minor": 4
}
