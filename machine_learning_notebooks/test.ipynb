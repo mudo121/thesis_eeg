{
 "cells": [
  {
   "cell_type": "code",
   "execution_count": 4,
   "metadata": {},
   "outputs": [
    {
     "name": "stdout",
     "output_type": "stream",
     "text": [
      "D:\\Masterthesis\\thesis_eeg\\code\n"
     ]
    }
   ],
   "source": [
    "# Imports\n",
    "import os, sys\n",
    "import numpy as np\n",
    "import matplotlib.pyplot as plt\n",
    "\n",
    "\n",
    "# to enable local imports\n",
    "module_path = os.path.abspath('../code')\n",
    "print(module_path)\n",
    "if module_path not in sys.path:\n",
    "    sys.path.append(module_path)\n",
    "\n",
    "from machine_learning_data_generation import loadOnlineEEGdata"
   ]
  },
  {
   "cell_type": "code",
   "execution_count": 5,
   "metadata": {},
   "outputs": [
    {
     "name": "stdout",
     "output_type": "stream",
     "text": [
      "Loading Online EEG Data from D:/Masterthesis/EEG_Data/eeg_data_online ...\n",
      "Data does not get splitted into train and test!\n",
      "EEG Data Shape:\n",
      "(7178, 512, 40) (7178,)\n",
      "Freq Data Shape:\n",
      "(1440, 1, 1200) (1440,)\n"
     ]
    }
   ],
   "source": [
    "eegData, freqData = loadOnlineEEGdata(splitData=False)\n",
    "eegX, eegY = eegData\n",
    "freqX, freqY = freqData"
   ]
  },
  {
   "cell_type": "code",
   "execution_count": 7,
   "metadata": {},
   "outputs": [
    {
     "data": {
      "text/plain": [
       "array([0, 0, 0, ..., 1, 1, 1])"
      ]
     },
     "execution_count": 7,
     "metadata": {},
     "output_type": "execute_result"
    }
   ],
   "source": []
  },
  {
   "cell_type": "code",
   "execution_count": 6,
   "metadata": {},
   "outputs": [
    {
     "data": {
      "text/plain": [
       "array([[[0.        , 0.        , 0.        , ..., 0.        ,\n",
       "         0.        , 0.        ],\n",
       "        [0.        , 0.        , 0.        , ..., 0.        ,\n",
       "         0.        , 0.        ],\n",
       "        [0.        , 0.        , 0.        , ..., 0.        ,\n",
       "         0.        , 0.        ],\n",
       "        ...,\n",
       "        [0.        , 0.        , 0.        , ..., 0.        ,\n",
       "         0.        , 0.        ],\n",
       "        [0.        , 0.        , 0.        , ..., 0.        ,\n",
       "         0.        , 0.        ],\n",
       "        [0.        , 0.        , 0.        , ..., 0.        ,\n",
       "         0.        , 0.        ]],\n",
       "\n",
       "       [[0.        , 0.        , 0.        , ..., 0.        ,\n",
       "         0.        , 0.        ],\n",
       "        [0.        , 0.        , 0.        , ..., 0.        ,\n",
       "         0.        , 0.        ],\n",
       "        [0.        , 0.        , 0.        , ..., 0.        ,\n",
       "         0.        , 0.        ],\n",
       "        ...,\n",
       "        [0.44503928, 0.        , 0.42917289, ..., 0.        ,\n",
       "         0.        , 0.        ],\n",
       "        [0.44943309, 0.        , 0.44335217, ..., 0.        ,\n",
       "         0.        , 0.        ],\n",
       "        [0.45897679, 0.        , 0.4531951 , ..., 0.        ,\n",
       "         0.        , 0.        ]],\n",
       "\n",
       "       [[0.57006486, 0.        , 0.90724728, ..., 0.        ,\n",
       "         0.        , 0.        ],\n",
       "        [0.50276744, 0.        , 0.82366257, ..., 0.        ,\n",
       "         0.        , 0.        ],\n",
       "        [0.49668055, 0.        , 0.79595838, ..., 0.        ,\n",
       "         0.        , 0.        ],\n",
       "        ...,\n",
       "        [0.17669632, 0.        , 0.22899293, ..., 0.        ,\n",
       "         0.        , 0.        ],\n",
       "        [0.19490641, 0.        , 0.308944  , ..., 0.        ,\n",
       "         0.        , 0.        ],\n",
       "        [0.15684765, 0.        , 0.26540256, ..., 0.        ,\n",
       "         0.        , 0.        ]],\n",
       "\n",
       "       ...,\n",
       "\n",
       "       [[0.68357617, 0.        , 0.75150376, ..., 0.        ,\n",
       "         0.        , 0.        ],\n",
       "        [0.67178848, 0.        , 0.74342104, ..., 0.        ,\n",
       "         0.        , 0.        ],\n",
       "        [0.67081669, 0.        , 0.73748261, ..., 0.        ,\n",
       "         0.        , 0.        ],\n",
       "        ...,\n",
       "        [0.77413543, 0.        , 0.72424113, ..., 0.        ,\n",
       "         0.        , 0.        ],\n",
       "        [0.77818657, 0.        , 0.72662982, ..., 0.        ,\n",
       "         0.        , 0.        ],\n",
       "        [0.7893881 , 0.        , 0.72968682, ..., 0.        ,\n",
       "         0.        , 0.        ]],\n",
       "\n",
       "       [[0.62117829, 0.        , 0.55611611, ..., 0.        ,\n",
       "         0.        , 0.        ],\n",
       "        [0.65765456, 0.        , 0.57072951, ..., 0.        ,\n",
       "         0.        , 0.        ],\n",
       "        [0.69147048, 0.        , 0.59585335, ..., 0.        ,\n",
       "         0.        , 0.        ],\n",
       "        ...,\n",
       "        [0.49212554, 0.        , 0.52505102, ..., 0.        ,\n",
       "         0.        , 0.        ],\n",
       "        [0.50632433, 0.        , 0.53306735, ..., 0.        ,\n",
       "         0.        , 0.        ],\n",
       "        [0.51362685, 0.        , 0.52767562, ..., 0.        ,\n",
       "         0.        , 0.        ]],\n",
       "\n",
       "       [[0.57344469, 0.        , 0.26749276, ..., 0.        ,\n",
       "         0.        , 0.        ],\n",
       "        [0.53393596, 0.        , 0.27216285, ..., 0.        ,\n",
       "         0.        , 0.        ],\n",
       "        [0.45749442, 0.        , 0.25377046, ..., 0.        ,\n",
       "         0.        , 0.        ],\n",
       "        ...,\n",
       "        [0.60461474, 0.        , 0.55826127, ..., 0.        ,\n",
       "         0.        , 0.        ],\n",
       "        [0.59031252, 0.        , 0.52214761, ..., 0.        ,\n",
       "         0.        , 0.        ],\n",
       "        [0.57452912, 0.        , 0.49773416, ..., 0.        ,\n",
       "         0.        , 0.        ]]])"
      ]
     },
     "execution_count": 6,
     "metadata": {},
     "output_type": "execute_result"
    }
   ],
   "source": [
    "eegX[::5]"
   ]
  }
 ],
 "metadata": {
  "kernelspec": {
   "display_name": "ml",
   "language": "python",
   "name": "ml"
  },
  "language_info": {
   "codemirror_mode": {
    "name": "ipython",
    "version": 3
   },
   "file_extension": ".py",
   "mimetype": "text/x-python",
   "name": "python",
   "nbconvert_exporter": "python",
   "pygments_lexer": "ipython3",
   "version": "3.7.6"
  }
 },
 "nbformat": 4,
 "nbformat_minor": 4
}
