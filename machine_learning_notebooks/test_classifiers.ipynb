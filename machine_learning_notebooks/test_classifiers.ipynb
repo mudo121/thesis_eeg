{
 "cells": [
  {
   "cell_type": "markdown",
   "metadata": {},
   "source": [
    "# Notebook to test Classififers"
   ]
  },
  {
   "cell_type": "code",
   "execution_count": 7,
   "metadata": {},
   "outputs": [
    {
     "name": "stdout",
     "output_type": "stream",
     "text": [
      "/home/nvidia/masterthesis/thesis_eeg/code\n"
     ]
    }
   ],
   "source": [
    "# Imports\n",
    "import os, sys\n",
    "import numpy as np\n",
    "\n",
    "# Import metrics\n",
    "from sklearn.model_selection import GridSearchCV\n",
    "from sklearn.model_selection import cross_val_predict, cross_val_score\n",
    "from sklearn.metrics import f1_score\n",
    "from sklearn.metrics import make_scorer\n",
    "f1_scorer = make_scorer(f1_score) \n",
    "\n",
    "# to enable local imports\n",
    "module_path = os.path.abspath('../code')\n",
    "print(module_path)\n",
    "if module_path not in sys.path:\n",
    "    sys.path.append(module_path)\n",
    "\n",
    "from machine_learning_load_data import loadOnlineEEGdata"
   ]
  },
  {
   "cell_type": "code",
   "execution_count": 2,
   "metadata": {},
   "outputs": [
    {
     "name": "stdout",
     "output_type": "stream",
     "text": [
      "Loading Online EEG Data from ../../EEG_Data/eeg_data_online ...\n",
      "EEG Data Shape:\n",
      "(5024, 512, 40) (5024,) (2154, 512, 40) (2154,)\n",
      "Freq Data Shape:\n",
      "(1008, 1, 1200) (1008,) (432, 1, 1200) (432,)\n",
      "Entropy Data Shape:\n",
      "(5024, 1, 200) (5024,) (2154, 1, 200) (2154,)\n"
     ]
    }
   ],
   "source": [
    "# Load some online EEG Data\n",
    "eegData, freqData, entropyData = loadOnlineEEGdata(dirPath='../../EEG_Data/eeg_data_online', splitData=True)\n",
    "eegX_train, eegy_train, eegX_test, eegy_test = eegData\n",
    "freqX_train, freqy_train, freqX_test, freqy_test = freqData\n",
    "X_train_entropy, y_train_entropy, X_test_entropy, y_test_entropy = entropyData\n",
    "\n",
    "# reshape\n",
    "freqX_train = freqX_train.reshape(freqX_train.shape[0], freqX_train.shape[2])\n",
    "freqX_test = freqX_test.reshape(freqX_test.shape[0], freqX_test.shape[2])\n",
    "\n",
    "X_train_entropy = X_train_entropy.reshape(X_train_entropy.shape[0], X_train_entropy.shape[2])\n",
    "X_test_entropy = X_test_entropy.reshape(X_test_entropy.shape[0], X_test_entropy.shape[2])"
   ]
  },
  {
   "cell_type": "code",
   "execution_count": 16,
   "metadata": {},
   "outputs": [],
   "source": [
    "def testModel(model, paramGrid, X, y, n_jobs=-1, scoring=f1_scorer, kFoldTimes=8):\n",
    "    ''' Test the Model with the '''\n",
    "    print(\"Testing Classifier: {}\".format(model.__class__.__name__))\n",
    "    print(\"Scoring: {}\".format(scoring))\n",
    "    print(\"K-fold times: {} --- n-jobs: {}\".format(kFoldTimes, n_jobs))\n",
    "    print(\"\\n\")\n",
    "    \n",
    "    # create a grid search\n",
    "    grid_search = GridSearchCV(model, param_grid, cv=kFoldTimes, scoring=scoring, return_train_score=True, n_jobs=n_jobs)\n",
    "\n",
    "    # fit it with the data\n",
    "    result = grid_search.fit(X_train_entropy, y_train_entropy)\n",
    "\n",
    "    print(\"Best Params: {}\".format(grid_search.best_params_))\n",
    "    print(\"Best Estimator: {}\".format(grid_search.best_estimator_))\n",
    "\n",
    "    cvres = grid_search.cv_results_\n",
    "    for mean_score, params in zip(cvres[\"mean_test_score\"], cvres[\"params\"]):\n",
    "        print(mean_score, params)\n",
    "        \n",
    "    return grid_search.best_estimator_"
   ]
  },
  {
   "cell_type": "markdown",
   "metadata": {},
   "source": [
    "## Decision Tree"
   ]
  },
  {
   "cell_type": "code",
   "execution_count": 17,
   "metadata": {},
   "outputs": [
    {
     "name": "stdout",
     "output_type": "stream",
     "text": [
      "Testing Classifier: DecisionTreeClassifier\n",
      "Scoring: make_scorer(f1_score)\n",
      "K-fold times: 8 - n-jobs: -1\n",
      "\n",
      "\n",
      "Best Params: {'splitter': 'random', 'criterion': 'gini'}\n",
      "Best Estimator: DecisionTreeClassifier(ccp_alpha=0.0, class_weight=None, criterion='gini',\n",
      "                       max_depth=None, max_features=None, max_leaf_nodes=None,\n",
      "                       min_impurity_decrease=0.0, min_impurity_split=None,\n",
      "                       min_samples_leaf=1, min_samples_split=2,\n",
      "                       min_weight_fraction_leaf=0.0, presort='deprecated',\n",
      "                       random_state=None, splitter='random')\n",
      "0.5705124777656854 {'splitter': 'best', 'criterion': 'gini'}\n",
      "0.6246980931136836 {'splitter': 'random', 'criterion': 'gini'}\n",
      "0.5923053403801248 {'splitter': 'best', 'criterion': 'entropy'}\n",
      "0.5886940216322119 {'splitter': 'random', 'criterion': 'entropy'}\n"
     ]
    }
   ],
   "source": [
    "from sklearn.tree import DecisionTreeClassifier\n",
    "\n",
    "model = DecisionTreeClassifier()\n",
    "param_grid = [\n",
    "        {'criterion' : ['gini', 'entropy'],\n",
    "         'splitter' : ['best', 'random'],\n",
    "    }\n",
    "]\n",
    "\n",
    "bestEstimator = testModel(model=model, paramGrid=param_grid, X=X_train_entropy, y=y_train_entropy)"
   ]
  },
  {
   "cell_type": "markdown",
   "metadata": {},
   "source": [
    "# Suport Vector Machine (SVM)"
   ]
  },
  {
   "cell_type": "code",
   "execution_count": null,
   "metadata": {},
   "outputs": [
    {
     "name": "stdout",
     "output_type": "stream",
     "text": [
      "Testing Classifier: SVC\n",
      "Scoring: make_scorer(f1_score)\n",
      "K-fold times: 8 - n-jobs: -1\n",
      "\n",
      "\n"
     ]
    }
   ],
   "source": [
    "from sklearn import svm\n",
    "\n",
    "# Create a model to test\n",
    "model = svm.SVC()\n",
    "\n",
    "# Create a parameter grid - here you specifiy which combinations you want to test\n",
    "param_grid = [\n",
    "    {'kernel': ['poly', 'rbf', 'sigmoid'],\n",
    "     'degree': [2, 3, 5, 10], # only for poly kernel\n",
    "     'gamma': ['scale', 'auto']\n",
    "    }\n",
    "]\n",
    "    \n",
    "bestEstimator = testModel(model=model, paramGrid=param_grid, X=X_train_entropy, y=y_train_entropy)"
   ]
  },
  {
   "cell_type": "markdown",
   "metadata": {},
   "source": [
    "# Random Forest"
   ]
  },
  {
   "cell_type": "code",
   "execution_count": null,
   "metadata": {},
   "outputs": [],
   "source": [
    "from sklearn.ensemble import RandomForestClassifier\n",
    "\n",
    "# Create a model to test\n",
    "model = RandomForestClassifier()\n",
    "\n",
    "# Create a parameter grid - here you specifiy which combinations you want to test\n",
    "param_grid = [\n",
    "    {'n_estimators': [500, 1000, 2000],\n",
    "     'min_samples_split' : [2, 4, 8],\n",
    "     'criterion' : ['gini', 'entropy'],\n",
    "     'max_features' : ['auto', 'log2'],\n",
    "    }\n",
    "]\n",
    "\n",
    "bestEstimator = testModel(model=model, paramGrid=param_grid, X=X_train_entropy, y=y_train_entropy)"
   ]
  },
  {
   "cell_type": "markdown",
   "metadata": {},
   "source": [
    "# Long-short term memory (LSTM)"
   ]
  },
  {
   "cell_type": "code",
   "execution_count": null,
   "metadata": {},
   "outputs": [],
   "source": []
  },
  {
   "cell_type": "markdown",
   "metadata": {},
   "source": [
    "# K-nearest neighbour (KNN)"
   ]
  },
  {
   "cell_type": "code",
   "execution_count": null,
   "metadata": {},
   "outputs": [],
   "source": [
    "model = KNeighborsClassifier()\n",
    "\n",
    "\n",
    "# Create a parameter grid - here you specifiy which combinations you want to test\n",
    "param_grid = [\n",
    "        {'n_neighbors' : [3, 5, 10, 25],\n",
    "         'weights' : ['uniform', 'distance'],\n",
    "    }\n",
    "]\n",
    "\n",
    "bestEstimator = testModel(model=model, paramGrid=param_grid, X=X_train_entropy, y=y_train_entropy)"
   ]
  },
  {
   "cell_type": "markdown",
   "metadata": {},
   "source": [
    "# Gradient Boost"
   ]
  },
  {
   "cell_type": "code",
   "execution_count": null,
   "metadata": {},
   "outputs": [],
   "source": [
    "from sklearn.ensemble import GradientBoostingClassifier\n",
    "\n",
    "model = GradientBoostingClassifier()\n",
    "\n",
    "param_grid = [\n",
    "        {'learning_rate' : [0.001, 0.01, 0.1],\n",
    "         'loss' : ['deviance', 'exponential'],\n",
    "         'n_estimators' : [1000], # 1000 seems good \n",
    "    }\n",
    "]\n",
    "\n",
    "bestEstimator = testModel(model=model, paramGrid=param_grid, X=X_train_entropy, y=y_train_entropy)"
   ]
  },
  {
   "cell_type": "markdown",
   "metadata": {},
   "source": [
    "# Ada Boost"
   ]
  },
  {
   "cell_type": "code",
   "execution_count": null,
   "metadata": {},
   "outputs": [],
   "source": [
    "from sklearn.ensemble import AdaBoostClassifier\n",
    "\n",
    "# Create a model to test\n",
    "model = AdaBoostClassifier()\n",
    "\n",
    "# Create a parameter grid - here you specifiy which combinations you want to test\n",
    "param_grid = [\n",
    "    {'n_estimators': [500, 1000],\n",
    "     'learning_rate' : [1, 1.2,]\n",
    "    }\n",
    "]\n",
    "\n",
    "bestEstimator = testModel(model=model, paramGrid=param_grid, X=X_train_entropy, y=y_train_entropy)"
   ]
  }
 ],
 "metadata": {
  "kernelspec": {
   "display_name": "ml",
   "language": "python",
   "name": "ml"
  },
  "language_info": {
   "codemirror_mode": {
    "name": "ipython",
    "version": 3
   },
   "file_extension": ".py",
   "mimetype": "text/x-python",
   "name": "python",
   "nbconvert_exporter": "python",
   "pygments_lexer": "ipython3",
   "version": "3.5.2"
  }
 },
 "nbformat": 4,
 "nbformat_minor": 4
}
