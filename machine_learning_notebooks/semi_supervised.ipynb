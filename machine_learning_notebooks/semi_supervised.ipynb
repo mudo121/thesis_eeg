{
 "cells": [
  {
   "cell_type": "markdown",
   "metadata": {},
   "source": [
    "# Semi-Supervised Training\n",
    "An attempt to train something in a semi-supervised manner\n",
    "\n",
    "https://scikit-learn.org/stable/modules/label_propagation.html"
   ]
  },
  {
   "cell_type": "code",
   "execution_count": 26,
   "metadata": {},
   "outputs": [
    {
     "name": "stdout",
     "output_type": "stream",
     "text": [
      "D:\\Masterthesis\\thesis_eeg\\code\n"
     ]
    }
   ],
   "source": [
    "# Imports\n",
    "import os, sys\n",
    "import numpy as np\n",
    "import pandas as pd\n",
    "import matplotlib.pyplot as plt        # for plotting\n",
    "\n",
    "from sklearn.metrics import accuracy_score\n",
    "from sklearn.model_selection import KFold\n",
    "from sklearn.neighbors import KNeighborsClassifier\n",
    "from numpy import mean\n",
    "\n",
    "# to enable local imports\n",
    "module_path = os.path.abspath('../code')\n",
    "print(module_path)\n",
    "if module_path not in sys.path:\n",
    "    sys.path.append(module_path)\n",
    "\n",
    "from machine_learning_data_generation import loadPickeldDataset, createXyFromFrequencyDf, loadOnlineEEGdata\n",
    "from consts import TARGET_FATIGUE, TARGET_NORMAL, TARGET_UNLABELED"
   ]
  },
  {
   "cell_type": "code",
   "execution_count": 2,
   "metadata": {},
   "outputs": [
    {
     "name": "stdout",
     "output_type": "stream",
     "text": [
      "Load Subject 1 Data...\n",
      "Load Subject 10 Data...\n",
      "Load Subject 11 Data...\n",
      "Load Subject 12 Data...\n",
      "Load Subject 2 Data...\n",
      "Load Subject 3 Data...\n",
      "Load Subject 4 Data...\n",
      "Load Subject 5 Data...\n",
      "Load Subject 6 Data...\n",
      "Load Subject 7 Data...\n",
      "Load Subject 8 Data...\n",
      "Load Subject 9 Data...\n"
     ]
    }
   ],
   "source": [
    "eegDataset = loadPickeldDataset(\"D:/Masterthesis/EEG_Data/eeg_data_online\")"
   ]
  },
  {
   "cell_type": "code",
   "execution_count": 42,
   "metadata": {},
   "outputs": [],
   "source": [
    "EPOCH_SERIES = 0\n",
    "FREQ_DF = 1\n",
    "\n",
    "TARGET_LABEL_DICT = {TARGET_NORMAL : 1, # positiv \n",
    "                     TARGET_UNLABELED : -1, # unlabeled\n",
    "                     TARGET_FATIGUE : 0} # negative\n",
    "\n",
    "\n",
    "def createSemiSupervisedDataFromOnlineEegData(eegDataset, target_label_dict, normalData = 0.3, fatigueData = 0.2) -> (np.array, np.array):\n",
    "    ''' This functions creates Data for testing semi-supervised learning techniques\n",
    "    \n",
    "    The data creates normal and unlabeled data. For both it creates an X and y\n",
    "    '''\n",
    "    X_freq = None\n",
    "    y_freq = None\n",
    "    \n",
    "    for subject in eegDataset:\n",
    "        #print(\"Processing Subject {}...\".format(subject))\n",
    "        \n",
    "        # calculate how much rows of each data goes to unlabeled and how much to the normal data\n",
    "        normalDataPercentage = len(eegDataset[subject][TARGET_NORMAL][FREQ_DF]) - int(len(eegDataset[subject][TARGET_NORMAL][FREQ_DF]) * (1.0-normalData))\n",
    "\n",
    "        # calculate how much rows of each data goes to unlabeled and how much to the fatige data\n",
    "        fatigueDataPercentage = len(eegDataset[subject][TARGET_FATIGUE][FREQ_DF]) - int(len(eegDataset[subject][TARGET_FATIGUE][FREQ_DF]) * (1.0-fatigueData))\n",
    "        \n",
    "        \n",
    "        normalDf = eegDataset[subject][TARGET_NORMAL][FREQ_DF][0:normalDataPercentage]\n",
    "        unlabeledDf = eegDataset[subject][TARGET_NORMAL][FREQ_DF][normalDataPercentage::]\n",
    "\n",
    "        # Create X,y from the frequency features - normal\n",
    "        tempX_freq_normal, tempy_freq_normal = createXyFromFrequencyDf(freqDf = normalDf,\n",
    "                                                         target = target_label_dict[TARGET_NORMAL])\n",
    "        \n",
    "        try:\n",
    "            X_freq = np.concatenate((X_freq, tempX_freq_normal))\n",
    "            y_freq = np.concatenate((y_freq, tempy_freq_normal))\n",
    "        except ValueError: # happens the first, when the init value is none\n",
    "            X_freq = tempX_freq_normal\n",
    "            y_freq = tempy_freq_normal\n",
    "        \n",
    "        \n",
    "        \n",
    "        # Create X,y from the frequency features - normal but into the unlabeled df\n",
    "        tempX_freq_unlabeled, tempy_freq_unlabeled = createXyFromFrequencyDf(freqDf = unlabeledDf,\n",
    "                                                         target = target_label_dict[TARGET_UNLABELED])\n",
    "            \n",
    "        X_freq = np.concatenate((X_freq, tempX_freq_unlabeled))\n",
    "        y_freq = np.concatenate((y_freq, tempy_freq_unlabeled))\n",
    "        \n",
    "        \n",
    "        \n",
    "                                                                                                                                             \n",
    "        fatigueDf= eegDataset[subject][TARGET_NORMAL][FREQ_DF][0:fatigueDataPercentage]\n",
    "        unlabeledDf = eegDataset[subject][TARGET_NORMAL][FREQ_DF][fatigueDataPercentage::]                                                                                                                                    \n",
    "                                                                                                                                             \n",
    "        \n",
    "        # Create some fatigue labels\n",
    "        tempX_freq_fatigue, tempy_freq_fatigue = createXyFromFrequencyDf(freqDf = fatigueDf,\n",
    "                                                                        target = target_label_dict[TARGET_FATIGUE])\n",
    "        X_freq = np.concatenate((X_freq, tempX_freq_fatigue))\n",
    "        y_freq = np.concatenate((y_freq, tempy_freq_fatigue))\n",
    "                                                                                                                                             \n",
    "                                                                                                                                             \n",
    "        # Create X,y from the frequency features - fatigue but into the unlabeled df\n",
    "        tempX_freq_unlabeled_fatigue, tempy_freq_unlabeled_fatigue = createXyFromFrequencyDf(freqDf = unlabeledDf,\n",
    "                                                                                             target = target_label_dict[TARGET_UNLABELED])\n",
    "        \n",
    "        X_freq = np.concatenate((X_freq, tempX_freq_unlabeled_fatigue))\n",
    "        y_freq = np.concatenate((y_freq, tempy_freq_unlabeled_fatigue))\n",
    "            \n",
    "        \n",
    "\n",
    "    print(\"Finished creating normal/unlabeled Freq Data\")\n",
    "    return (X_freq, y_freq)"
   ]
  },
  {
   "cell_type": "code",
   "execution_count": 44,
   "metadata": {},
   "outputs": [
    {
     "name": "stdout",
     "output_type": "stream",
     "text": [
      "Finished creating normal/unlabeled Freq Data\n",
      "X freq: (1440, 1, 1200)  --- y freq (1440,)\n",
      "1440 data points and 1200 features\n",
      "Hidden Size: 2304\n"
     ]
    }
   ],
   "source": [
    "X_freq, y_freq = createSemiSupervisedDataFromOnlineEegData(eegDataset, TARGET_LABEL_DICT)\n",
    "\n",
    "print(\"X freq: {}  --- y freq {}\".format(X_freq.shape, y_freq.shape))\n",
    "\n",
    "X_freq = X_freq.reshape(1440, 1200)\n",
    "# Check the contents of the set\n",
    "print('{} data points and {} features'.format(X_freq.shape[0], X_freq.shape[1]))\n",
    "#print('{} positive out of {} total'.format(sum(y_freq), len(y_freq)))\n",
    "\n",
    "#hidden_size = len(y_freq) - sum(y_freq)\n",
    "#print(\"Hidden Size: {}\".format(hidden_size))"
   ]
  },
  {
   "cell_type": "code",
   "execution_count": 45,
   "metadata": {},
   "outputs": [
    {
     "name": "stdout",
     "output_type": "stream",
     "text": [
      "Loading Online EEG Data from D:/Masterthesis/EEG_Data/eeg_data_online ...\n",
      "Data does not get splitted into train and test!\n",
      "EEG Data Shape:\n",
      "(7178, 512, 40) (7178,)\n",
      "Freq Data Shape:\n",
      "(1440, 1, 1200) (1440,)\n"
     ]
    }
   ],
   "source": [
    "eegData, freqData = loadOnlineEEGdata(splitData=False)\n",
    "X_freq_orig, y_freq_orig = freqData"
   ]
  },
  {
   "cell_type": "code",
   "execution_count": null,
   "metadata": {},
   "outputs": [],
   "source": []
  },
  {
   "cell_type": "code",
   "execution_count": null,
   "metadata": {},
   "outputs": [],
   "source": []
  },
  {
   "cell_type": "markdown",
   "metadata": {},
   "source": [
    "## pu-learn package"
   ]
  },
  {
   "cell_type": "code",
   "execution_count": 51,
   "metadata": {},
   "outputs": [],
   "source": [
    "from pulearn import ElkanotoPuClassifier\n",
    "from sklearn.svm import SVC\n",
    "svc = SVC(C=10, kernel='rbf', gamma=0.4, probability=True)\n",
    "pu_estimator = ElkanotoPuClassifier(estimator=svc, hold_out_ratio=0.2)\n",
    "pu_estimator.fit(X_freq, y_freq)"
   ]
  },
  {
   "cell_type": "code",
   "execution_count": 56,
   "metadata": {},
   "outputs": [],
   "source": [
    "results['pu_learn'] = pu_estimator.predict_proba(X_freq)"
   ]
  },
  {
   "cell_type": "code",
   "execution_count": 24,
   "metadata": {},
   "outputs": [
    {
     "data": {
      "text/plain": [
       "BaggingPuClassifier(base_estimator=SVC(C=10, break_ties=False, cache_size=200,\n",
       "                                       class_weight=None, coef0=0.0,\n",
       "                                       decision_function_shape='ovr', degree=3,\n",
       "                                       gamma=0.4, kernel='rbf', max_iter=-1,\n",
       "                                       probability=True, random_state=None,\n",
       "                                       shrinking=True, tol=0.001,\n",
       "                                       verbose=False),\n",
       "                    bootstrap=True, bootstrap_features=False, max_features=1.0,\n",
       "                    max_samples=1.0, n_estimators=15, n_jobs=1, oob_score=True,\n",
       "                    random_state=None, verbose=0, warm_start=False)"
      ]
     },
     "execution_count": 24,
     "metadata": {},
     "output_type": "execute_result"
    }
   ],
   "source": [
    "from pulearn import BaggingPuClassifier\n",
    "from sklearn.svm import SVC\n",
    "svc = SVC(C=10, kernel='rbf', gamma=0.4, probability=True)\n",
    "pu_estimator = BaggingPuClassifier(\n",
    "    base_estimator=svc, n_estimators=15)\n",
    "pu_estimator.fit(X_freq.reshape(1440,1200), y_freq)"
   ]
  },
  {
   "cell_type": "code",
   "execution_count": 12,
   "metadata": {},
   "outputs": [
    {
     "data": {
      "text/plain": [
       "array([[0.90897551, 0.86066911, 0.93646745, ..., 0.        , 0.        ,\n",
       "        0.        ]])"
      ]
     },
     "execution_count": 12,
     "metadata": {},
     "output_type": "execute_result"
    }
   ],
   "source": []
  },
  {
   "cell_type": "code",
   "execution_count": 19,
   "metadata": {},
   "outputs": [
    {
     "data": {
      "text/plain": [
       "array([-1])"
      ]
     },
     "execution_count": 19,
     "metadata": {},
     "output_type": "execute_result"
    }
   ],
   "source": [
    "pu_estimator.predict(X_freq[700])"
   ]
  },
  {
   "cell_type": "markdown",
   "metadata": {},
   "source": [
    "## Standrad classifier"
   ]
  },
  {
   "cell_type": "code",
   "execution_count": 16,
   "metadata": {},
   "outputs": [],
   "source": [
    "# We'll use a generic random forest\n",
    "from sklearn.ensemble import RandomForestClassifier\n",
    "rf = RandomForestClassifier(\n",
    "    n_estimators = 1000,  # Use 1000 trees\n",
    "    n_jobs = -1           # Use all CPU cores\n",
    ")\n",
    "rf.fit(X_freq, y_freq)\n",
    "\n",
    "# Store the scores assigned by this approach\n",
    "results = pd.DataFrame({\n",
    "    'truth'      : y_freq_orig,   # The true labels\n",
    "    'label'      : y_freq,        # The labels to be shown to models in experiment\n",
    "    'output_std' : rf.predict_proba(X_freq)[:,1]   # The random forest's scores\n",
    "}, columns = ['truth', 'label', 'output_std'])"
   ]
  },
  {
   "cell_type": "markdown",
   "metadata": {},
   "source": [
    "## Using `BaggingClassifierPU`"
   ]
  },
  {
   "cell_type": "code",
   "execution_count": 22,
   "metadata": {},
   "outputs": [],
   "source": [
    "from pulearn import BaggingPuClassifier\n",
    "bc = BaggingPuClassifier(\n",
    "    DecisionTreeClassifier(), \n",
    "    n_estimators = 1000,  # 1000 trees as usual\n",
    "    max_samples = sum(y_freq), # Balance the positives and unlabeled in each bag\n",
    "    n_jobs = -1           # Use all cores\n",
    ")\n",
    "bc.fit(X_freq, y_freq)\n",
    "results['output_skb'] = bc.oob_decision_function_[:,1]"
   ]
  },
  {
   "cell_type": "markdown",
   "metadata": {},
   "source": [
    "## Comparison of approaches"
   ]
  },
  {
   "cell_type": "code",
   "execution_count": 65,
   "metadata": {},
   "outputs": [
    {
     "data": {
      "text/html": [
       "<div>\n",
       "<style scoped>\n",
       "    .dataframe tbody tr th:only-of-type {\n",
       "        vertical-align: middle;\n",
       "    }\n",
       "\n",
       "    .dataframe tbody tr th {\n",
       "        vertical-align: top;\n",
       "    }\n",
       "\n",
       "    .dataframe thead th {\n",
       "        text-align: right;\n",
       "    }\n",
       "</style>\n",
       "<table border=\"1\" class=\"dataframe\">\n",
       "  <thead>\n",
       "    <tr style=\"text-align: right;\">\n",
       "      <th></th>\n",
       "      <th>truth</th>\n",
       "      <th>label</th>\n",
       "      <th>output_std</th>\n",
       "      <th>output_skb</th>\n",
       "      <th>pu_learn</th>\n",
       "    </tr>\n",
       "  </thead>\n",
       "  <tbody>\n",
       "    <tr>\n",
       "      <th>0</th>\n",
       "      <td>1</td>\n",
       "      <td>1</td>\n",
       "      <td>0.815</td>\n",
       "      <td>NaN</td>\n",
       "      <td>1.407224</td>\n",
       "    </tr>\n",
       "    <tr>\n",
       "      <th>1</th>\n",
       "      <td>1</td>\n",
       "      <td>1</td>\n",
       "      <td>0.790</td>\n",
       "      <td>NaN</td>\n",
       "      <td>2.220166</td>\n",
       "    </tr>\n",
       "    <tr>\n",
       "      <th>2</th>\n",
       "      <td>1</td>\n",
       "      <td>1</td>\n",
       "      <td>0.740</td>\n",
       "      <td>NaN</td>\n",
       "      <td>3.576929</td>\n",
       "    </tr>\n",
       "    <tr>\n",
       "      <th>3</th>\n",
       "      <td>1</td>\n",
       "      <td>1</td>\n",
       "      <td>0.697</td>\n",
       "      <td>NaN</td>\n",
       "      <td>4.694057</td>\n",
       "    </tr>\n",
       "    <tr>\n",
       "      <th>4</th>\n",
       "      <td>1</td>\n",
       "      <td>1</td>\n",
       "      <td>0.724</td>\n",
       "      <td>NaN</td>\n",
       "      <td>4.592132</td>\n",
       "    </tr>\n",
       "    <tr>\n",
       "      <th>...</th>\n",
       "      <td>...</td>\n",
       "      <td>...</td>\n",
       "      <td>...</td>\n",
       "      <td>...</td>\n",
       "      <td>...</td>\n",
       "    </tr>\n",
       "    <tr>\n",
       "      <th>1435</th>\n",
       "      <td>0</td>\n",
       "      <td>0</td>\n",
       "      <td>0.034</td>\n",
       "      <td>0.479042</td>\n",
       "      <td>0.199254</td>\n",
       "    </tr>\n",
       "    <tr>\n",
       "      <th>1436</th>\n",
       "      <td>0</td>\n",
       "      <td>0</td>\n",
       "      <td>0.066</td>\n",
       "      <td>0.555556</td>\n",
       "      <td>0.223077</td>\n",
       "    </tr>\n",
       "    <tr>\n",
       "      <th>1437</th>\n",
       "      <td>0</td>\n",
       "      <td>0</td>\n",
       "      <td>0.082</td>\n",
       "      <td>0.477791</td>\n",
       "      <td>0.200679</td>\n",
       "    </tr>\n",
       "    <tr>\n",
       "      <th>1438</th>\n",
       "      <td>0</td>\n",
       "      <td>0</td>\n",
       "      <td>0.092</td>\n",
       "      <td>0.424065</td>\n",
       "      <td>0.226605</td>\n",
       "    </tr>\n",
       "    <tr>\n",
       "      <th>1439</th>\n",
       "      <td>0</td>\n",
       "      <td>0</td>\n",
       "      <td>0.092</td>\n",
       "      <td>0.502980</td>\n",
       "      <td>0.205955</td>\n",
       "    </tr>\n",
       "  </tbody>\n",
       "</table>\n",
       "<p>1440 rows × 5 columns</p>\n",
       "</div>"
      ],
      "text/plain": [
       "      truth  label  output_std  output_skb  pu_learn\n",
       "0         1      1       0.815         NaN  1.407224\n",
       "1         1      1       0.790         NaN  2.220166\n",
       "2         1      1       0.740         NaN  3.576929\n",
       "3         1      1       0.697         NaN  4.694057\n",
       "4         1      1       0.724         NaN  4.592132\n",
       "...     ...    ...         ...         ...       ...\n",
       "1435      0      0       0.034    0.479042  0.199254\n",
       "1436      0      0       0.066    0.555556  0.223077\n",
       "1437      0      0       0.082    0.477791  0.200679\n",
       "1438      0      0       0.092    0.424065  0.226605\n",
       "1439      0      0       0.092    0.502980  0.205955\n",
       "\n",
       "[1440 rows x 5 columns]"
      ]
     },
     "execution_count": 65,
     "metadata": {},
     "output_type": "execute_result"
    }
   ],
   "source": [
    "results"
   ]
  },
  {
   "cell_type": "code",
   "execution_count": 72,
   "metadata": {},
   "outputs": [],
   "source": [
    "# Prepare for graphing the performance \n",
    "# (i.e. the success in identifying hidden positives)\n",
    "ts = range(100, hidden_size, 100)\n",
    "y_std, y_bag, y_skb, y_stp, y_all = [], [], [], [], []\n",
    "\n",
    "y_puLearn = []\n",
    "\n",
    "for t in ts:\n",
    "    y_std.append(\n",
    "        results[results.label == 0].sort_values(\n",
    "            'output_std', ascending = False\n",
    "        ).head(t).truth.mean()\n",
    "    )\n",
    "    y_skb.append(\n",
    "        results[results.label == 0].sort_values(\n",
    "            'output_skb', ascending = False\n",
    "        ).head(t).truth.mean()\n",
    "    )\n",
    "    \n",
    "    y_puLearn.append(\n",
    "        results[results.label == 1].sort_values(\n",
    "            'pu_learn', ascending = False\n",
    "        ).head(t).truth.mean()\n",
    "    )"
   ]
  },
  {
   "cell_type": "code",
   "execution_count": 73,
   "metadata": {},
   "outputs": [
    {
     "data": {
      "image/png": "[encoded data removed]",
      "text/plain": [
       "<Figure size 1080x576 with 1 Axes>"
      ]
     },
     "metadata": {
      "needs_background": "light"
     },
     "output_type": "display_data"
    }
   ],
   "source": [
    "# Performance graphing\n",
    "plt.rcParams['font.size'] = 16\n",
    "plt.rcParams['figure.figsize'] = 15, 8\n",
    "\n",
    "plt.plot(\n",
    "    ts, y_std,\n",
    "    ts, y_skb,\n",
    "    ts, y_puLearn,\n",
    "    lw = 3\n",
    ")\n",
    "\n",
    "vals = plt.gca().get_yticks()\n",
    "plt.yticks(vals, ['%.0f%%' % (v*100) for v in vals])\n",
    "plt.xlabel('Number of unlabeled data points chosen from the top rated')\n",
    "plt.ylabel('Percent of chosen that are secretly positive')\n",
    "plt.legend([\n",
    "    'Standard classifier', \n",
    "    'PU bagging', \n",
    "    'Two-step approach', \n",
    "    'Average score'\n",
    "])\n",
    "ylim = plt.gca().get_ylim()\n",
    "plt.title('Performance of the three approaches and of their average')\n",
    "plt.grid()\n",
    "plt.show()"
   ]
  }
 ],
 "metadata": {
  "kernelspec": {
   "display_name": "ml",
   "language": "python",
   "name": "ml"
  },
  "language_info": {
   "codemirror_mode": {
    "name": "ipython",
    "version": 3
   },
   "file_extension": ".py",
   "mimetype": "text/x-python",
   "name": "python",
   "nbconvert_exporter": "python",
   "pygments_lexer": "ipython3",
   "version": "3.7.6"
  }
 },
 "nbformat": 4,
 "nbformat_minor": 4
}
