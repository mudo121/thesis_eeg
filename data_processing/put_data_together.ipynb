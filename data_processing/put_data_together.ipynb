{
 "cells": [
  {
   "cell_type": "markdown",
   "metadata": {},
   "source": [
    "# Process Muse Data\n",
    "It can happen that the Muse looses the Connection and then we have multiple files. These files will be putted together here.\n",
    "\n",
    "As well there are two envets when in the Muse Signal (from openVibe):\n",
    "- Start / Resume driving (after KSS) Label 1 ('a')\n",
    "- Pause driving (before KSS) Label 0A ('p')\n",
    "\n",
    "Todo:\n",
    "- Extract the Signals between Start and Pause, as blocks\n",
    "- Put together the Muse Signals / Blocks\n",
    "- Add the KSS Value to the Blocks, to see in which Block how they felt"
   ]
  }
 ],
 "metadata": {
  "kernelspec": {
   "display_name": "py37-ml",
   "language": "python",
   "name": "py37-ml"
  },
  "language_info": {
   "codemirror_mode": {
    "name": "ipython",
    "version": 3
   },
   "file_extension": ".py",
   "mimetype": "text/x-python",
   "name": "python",
   "nbconvert_exporter": "python",
   "pygments_lexer": "ipython3",
   "version": "3.7.0"
  }
 },
 "nbformat": 4,
 "nbformat_minor": 4
}
