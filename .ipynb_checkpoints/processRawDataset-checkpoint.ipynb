{
 "cells": [
  {
   "cell_type": "markdown",
   "metadata": {},
   "source": [
    "## Process a raw Dataset\n",
    "This notebook shows the complete pipeline to have machine learning ready data"
   ]
  },
  {
   "cell_type": "code",
   "execution_count": 4,
   "metadata": {},
   "outputs": [
    {
     "name": "stdout",
     "output_type": "stream",
     "text": [
      "D:\\Masterthesis\\thesis_eeg\\code\n"
     ]
    }
   ],
   "source": [
    "# Imports\n",
    "import os, sys\n",
    "import numpy as np\n",
    "from typing import Tuple, List, Dict\n",
    "import pandas as pd\n",
    "import io\n",
    "\n",
    "# to enable local imports\n",
    "module_path = os.path.abspath('code')\n",
    "print(module_path)\n",
    "if module_path not in sys.path:\n",
    "    sys.path.append(module_path)\n",
    "    \n",
    "from machine_learning_data_generation import loadPickeldDataset, processRawDatasetToPickleFiles, loadOnlineEEGdata\n",
    "from consts import DEVICES_NEUROSCAN, DEVICES_MUSE_LSL_OPEN_VIBE\n",
    "\n",
    "SKIP_DIRS = ['openVibe', 'subject_1', 'subject_6', 'simulatorData']"
   ]
  },
  {
   "cell_type": "markdown",
   "metadata": {},
   "source": [
    "## Save a dataset to pickel files\n",
    "With this function  a dataset gets processed and the output will be saved to pickel files\n",
    "\n",
    "*** Careful! Takes about 1 Hour! ***"
   ]
  },
  {
   "cell_type": "code",
   "execution_count": 5,
   "metadata": {},
   "outputs": [
    {
     "name": "stdout",
     "output_type": "stream",
     "text": [
      "Already processed the EEG Online Data\n"
     ]
    }
   ],
   "source": [
    "PROCESS_DATA = False\n",
    "\n",
    "\n",
    "if PROCESS_DATA:\n",
    "    # Process the online EEG Data\n",
    "    '''\n",
    "    processRawDatasetToPickleFiles(datasetDirPath = \"D:/Masterthesis/EEG_Data/eeg_data_online\",\n",
    "                              device = DEVICES_NEUROSCAN,\n",
    "                              awakeFileName = None,\n",
    "                              fatigueFileName = \"Fatigue_state_256hz.csv\",\n",
    "                              normalFileName = \"Normal_state_256hz.csv\",\n",
    "                              unlabeledFileName = None)\n",
    "    '''\n",
    "    \n",
    "    # Process the Muse Data\n",
    "    \n",
    "    # Todo add parameter to optionally add en extra name/id to the generated data. E.g. for where it came from (driving, p300, reaction,)\n",
    "    processRawDatasetToPickleFiles(datasetDirPath = \"D:/Masterthesis/EEG_Data/muse_data\",\n",
    "                                  device = DEVICES_MUSE_LSL_OPEN_VIBE,\n",
    "                                  awakeFileName = \"reaction_game_complete.csv\",\n",
    "                                  fatigueFileName = 'driving_fatigue.csv',\n",
    "                                  normalFileName = None,\n",
    "                                  unlabeledFileName = None, # 'driving_complete.csv',\n",
    "                                  skipDirs=SKIP_DIRS) # faulty or empty dirs\n",
    "    \n",
    "    \n",
    "else:\n",
    "    print (\"Already processed the EEG Online Data\")"
   ]
  },
  {
   "cell_type": "markdown",
   "metadata": {},
   "source": [
    "### Function to create a Machine Learning Dataset\n",
    "With this functions you can create a X and y Dataset from a given EEG Dataset (use the function 'processRawDatasetToPickleFiles').\n",
    "It creates a X & y for the EEG Signals and the frequency features"
   ]
  },
  {
   "cell_type": "code",
   "execution_count": 6,
   "metadata": {},
   "outputs": [
    {
     "name": "stdout",
     "output_type": "stream",
     "text": [
      "********* Skipping dir 'openVibe' *********\n",
      "********* Skipping dir 'subject_1' *********\n",
      "Load Subject subject_10 Data...\n"
     ]
    },
    {
     "ename": "NameError",
     "evalue": "name 'epochSeriesFilename' is not defined",
     "output_type": "error",
     "traceback": [
      "\u001b[1;31m---------------------------------------------------------------------------\u001b[0m",
      "\u001b[1;31mNameError\u001b[0m                                 Traceback (most recent call last)",
      "\u001b[1;32m<ipython-input-6-8b67dfde49da>\u001b[0m in \u001b[0;36m<module>\u001b[1;34m\u001b[0m\n\u001b[0;32m     17\u001b[0m \u001b[1;33m\u001b[0m\u001b[0m\n\u001b[0;32m     18\u001b[0m     eegDataset = loadPickeldDataset(\"D:/Masterthesis/EEG_Data/muse_data\",\n\u001b[1;32m---> 19\u001b[1;33m                                     skipDirs=SKIP_DIRS)\n\u001b[0m\u001b[0;32m     20\u001b[0m \u001b[1;33m\u001b[0m\u001b[0m\n\u001b[0;32m     21\u001b[0m     createAndSafeMlDataset(eegDataset=eegDataset,\n",
      "\u001b[1;32mD:\\Masterthesis\\thesis_eeg\\code\\machine_learning_data_generation.py\u001b[0m in \u001b[0;36mloadPickeldDataset\u001b[1;34m(datasetDirPath, skipDirs)\u001b[0m\n\u001b[0;32m    196\u001b[0m                 epochSeries_awake, frequencyFeatureDf_awake, entropy_3d_array_awake = loadPickeldData(dataDir = os.path.join(datasetDirPath, subjectDir),\n\u001b[0;32m    197\u001b[0m                                                                                                       \u001b[0mlabel\u001b[0m\u001b[1;33m=\u001b[0m\u001b[0mTARGET_AWAKE\u001b[0m\u001b[1;33m,\u001b[0m\u001b[1;33m\u001b[0m\u001b[1;33m\u001b[0m\u001b[0m\n\u001b[1;32m--> 198\u001b[1;33m                                                                                                       \u001b[0mepochSeries\u001b[0m\u001b[1;33m=\u001b[0m\u001b[0mepochSeriesFilename\u001b[0m\u001b[1;33m,\u001b[0m\u001b[1;33m\u001b[0m\u001b[1;33m\u001b[0m\u001b[0m\n\u001b[0m\u001b[0;32m    199\u001b[0m                                                                                                       \u001b[0mfrequencyData\u001b[0m\u001b[1;33m=\u001b[0m\u001b[0mfrequencyDataFilename\u001b[0m\u001b[1;33m,\u001b[0m\u001b[1;33m\u001b[0m\u001b[1;33m\u001b[0m\u001b[0m\n\u001b[0;32m    200\u001b[0m                                                                                                       entropyData=entropyDataFilename)\n",
      "\u001b[1;31mNameError\u001b[0m: name 'epochSeriesFilename' is not defined"
     ]
    }
   ],
   "source": [
    "from machine_learning_data_generation import createAndSafeMlDataset\n",
    "from consts import TARGET_FATIGUE, TARGET_NORMAL, TARGET_AWAKE\n",
    "\n",
    "CREATE_ML_DATA = True\n",
    "\n",
    "TARGET_LABEL_DICT = {TARGET_AWAKE : 1,\n",
    "                     TARGET_FATIGUE : 0}\n",
    "\n",
    "if CREATE_ML_DATA:\n",
    "    \n",
    "    '''\n",
    "    eegDataset = loadPickeldDataset(\"D:/Masterthesis/EEG_Data/eeg_data_online\")\n",
    "    createAndSafeMlDataset(eegDataset=eegDataset,\n",
    "                           targetLabelDict=TARGET_LABEL_DICT,\n",
    "                           dirPath=\"D:/Masterthesis/EEG_Data/eeg_data_online\")\n",
    "    '''\n",
    "    \n",
    "    eegDataset = loadPickeldDataset(\"D:/Masterthesis/EEG_Data/muse_data\",\n",
    "                                    skipDirs=SKIP_DIRS)\n",
    "    \n",
    "    createAndSafeMlDataset(eegDataset=eegDataset,\n",
    "                          targetLabelDict=TARGET_LABEL_DICT,\n",
    "                          dirPath=\"D:/Masterthesis/EEG_Data/muse_data\")\n",
    "    \n",
    "else:\n",
    "    print(\"Already created ML Data\")\n"
   ]
  },
  {
   "cell_type": "markdown",
   "metadata": {},
   "source": [
    "### Example - Load  the online EEG Dataset"
   ]
  },
  {
   "cell_type": "code",
   "execution_count": 5,
   "metadata": {},
   "outputs": [
    {
     "name": "stdout",
     "output_type": "stream",
     "text": [
      "Loading Online EEG Data from D:/Masterthesis/EEG_Data/eeg_data_online ...\n",
      "Data does not get splitted into train and test!\n",
      "EEG Data Shape:\n",
      "(7178, 512, 40) (7178,)\n",
      "Freq Data Shape:\n",
      "(1440, 1, 1200) (1440,)\n",
      "Entropy Data Shape:\n",
      "(7178, 1, 200) (7178,)\n"
     ]
    }
   ],
   "source": [
    "eegData, freqData, entropyData = loadOnlineEEGdata(shuffle=False, splitData=False)"
   ]
  },
  {
   "cell_type": "code",
   "execution_count": 5,
   "metadata": {},
   "outputs": [
    {
     "ename": "NameError",
     "evalue": "name 'trainX' is not defined",
     "output_type": "error",
     "traceback": [
      "\u001b[1;31m---------------------------------------------------------------------------\u001b[0m",
      "\u001b[1;31mNameError\u001b[0m                                 Traceback (most recent call last)",
      "\u001b[1;32m<ipython-input-5-8c524fd0ec16>\u001b[0m in \u001b[0;36m<module>\u001b[1;34m\u001b[0m\n\u001b[1;32m----> 1\u001b[1;33m \u001b[0mprint\u001b[0m\u001b[1;33m(\u001b[0m\u001b[1;34m\"Shape train X: {}\"\u001b[0m\u001b[1;33m.\u001b[0m\u001b[0mformat\u001b[0m\u001b[1;33m(\u001b[0m\u001b[0mtrainX\u001b[0m\u001b[1;33m.\u001b[0m\u001b[0mshape\u001b[0m\u001b[1;33m)\u001b[0m\u001b[1;33m)\u001b[0m\u001b[1;33m\u001b[0m\u001b[1;33m\u001b[0m\u001b[0m\n\u001b[0m\u001b[0;32m      2\u001b[0m \u001b[0mprint\u001b[0m\u001b[1;33m(\u001b[0m\u001b[1;34m\"Shape train y: {}\"\u001b[0m\u001b[1;33m.\u001b[0m\u001b[0mformat\u001b[0m\u001b[1;33m(\u001b[0m\u001b[0mtrainy\u001b[0m\u001b[1;33m.\u001b[0m\u001b[0mshape\u001b[0m\u001b[1;33m)\u001b[0m\u001b[1;33m)\u001b[0m\u001b[1;33m\u001b[0m\u001b[1;33m\u001b[0m\u001b[0m\n\u001b[0;32m      3\u001b[0m \u001b[0mprint\u001b[0m\u001b[1;33m(\u001b[0m\u001b[1;34m\"Shape test X: {}\"\u001b[0m\u001b[1;33m.\u001b[0m\u001b[0mformat\u001b[0m\u001b[1;33m(\u001b[0m\u001b[0mtestX\u001b[0m\u001b[1;33m.\u001b[0m\u001b[0mshape\u001b[0m\u001b[1;33m)\u001b[0m\u001b[1;33m)\u001b[0m\u001b[1;33m\u001b[0m\u001b[1;33m\u001b[0m\u001b[0m\n\u001b[0;32m      4\u001b[0m \u001b[0mprint\u001b[0m\u001b[1;33m(\u001b[0m\u001b[1;34m\"Shape test y: {}\"\u001b[0m\u001b[1;33m.\u001b[0m\u001b[0mformat\u001b[0m\u001b[1;33m(\u001b[0m\u001b[0mtesty\u001b[0m\u001b[1;33m.\u001b[0m\u001b[0mshape\u001b[0m\u001b[1;33m)\u001b[0m\u001b[1;33m)\u001b[0m\u001b[1;33m\u001b[0m\u001b[1;33m\u001b[0m\u001b[0m\n",
      "\u001b[1;31mNameError\u001b[0m: name 'trainX' is not defined"
     ]
    }
   ],
   "source": [
    "print(\"Shape train X: {}\".format(trainX.shape))\n",
    "print(\"Shape train y: {}\".format(trainy.shape))\n",
    "print(\"Shape test X: {}\".format(testX.shape))\n",
    "print(\"Shape test y: {}\".format(testy.shape))\n"
   ]
  },
  {
   "cell_type": "code",
   "execution_count": 9,
   "metadata": {},
   "outputs": [
    {
     "data": {
      "text/plain": [
       "array([[[ 0.58857225, -0.05947701,  0.75340673, ...,  0.        ,\n",
       "          0.        ,  0.        ]],\n",
       "\n",
       "       [[ 0.77181281,  0.53140419,  0.83882233, ...,  0.        ,\n",
       "          0.        ,  0.        ]],\n",
       "\n",
       "       [[ 0.60697763,  0.44422637,  0.88404084, ...,  0.        ,\n",
       "          0.        ,  0.        ]],\n",
       "\n",
       "       ...,\n",
       "\n",
       "       [[ 0.73472731,  0.54010546,  0.80864854, ...,  0.        ,\n",
       "          0.        ,  0.        ]],\n",
       "\n",
       "       [[ 0.50687363,  0.31490547,  0.60680156, ...,  0.        ,\n",
       "          0.        ,  0.        ]],\n",
       "\n",
       "       [[ 0.53433675,  0.39765327,  0.74250543, ...,  0.        ,\n",
       "          0.        ,  0.        ]]])"
      ]
     },
     "execution_count": 9,
     "metadata": {},
     "output_type": "execute_result"
    }
   ],
   "source": []
  },
  {
   "cell_type": "code",
   "execution_count": 28,
   "metadata": {},
   "outputs": [
    {
     "name": "stdout",
     "output_type": "stream",
     "text": [
      ">#1: 51.620\n",
      ">#2: 51.620\n",
      ">#3: 51.620\n",
      ">#4: 51.620\n",
      ">#5: 51.620\n",
      "[51.62037014961243, 51.62037014961243, 51.62037014961243, 51.62037014961243, 51.62037014961243]\n",
      "Accuracy: 51.620% (+/-0.000)\n"
     ]
    }
   ],
   "source": [
    "repeats = 5\n",
    "# repeat experiment\n",
    "scores = list()\n",
    "for r in range(repeats):\n",
    "    score = evaluate_model(trainX, trainy, testX, testy)\n",
    "    score = score * 100.0\n",
    "    print('>#%d: %.3f' % (r+1, score))\n",
    "    scores.append(score)\n",
    "# summarize results\n",
    "summarize_results(scores)"
   ]
  }
 ],
 "metadata": {
  "kernelspec": {
   "display_name": "ml",
   "language": "python",
   "name": "ml"
  },
  "language_info": {
   "codemirror_mode": {
    "name": "ipython",
    "version": 3
   },
   "file_extension": ".py",
   "mimetype": "text/x-python",
   "name": "python",
   "nbconvert_exporter": "python",
   "pygments_lexer": "ipython3",
   "version": "3.7.6"
  }
 },
 "nbformat": 4,
 "nbformat_minor": 4
}
