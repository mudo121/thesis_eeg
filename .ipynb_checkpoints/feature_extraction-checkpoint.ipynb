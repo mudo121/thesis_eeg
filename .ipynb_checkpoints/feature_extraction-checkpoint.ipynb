{
 "cells": [
  {
   "cell_type": "markdown",
   "metadata": {},
   "source": [
    "# Notebook for more Features of the Data"
   ]
  },
  {
   "cell_type": "code",
   "execution_count": 1,
   "metadata": {},
   "outputs": [
    {
     "name": "stdout",
     "output_type": "stream",
     "text": [
      "D:\\Masterthesis\\thesis_eeg\\code\n"
     ]
    },
    {
     "name": "stderr",
     "output_type": "stream",
     "text": [
      "Using TensorFlow backend.\n"
     ]
    }
   ],
   "source": [
    "# Imports\n",
    "import os, sys\n",
    "import numpy as np\n",
    "import matplotlib.pyplot as plt\n",
    "import pandas as pd\n",
    "\n",
    "# to enable local imports\n",
    "module_path = os.path.abspath('code')\n",
    "print(module_path)\n",
    "if module_path not in sys.path:\n",
    "    sys.path.append(module_path)\n",
    "\n",
    "from machine_learning_data_generation import loadOnlineEEGdata, loadPickeldData, loadPickeldDataset"
   ]
  },
  {
   "cell_type": "markdown",
   "metadata": {},
   "source": [
    "### Load one epoch Series"
   ]
  },
  {
   "cell_type": "code",
   "execution_count": 2,
   "metadata": {},
   "outputs": [
    {
     "name": "stdout",
     "output_type": "stream",
     "text": [
      "Loaded 'NORMAL' epoch Series and freqDf from ../EEG_Data/eeg_data_online/1 \n"
     ]
    }
   ],
   "source": [
    "DATA_DIR = \"../EEG_Data/eeg_data_online/1\"\n",
    "LABEL = \"normal\"\n",
    "epochSeries, frequencyFeatureDf = loadPickeldData(DATA_DIR, label=LABEL)\n",
    "print(\"Loaded '{}' epoch Series and freqDf from {} \".format(LABEL.upper(), DATA_DIR))"
   ]
  },
  {
   "cell_type": "code",
   "execution_count": 18,
   "metadata": {},
   "outputs": [
    {
     "name": "stdout",
     "output_type": "stream",
     "text": [
      "Loading Online EEG Data from D:/Masterthesis/EEG_Data/eeg_data_online ...\n",
      "Data does not get splitted into train and test!\n",
      "EEG Data Shape:\n",
      "(7178, 512, 40) (7178,)\n",
      "Freq Data Shape:\n",
      "(1440, 1, 1200) (1440,)\n"
     ]
    }
   ],
   "source": [
    "eegData, freqData = loadOnlineEEGdata(splitData=False)\n",
    "eegX, eegy = eegData\n",
    "freqX, freqy = freqData"
   ]
  },
  {
   "cell_type": "markdown",
   "metadata": {},
   "source": [
    "# Time Domain Features\n",
    "- (Raw) Normal Signal\n",
    "- Maximum\n",
    "- Minimum\n",
    "- Standard Deviation"
   ]
  },
  {
   "cell_type": "code",
   "execution_count": 22,
   "metadata": {},
   "outputs": [
    {
     "data": {
      "text/plain": [
       "<matplotlib.axes._subplots.AxesSubplot at 0x18605bbbac8>"
      ]
     },
     "execution_count": 22,
     "metadata": {},
     "output_type": "execute_result"
    },
    {
     "data": {
      "image/png": "[encoded data removed]",
      "text/plain": [
       "<Figure size 432x288 with 1 Axes>"
      ]
     },
     "metadata": {
      "needs_background": "light"
     },
     "output_type": "display_data"
    }
   ],
   "source": [
    "epochSeries[10].channel_7.plot()"
   ]
  },
  {
   "cell_type": "code",
   "execution_count": 25,
   "metadata": {},
   "outputs": [
    {
     "data": {
      "text/plain": [
       "0.2080001750890229"
      ]
     },
     "execution_count": 25,
     "metadata": {},
     "output_type": "execute_result"
    }
   ],
   "source": [
    "epochSeries[10].channel_7.std()"
   ]
  },
  {
   "cell_type": "markdown",
   "metadata": {},
   "source": [
    "# Entropy Features\n",
    " - Approximate Entropy (AE)\n",
    " - Sample Entropy (SamE)\n",
    " - Spectral Entropy (SpeE)\n",
    " - Permutation Entropy (PE)\n",
    " - Singular Value Decomposition Entropy (SvdE)\n",
    " \n",
    " Used package: https://raphaelvallat.com/entropy/build/html/index.html"
   ]
  },
  {
   "cell_type": "markdown",
   "metadata": {},
   "source": [
    "### Approximate Entropy"
   ]
  },
  {
   "cell_type": "code",
   "execution_count": 29,
   "metadata": {},
   "outputs": [],
   "source": [
    "import entropy\n",
    "from typing import List\n",
    "\n",
    "def createEmptyNumpyArray(d1, d2=None, d3=None):\n",
    "    ''' Function to create an empty numpy Array, with the given dimesion'''\n",
    "    if d2 is None and d3 is None:\n",
    "        numpyArray = np.zeros((d1))\n",
    "    \n",
    "    elif d2 is not None and d3 is None:\n",
    "        numpyArray = np.zeros((d1, d2))\n",
    "    \n",
    "    elif d3 is not None and d3 is not None:\n",
    "        numpyArray = np.zeros((d1, d2, d3))\n",
    "    \n",
    "    print(\"Created Numpy Array - Shape: {}\".format(numpyArray.shape))\n",
    "    return numpyArray\n",
    "\n",
    "def addFeatureToList(featureList, featureListIndex, newFeatureName):\n",
    "    ''' Add a feature to a list, with a given index'''\n",
    "    if newFeatureName not in featureList:\n",
    "        featureList[featureListIndex] = newFeatureName\n",
    "    return featureList\n",
    "\n",
    "def createEntropyFeatureArray(epochSeries : pd.Series, samplingFreq : int) -> (np.ndarray, List[str]):\n",
    "    ''' Creates 3d Numpy with a entropy features - also returns the feature names'''\n",
    "    # Create np array, where the data will be stored\n",
    "    d1 = len(epochSeries) # First Dimesion\n",
    "    d2 = 1 # only one sample in that epoch\n",
    "    \n",
    "    channels = len(epochSeries[0].columns)\n",
    "    d3 = channels * 5 # second dimension - 5 because we calculate five different entropies for each channel\n",
    "    \n",
    "    entropyFeatureArrayX = createEmptyNumpyArray(d1, d2, d3)\n",
    "    \n",
    "    # Create a list where all feature names are stored\n",
    "    entropyFeatureList = [None] * d3\n",
    "    \n",
    "    stepSize = 5 # step is 5 because we calculate 5 different entropies\n",
    "    for i in range (0, len(epochSeries)):\n",
    "        \n",
    "        # We start the the stepz size and loop through the columns, but we have to multiply by the stepzsize and add once the step size (because we don't start at 0)\n",
    "        for j in range(stepSize, (len(epochSeries[i].columns)*stepSize)+stepSize, stepSize): \n",
    "            \n",
    "            # j_epoch is the normalized index for the epoch series (like the step size would be 1)\n",
    "            j_epoch = j/stepSize - 1\n",
    "            \n",
    "            # get the column name\n",
    "            col = epochSeries[i].columns[j_epoch]\n",
    "            \n",
    "            # The values of the epoch of the current column\n",
    "            colEpochList = epochSeries[i][col].tolist()\n",
    "            \n",
    "            ######################################\n",
    "            # calculate Approximate Entropy\n",
    "            # ------------------------------------\n",
    "            entropyFeatureArrayX[i][0][j-1] = entropy.app_entropy(colEpochList, order=2)\n",
    "            \n",
    "            # add approximate entropy feature to the list\n",
    "            entropyFeatureList = addFeatureToList(featureList = entropyFeatureList,\n",
    "                                                  featureListIndex = j-1,\n",
    "                                                  newFeatureName = \"{col}_approximate_entropy\".format(col=col))\n",
    "            \n",
    "            ######################################\n",
    "            # calculate Sample Entropy\n",
    "            # ------------------------------------\n",
    "            val = entropy.sample_entropy(colEpochList, order=2)\n",
    "            # if the value is NaN, just set it to 0\n",
    "            if val = np.nan:\n",
    "                val = 0\n",
    "            entropyFeatureArrayX[i][0][j-2] = val\n",
    "            \n",
    "            entropyFeatureList = addFeatureToList(featureList = entropyFeatureList,\n",
    "                                                  featureListIndex = j-2,\n",
    "                                                  newFeatureName = \"{col}_sample_entropy\".format(col=col))\n",
    "            \n",
    "            ######################################\n",
    "            # calculate Spectral Entropy\n",
    "            # ------------------------------------\n",
    "            val = entropy.spectral_entropy(colEpochList, sf=samplingFreq ,method='fft', normalize=True)\n",
    "            # if the value is NaN, just set it to 0\n",
    "            if val = np.nan:\n",
    "                val = 0\n",
    "            entropyFeatureArrayX[i][0][j-3] = val\n",
    "            \n",
    "            entropyFeatureList = addFeatureToList(featureList = entropyFeatureList,\n",
    "                                                  featureListIndex = j-3,\n",
    "                                                  newFeatureName = \"{col}_spectral_entropy\".format(col=col))\n",
    "            \n",
    "            ######################################\n",
    "            # calculate Permutation Entropy\n",
    "            # ------------------------------------\n",
    "            val = entropy.perm_entropy(colEpochList, order=3, normalize=True, delay=1)\n",
    "            # if the value is NaN, just set it to 0\n",
    "            if val = np.nan:\n",
    "                val = 0\n",
    "            entropyFeatureArrayX[i][0][j-4] = val\n",
    "            \n",
    "            entropyFeatureList = addFeatureToList(featureList = entropyFeatureList,\n",
    "                                                  featureListIndex = j-4,\n",
    "                                                  newFeatureName = \"{col}_permutation_entropy\".format(col=col))\n",
    "            \n",
    "            ######################################\n",
    "            # calculate Singular Value Decomposition entropy.\n",
    "            # ------------------------------------\n",
    "            val = entropy.svd_entropy(colEpochList, order=3, normalize=True, delay=1)\n",
    "            # if the value is NaN, just set it to 0\n",
    "            if val = np.nan:\n",
    "                val = 0\n",
    "            entropyFeatureArrayX[i][0][j-5] = val\n",
    "            \n",
    "            entropyFeatureList = addFeatureToList(featureList = entropyFeatureList,\n",
    "                                                  featureListIndex = j-5,\n",
    "                                                  newFeatureName = \"{col}_svd_entropy\".format(col=col))\n",
    "            \n",
    "            \n",
    "        break\n",
    "    \n",
    "    return entropyFeatureArrayX, entropyFeatureList"
   ]
  },
  {
   "cell_type": "code",
   "execution_count": 30,
   "metadata": {},
   "outputs": [
    {
     "name": "stdout",
     "output_type": "stream",
     "text": [
      "Created Numpy Array - Shape: (299, 1, 200)\n"
     ]
    },
    {
     "name": "stderr",
     "output_type": "stream",
     "text": [
      "d:\\masterthesis\\entropy\\entropy\\entropy.py:179: RuntimeWarning: invalid value encountered in true_divide\n",
      "  psd_norm = np.divide(psd, psd.sum())\n",
      "d:\\masterthesis\\entropy\\entropy\\entropy.py:252: RuntimeWarning: invalid value encountered in true_divide\n",
      "  W /= sum(W)\n",
      "d:\\masterthesis\\entropy\\entropy\\entropy.py:179: RuntimeWarning: invalid value encountered in true_divide\n",
      "  psd_norm = np.divide(psd, psd.sum())\n",
      "d:\\masterthesis\\entropy\\entropy\\entropy.py:252: RuntimeWarning: invalid value encountered in true_divide\n",
      "  W /= sum(W)\n",
      "d:\\masterthesis\\entropy\\entropy\\entropy.py:179: RuntimeWarning: invalid value encountered in true_divide\n",
      "  psd_norm = np.divide(psd, psd.sum())\n",
      "d:\\masterthesis\\entropy\\entropy\\entropy.py:252: RuntimeWarning: invalid value encountered in true_divide\n",
      "  W /= sum(W)\n",
      "d:\\masterthesis\\entropy\\entropy\\entropy.py:179: RuntimeWarning: invalid value encountered in true_divide\n",
      "  psd_norm = np.divide(psd, psd.sum())\n",
      "d:\\masterthesis\\entropy\\entropy\\entropy.py:252: RuntimeWarning: invalid value encountered in true_divide\n",
      "  W /= sum(W)\n",
      "d:\\masterthesis\\entropy\\entropy\\entropy.py:179: RuntimeWarning: invalid value encountered in true_divide\n",
      "  psd_norm = np.divide(psd, psd.sum())\n",
      "d:\\masterthesis\\entropy\\entropy\\entropy.py:252: RuntimeWarning: invalid value encountered in true_divide\n",
      "  W /= sum(W)\n",
      "d:\\masterthesis\\entropy\\entropy\\entropy.py:179: RuntimeWarning: invalid value encountered in true_divide\n",
      "  psd_norm = np.divide(psd, psd.sum())\n",
      "d:\\masterthesis\\entropy\\entropy\\entropy.py:252: RuntimeWarning: invalid value encountered in true_divide\n",
      "  W /= sum(W)\n",
      "d:\\masterthesis\\entropy\\entropy\\entropy.py:179: RuntimeWarning: invalid value encountered in true_divide\n",
      "  psd_norm = np.divide(psd, psd.sum())\n",
      "d:\\masterthesis\\entropy\\entropy\\entropy.py:252: RuntimeWarning: invalid value encountered in true_divide\n",
      "  W /= sum(W)\n"
     ]
    }
   ],
   "source": [
    "entropyX, entropyX_featureList = createEntropyFeatureArray(epochSeries, 256)"
   ]
  },
  {
   "cell_type": "code",
   "execution_count": 27,
   "metadata": {},
   "outputs": [
    {
     "data": {
      "text/plain": [
       "list"
      ]
     },
     "execution_count": 27,
     "metadata": {},
     "output_type": "execute_result"
    }
   ],
   "source": [
    "type(entropyX_featureList)"
   ]
  },
  {
   "cell_type": "markdown",
   "metadata": {},
   "source": [
    "# Wavelet Decompostion"
   ]
  },
  {
   "cell_type": "code",
   "execution_count": null,
   "metadata": {},
   "outputs": [],
   "source": []
  },
  {
   "cell_type": "markdown",
   "metadata": {},
   "source": [
    "# Freqeucny Feautures\n",
    "- The ones we already have\n",
    "- Ratios between different frequency bands (Using EEG spectral components to assess algorithms for detecting fatigue)\n",
    "    - (Theta + Alpha) / Beta\n",
    "    - Alpha / Beta\n",
    "    - (Theta + Alpha) / (Alpha + Beta)\n",
    "    - Theta / Beta"
   ]
  }
 ],
 "metadata": {
  "kernelspec": {
   "display_name": "ml",
   "language": "python",
   "name": "ml"
  },
  "language_info": {
   "codemirror_mode": {
    "name": "ipython",
    "version": 3
   },
   "file_extension": ".py",
   "mimetype": "text/x-python",
   "name": "python",
   "nbconvert_exporter": "python",
   "pygments_lexer": "ipython3",
   "version": "3.7.6"
  }
 },
 "nbformat": 4,
 "nbformat_minor": 4
}
