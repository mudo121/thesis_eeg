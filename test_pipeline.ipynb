{
 "cells": [
  {
   "cell_type": "markdown",
   "metadata": {},
   "source": [
    "# Notebok to test Pipelines"
   ]
  },
  {
   "cell_type": "code",
   "execution_count": 1,
   "metadata": {},
   "outputs": [],
   "source": [
    "# Imports\n",
    "import os, sys\n",
    "import pandas as pd\n",
    "from datetime import datetime\n",
    "import matplotlib.pyplot as plt\n",
    "import numpy as np\n",
    "\n",
    "# to enable local imports\n",
    "module_path = os.path.abspath(os.path.join('code'))\n",
    "if module_path not in sys.path:\n",
    "    sys.path.append(module_path)\n",
    "\n",
    "from pipelines import filter_signal, pre_process_signal, feature_extraction, convert_data\n",
    "from utils import loadConfigFile\n",
    "from plotFunctions import plot_magnitudeFreq_and_PSD\n"
   ]
  },
  {
   "cell_type": "code",
   "execution_count": 2,
   "metadata": {},
   "outputs": [
    {
     "name": "stdout",
     "output_type": "stream",
     "text": [
      "Loading the config file for neuroscan\n"
     ]
    }
   ],
   "source": [
    "SUBJECT = 1 # Subject to use\n",
    "\n",
    "# Import a subjectDict\n",
    "from data import onlineEegDataDict as subjectDict\n",
    "\n",
    "# Load the yaml config\n",
    "yamlConfig = loadConfigFile(subjectDict[SUBJECT][\"Device\"])\n",
    "\n",
    "# create a df\n",
    "df = pd.read_csv(subjectDict[SUBJECT][\"fatigueCsvPath\"])\n",
    "\n",
    "\n",
    "\n"
   ]
  },
  {
   "cell_type": "code",
   "execution_count": 3,
   "metadata": {},
   "outputs": [],
   "source": [
    "df, featureList = convert_data(df=df, config=yamlConfig)"
   ]
  },
  {
   "cell_type": "code",
   "execution_count": 4,
   "metadata": {},
   "outputs": [
    {
     "name": "stdout",
     "output_type": "stream",
     "text": [
      "Saving a feature list to: 'D:/Masterthesis/EEG_Data/eeg_data_online/features.txt'\n"
     ]
    }
   ],
   "source": [
    "from typing import List\n",
    "def saveFeatureListToFile(featureList : List, filepath : str):\n",
    "    \n",
    "    if type(featureList) is not list:\n",
    "        raise Exception(\"The given feature list is not a list!\")\n",
    "    \n",
    "    print(\"Saving a feature list to: '{}'\".format(filepath))\n",
    "    \n",
    "    f = open(filepath, \"w\")\n",
    "    for feature in featureList:\n",
    "        line = \"{}\\n\".format(feature)\n",
    "        f.write(line)\n",
    "    f.close()\n",
    "\n",
    "saveFeatureListToFile(featureList, filepath=\"D:/Masterthesis/EEG_Data/eeg_data_online/features.txt\")\n",
    "    "
   ]
  },
  {
   "cell_type": "code",
   "execution_count": 5,
   "metadata": {},
   "outputs": [],
   "source": [
    "# Filter Signal\n",
    "df = filter_signal(df=df, config=yamlConfig)"
   ]
  },
  {
   "cell_type": "code",
   "execution_count": 9,
   "metadata": {},
   "outputs": [
    {
     "data": {
      "text/plain": [
       "<matplotlib.axes._subplots.AxesSubplot at 0x2c3c5a9f048>"
      ]
     },
     "execution_count": 9,
     "metadata": {},
     "output_type": "execute_result"
    },
    {
     "data": {
      "image/png": "[encoded data removed]",
      "text/plain": [
       "<Figure size 432x288 with 1 Axes>"
      ]
     },
     "metadata": {
      "needs_background": "light"
     },
     "output_type": "display_data"
    }
   ],
   "source": [
    "df.channel_1.plot()"
   ]
  },
  {
   "cell_type": "code",
   "execution_count": 10,
   "metadata": {},
   "outputs": [
    {
     "name": "stdout",
     "output_type": "stream",
     "text": [
      "Creating sliding windows...\n",
      "Converting 3d Numpy Array to a series of Df's\n",
      "Normalizing data...\n",
      "Deleting Nan's...\n"
     ]
    }
   ],
   "source": [
    "df_series = pre_process_signal(df=df, config=yamlConfig)"
   ]
  },
  {
   "cell_type": "code",
   "execution_count": null,
   "metadata": {},
   "outputs": [],
   "source": []
  },
  {
   "cell_type": "code",
   "execution_count": null,
   "metadata": {},
   "outputs": [],
   "source": []
  },
  {
   "cell_type": "code",
   "execution_count": 17,
   "metadata": {},
   "outputs": [
    {
     "data": {
      "text/plain": [
       "0           channel_1  channel_2  channel_3  channel_...\n",
       "1           channel_1  channel_2  channel_3  channel_...\n",
       "2           channel_1  channel_2  channel_3  channel_...\n",
       "3           channel_1  channel_2   channel_3   channe...\n",
       "4           channel_1  channel_2  channel_3  channel_...\n",
       "                             ...                        \n",
       "294         channel_1  channel_2  channel_3  channel_...\n",
       "295         channel_1  channel_2  channel_3  channel_...\n",
       "296         channel_1  channel_2  channel_3  channel_...\n",
       "297         channel_1  channel_2  channel_3  channel_...\n",
       "298         channel_1  channel_2  channel_3  channel_...\n",
       "Length: 299, dtype: object"
      ]
     },
     "execution_count": 17,
     "metadata": {},
     "output_type": "execute_result"
    }
   ],
   "source": []
  },
  {
   "cell_type": "code",
   "execution_count": null,
   "metadata": {},
   "outputs": [],
   "source": []
  },
  {
   "cell_type": "code",
   "execution_count": 7,
   "metadata": {},
   "outputs": [
    {
     "data": {
      "text/plain": [
       "<matplotlib.axes._subplots.AxesSubplot at 0x160ee4f2b08>"
      ]
     },
     "execution_count": 7,
     "metadata": {},
     "output_type": "execute_result"
    },
    {
     "data": {
      "image/png": "[encoded data removed]",
      "text/plain": [
       "<Figure size 432x288 with 1 Axes>"
      ]
     },
     "metadata": {
      "needs_background": "light"
     },
     "output_type": "display_data"
    }
   ],
   "source": [
    "df_series[0].channel_1.plot()"
   ]
  },
  {
   "cell_type": "code",
   "execution_count": 11,
   "metadata": {},
   "outputs": [
    {
     "name": "stdout",
     "output_type": "stream",
     "text": [
      "Frequenccy Bands: [(0.5, 4, 'Delta'), (4, 8, 'Theta'), (8, 12, 'Alpha'), (12, 30, 'Beta'), (30, 50, 'Gamma')]\n"
     ]
    },
    {
     "name": "stderr",
     "output_type": "stream",
     "text": [
      "C:\\Users\\reiss\\Anaconda3\\envs\\ml\\lib\\site-packages\\scipy\\signal\\spectral.py:1966: UserWarning: nperseg = 1024 is greater than input length  = 512, using nperseg = 512\n",
      "  .format(nperseg, input_length))\n",
      "C:\\Users\\reiss\\Anaconda3\\envs\\ml\\lib\\site-packages\\yasa\\spectral.py:237: RuntimeWarning: invalid value encountered in true_divide\n",
      "  bp /= total_power\n"
     ]
    },
    {
     "name": "stdout",
     "output_type": "stream",
     "text": [
      "Creating bandpower, lower & upper envelope dictionary...\n"
     ]
    },
    {
     "name": "stderr",
     "output_type": "stream",
     "text": [
      "D:\\Masterthesis\\thesis_eeg\\code\\Transformer_Feature_Extraction.py:184: RuntimeWarning: invalid value encountered in sign\n",
      "  if (np.sign(aTimeSeries[k]-aTimeSeries[k-1])==1) and (np.sign(aTimeSeries[k]-aTimeSeries[k+1])==1) and ((k-lastPeak)>rejectCloserThan):\n",
      "D:\\Masterthesis\\thesis_eeg\\code\\Transformer_Feature_Extraction.py:190: RuntimeWarning: invalid value encountered in sign\n",
      "  if (np.sign(aTimeSeries[k]-aTimeSeries[k-1])==-1) and ((np.sign(aTimeSeries[k]-aTimeSeries[k+1]))==-1) and ((k-lastTrough)>rejectCloserThan):\n"
     ]
    },
    {
     "name": "stdout",
     "output_type": "stream",
     "text": [
      "Creating statistics bandpower dict...\n",
      "Creating a nice feature dataframe...\n"
     ]
    }
   ],
   "source": [
    "feature_df = feature_extraction(epochSeries=df_series, config=yamlConfig)"
   ]
  },
  {
   "cell_type": "code",
   "execution_count": 8,
   "metadata": {},
   "outputs": [
    {
     "data": {
      "text/html": [
       "<div>\n",
       "<style scoped>\n",
       "    .dataframe tbody tr th:only-of-type {\n",
       "        vertical-align: middle;\n",
       "    }\n",
       "\n",
       "    .dataframe tbody tr th {\n",
       "        vertical-align: top;\n",
       "    }\n",
       "\n",
       "    .dataframe thead th {\n",
       "        text-align: right;\n",
       "    }\n",
       "</style>\n",
       "<table border=\"1\" class=\"dataframe\">\n",
       "  <thead>\n",
       "    <tr style=\"text-align: right;\">\n",
       "      <th></th>\n",
       "      <th>channel_1_Delta_mean_bandpower_list</th>\n",
       "      <th>channel_1_Delta_mean_bandpower_lower_envelope_list</th>\n",
       "      <th>channel_1_Delta_mean_bandpower_upper_envelope_list</th>\n",
       "      <th>channel_1_Delta_std_dev_bandpower_list</th>\n",
       "      <th>channel_1_Delta_std_dev_bandpower_lower_envelope_list</th>\n",
       "      <th>channel_1_Delta_std_dev_bandpower_upper_envelope_list</th>\n",
       "      <th>channel_1_Theta_mean_bandpower_list</th>\n",
       "      <th>channel_1_Theta_mean_bandpower_lower_envelope_list</th>\n",
       "      <th>channel_1_Theta_mean_bandpower_upper_envelope_list</th>\n",
       "      <th>channel_1_Theta_std_dev_bandpower_list</th>\n",
       "      <th>...</th>\n",
       "      <th>channel_40_Beta_mean_bandpower_upper_envelope_list</th>\n",
       "      <th>channel_40_Beta_std_dev_bandpower_list</th>\n",
       "      <th>channel_40_Beta_std_dev_bandpower_lower_envelope_list</th>\n",
       "      <th>channel_40_Beta_std_dev_bandpower_upper_envelope_list</th>\n",
       "      <th>channel_40_Gamma_mean_bandpower_list</th>\n",
       "      <th>channel_40_Gamma_mean_bandpower_lower_envelope_list</th>\n",
       "      <th>channel_40_Gamma_mean_bandpower_upper_envelope_list</th>\n",
       "      <th>channel_40_Gamma_std_dev_bandpower_list</th>\n",
       "      <th>channel_40_Gamma_std_dev_bandpower_lower_envelope_list</th>\n",
       "      <th>channel_40_Gamma_std_dev_bandpower_upper_envelope_list</th>\n",
       "    </tr>\n",
       "  </thead>\n",
       "  <tbody>\n",
       "    <tr>\n",
       "      <th>0</th>\n",
       "      <td>NaN</td>\n",
       "      <td>NaN</td>\n",
       "      <td>NaN</td>\n",
       "      <td>NaN</td>\n",
       "      <td>NaN</td>\n",
       "      <td>NaN</td>\n",
       "      <td>NaN</td>\n",
       "      <td>NaN</td>\n",
       "      <td>NaN</td>\n",
       "      <td>NaN</td>\n",
       "      <td>...</td>\n",
       "      <td>None</td>\n",
       "      <td>NaN</td>\n",
       "      <td>None</td>\n",
       "      <td>None</td>\n",
       "      <td>NaN</td>\n",
       "      <td>None</td>\n",
       "      <td>None</td>\n",
       "      <td>NaN</td>\n",
       "      <td>None</td>\n",
       "      <td>None</td>\n",
       "    </tr>\n",
       "    <tr>\n",
       "      <th>1</th>\n",
       "      <td>0.695273</td>\n",
       "      <td>NaN</td>\n",
       "      <td>NaN</td>\n",
       "      <td>0.178725</td>\n",
       "      <td>NaN</td>\n",
       "      <td>NaN</td>\n",
       "      <td>0.048328</td>\n",
       "      <td>NaN</td>\n",
       "      <td>NaN</td>\n",
       "      <td>0.037045</td>\n",
       "      <td>...</td>\n",
       "      <td>None</td>\n",
       "      <td>NaN</td>\n",
       "      <td>None</td>\n",
       "      <td>None</td>\n",
       "      <td>NaN</td>\n",
       "      <td>None</td>\n",
       "      <td>None</td>\n",
       "      <td>NaN</td>\n",
       "      <td>None</td>\n",
       "      <td>None</td>\n",
       "    </tr>\n",
       "    <tr>\n",
       "      <th>2</th>\n",
       "      <td>0.636144</td>\n",
       "      <td>NaN</td>\n",
       "      <td>NaN</td>\n",
       "      <td>0.064849</td>\n",
       "      <td>NaN</td>\n",
       "      <td>NaN</td>\n",
       "      <td>0.069679</td>\n",
       "      <td>NaN</td>\n",
       "      <td>NaN</td>\n",
       "      <td>0.036242</td>\n",
       "      <td>...</td>\n",
       "      <td>None</td>\n",
       "      <td>NaN</td>\n",
       "      <td>None</td>\n",
       "      <td>None</td>\n",
       "      <td>NaN</td>\n",
       "      <td>None</td>\n",
       "      <td>None</td>\n",
       "      <td>NaN</td>\n",
       "      <td>None</td>\n",
       "      <td>None</td>\n",
       "    </tr>\n",
       "    <tr>\n",
       "      <th>3</th>\n",
       "      <td>0.340174</td>\n",
       "      <td>NaN</td>\n",
       "      <td>NaN</td>\n",
       "      <td>0.147092</td>\n",
       "      <td>NaN</td>\n",
       "      <td>NaN</td>\n",
       "      <td>0.076004</td>\n",
       "      <td>NaN</td>\n",
       "      <td>NaN</td>\n",
       "      <td>0.031456</td>\n",
       "      <td>...</td>\n",
       "      <td>None</td>\n",
       "      <td>NaN</td>\n",
       "      <td>None</td>\n",
       "      <td>None</td>\n",
       "      <td>NaN</td>\n",
       "      <td>None</td>\n",
       "      <td>None</td>\n",
       "      <td>NaN</td>\n",
       "      <td>None</td>\n",
       "      <td>None</td>\n",
       "    </tr>\n",
       "    <tr>\n",
       "      <th>4</th>\n",
       "      <td>0.365114</td>\n",
       "      <td>NaN</td>\n",
       "      <td>NaN</td>\n",
       "      <td>0.166344</td>\n",
       "      <td>NaN</td>\n",
       "      <td>NaN</td>\n",
       "      <td>0.076706</td>\n",
       "      <td>NaN</td>\n",
       "      <td>NaN</td>\n",
       "      <td>0.052933</td>\n",
       "      <td>...</td>\n",
       "      <td>None</td>\n",
       "      <td>NaN</td>\n",
       "      <td>None</td>\n",
       "      <td>None</td>\n",
       "      <td>NaN</td>\n",
       "      <td>None</td>\n",
       "      <td>None</td>\n",
       "      <td>NaN</td>\n",
       "      <td>None</td>\n",
       "      <td>None</td>\n",
       "    </tr>\n",
       "  </tbody>\n",
       "</table>\n",
       "<p>5 rows × 1200 columns</p>\n",
       "</div>"
      ],
      "text/plain": [
       "   channel_1_Delta_mean_bandpower_list  \\\n",
       "0                                  NaN   \n",
       "1                             0.695273   \n",
       "2                             0.636144   \n",
       "3                             0.340174   \n",
       "4                             0.365114   \n",
       "\n",
       "   channel_1_Delta_mean_bandpower_lower_envelope_list  \\\n",
       "0                                                NaN    \n",
       "1                                                NaN    \n",
       "2                                                NaN    \n",
       "3                                                NaN    \n",
       "4                                                NaN    \n",
       "\n",
       "   channel_1_Delta_mean_bandpower_upper_envelope_list  \\\n",
       "0                                                NaN    \n",
       "1                                                NaN    \n",
       "2                                                NaN    \n",
       "3                                                NaN    \n",
       "4                                                NaN    \n",
       "\n",
       "   channel_1_Delta_std_dev_bandpower_list  \\\n",
       "0                                     NaN   \n",
       "1                                0.178725   \n",
       "2                                0.064849   \n",
       "3                                0.147092   \n",
       "4                                0.166344   \n",
       "\n",
       "   channel_1_Delta_std_dev_bandpower_lower_envelope_list  \\\n",
       "0                                                NaN       \n",
       "1                                                NaN       \n",
       "2                                                NaN       \n",
       "3                                                NaN       \n",
       "4                                                NaN       \n",
       "\n",
       "   channel_1_Delta_std_dev_bandpower_upper_envelope_list  \\\n",
       "0                                                NaN       \n",
       "1                                                NaN       \n",
       "2                                                NaN       \n",
       "3                                                NaN       \n",
       "4                                                NaN       \n",
       "\n",
       "   channel_1_Theta_mean_bandpower_list  \\\n",
       "0                                  NaN   \n",
       "1                             0.048328   \n",
       "2                             0.069679   \n",
       "3                             0.076004   \n",
       "4                             0.076706   \n",
       "\n",
       "   channel_1_Theta_mean_bandpower_lower_envelope_list  \\\n",
       "0                                                NaN    \n",
       "1                                                NaN    \n",
       "2                                                NaN    \n",
       "3                                                NaN    \n",
       "4                                                NaN    \n",
       "\n",
       "   channel_1_Theta_mean_bandpower_upper_envelope_list  \\\n",
       "0                                                NaN    \n",
       "1                                                NaN    \n",
       "2                                                NaN    \n",
       "3                                                NaN    \n",
       "4                                                NaN    \n",
       "\n",
       "   channel_1_Theta_std_dev_bandpower_list  ...  \\\n",
       "0                                     NaN  ...   \n",
       "1                                0.037045  ...   \n",
       "2                                0.036242  ...   \n",
       "3                                0.031456  ...   \n",
       "4                                0.052933  ...   \n",
       "\n",
       "   channel_40_Beta_mean_bandpower_upper_envelope_list  \\\n",
       "0                                               None    \n",
       "1                                               None    \n",
       "2                                               None    \n",
       "3                                               None    \n",
       "4                                               None    \n",
       "\n",
       "   channel_40_Beta_std_dev_bandpower_list  \\\n",
       "0                                     NaN   \n",
       "1                                     NaN   \n",
       "2                                     NaN   \n",
       "3                                     NaN   \n",
       "4                                     NaN   \n",
       "\n",
       "   channel_40_Beta_std_dev_bandpower_lower_envelope_list  \\\n",
       "0                                               None       \n",
       "1                                               None       \n",
       "2                                               None       \n",
       "3                                               None       \n",
       "4                                               None       \n",
       "\n",
       "   channel_40_Beta_std_dev_bandpower_upper_envelope_list  \\\n",
       "0                                               None       \n",
       "1                                               None       \n",
       "2                                               None       \n",
       "3                                               None       \n",
       "4                                               None       \n",
       "\n",
       "   channel_40_Gamma_mean_bandpower_list  \\\n",
       "0                                   NaN   \n",
       "1                                   NaN   \n",
       "2                                   NaN   \n",
       "3                                   NaN   \n",
       "4                                   NaN   \n",
       "\n",
       "   channel_40_Gamma_mean_bandpower_lower_envelope_list  \\\n",
       "0                                               None     \n",
       "1                                               None     \n",
       "2                                               None     \n",
       "3                                               None     \n",
       "4                                               None     \n",
       "\n",
       "   channel_40_Gamma_mean_bandpower_upper_envelope_list  \\\n",
       "0                                               None     \n",
       "1                                               None     \n",
       "2                                               None     \n",
       "3                                               None     \n",
       "4                                               None     \n",
       "\n",
       "   channel_40_Gamma_std_dev_bandpower_list  \\\n",
       "0                                      NaN   \n",
       "1                                      NaN   \n",
       "2                                      NaN   \n",
       "3                                      NaN   \n",
       "4                                      NaN   \n",
       "\n",
       "   channel_40_Gamma_std_dev_bandpower_lower_envelope_list  \\\n",
       "0                                               None        \n",
       "1                                               None        \n",
       "2                                               None        \n",
       "3                                               None        \n",
       "4                                               None        \n",
       "\n",
       "   channel_40_Gamma_std_dev_bandpower_upper_envelope_list  \n",
       "0                                               None       \n",
       "1                                               None       \n",
       "2                                               None       \n",
       "3                                               None       \n",
       "4                                               None       \n",
       "\n",
       "[5 rows x 1200 columns]"
      ]
     },
     "execution_count": 8,
     "metadata": {},
     "output_type": "execute_result"
    }
   ],
   "source": [
    "feature_df.head()"
   ]
  },
  {
   "cell_type": "code",
   "execution_count": null,
   "metadata": {},
   "outputs": [],
   "source": []
  },
  {
   "cell_type": "code",
   "execution_count": null,
   "metadata": {},
   "outputs": [],
   "source": []
  },
  {
   "cell_type": "code",
   "execution_count": null,
   "metadata": {},
   "outputs": [],
   "source": []
  },
  {
   "cell_type": "code",
   "execution_count": null,
   "metadata": {},
   "outputs": [],
   "source": []
  },
  {
   "cell_type": "code",
   "execution_count": 9,
   "metadata": {},
   "outputs": [],
   "source": [
    "def convertFeatureDfToXy(featureDf : pd.DataFrame, target : int) -> (np.ndarray, np.ndarray):\n",
    "    samples = []\n",
    "    targetArray = []\n",
    "    \n",
    "    for index, row in featureDf.iterrows():\n",
    "        timesteps = []\n",
    "        features = row.to_numpy() # features\n",
    "        timesteps.append(features)\n",
    "        samples.append(timesteps)\n",
    "        \n",
    "        targetArray.append(target)\n",
    "    \n",
    "    X = np.array(samples)\n",
    "    y = np.array(targetArray)\n",
    "    \n",
    "    return X, y \n",
    "    \n",
    "\n",
    "def createDatasetXy(dataSeries : pd.Series, target : int) -> (np.ndarray, np.ndarray):\n",
    "    ''' Create X and y for machine learning\n",
    "    \n",
    "    @param pd.Series dataSeries: Should be a series of dataframes\n",
    "    \n",
    "    X should look like this [samples, timesteps, features]\n",
    "        samples: The epoch\n",
    "        timesteps: E.g. if the epoch contains 200 values then the timestep should contain 200 values\n",
    "        features: The actual value\n",
    "    \n",
    "    y should look tlike this [classIds] \n",
    "        classIds: The label for the sample of the X Data\n",
    "    '''\n",
    "    \n",
    "    samples = []\n",
    "    targetArray = []\n",
    "    \n",
    "    if type(dataSeries) != pd.Series:\n",
    "        raise Exception(\"The given dataSeries is not a pd.Series! It is {}\".format(type(dataSeries)))\n",
    "    \n",
    "    # loop through the data Series\n",
    "    for df in dataSeries:\n",
    "        \n",
    "        if type(df) != pd.DataFrame: # check the type\n",
    "            raise Exception(\"The dataseries contains a {} object - The series should dataframes only!\".format(type(df)))\n",
    "            \n",
    "        timesteps = []\n",
    "            \n",
    "        for index, row in df.iterrows():\n",
    "            features = row.to_numpy() # features\n",
    "            timesteps.append(features)\n",
    "        \n",
    "        samples.append(timesteps)\n",
    "        targetArray.append(target)\n",
    "    \n",
    "    \n",
    "    X = np.array(samples)\n",
    "    y = np.array(targetArray)\n",
    "    \n",
    "    return X, y\n",
    "\n",
    "#createDatasetXy(dataSeries)"
   ]
  },
  {
   "cell_type": "code",
   "execution_count": 23,
   "metadata": {},
   "outputs": [],
   "source": [
    "X, y = createDatasetXy(df_series, target=0)"
   ]
  },
  {
   "cell_type": "code",
   "execution_count": 24,
   "metadata": {},
   "outputs": [
    {
     "data": {
      "text/plain": [
       "(299, 512, 40)"
      ]
     },
     "execution_count": 24,
     "metadata": {},
     "output_type": "execute_result"
    }
   ],
   "source": [
    "X.shape"
   ]
  },
  {
   "cell_type": "code",
   "execution_count": 31,
   "metadata": {},
   "outputs": [
    {
     "data": {
      "text/plain": [
       "0.5409918107281121"
      ]
     },
     "execution_count": 31,
     "metadata": {},
     "output_type": "execute_result"
    }
   ],
   "source": []
  }
 ],
 "metadata": {
  "kernelspec": {
   "display_name": "ml",
   "language": "python",
   "name": "ml"
  },
  "language_info": {
   "codemirror_mode": {
    "name": "ipython",
    "version": 3
   },
   "file_extension": ".py",
   "mimetype": "text/x-python",
   "name": "python",
   "nbconvert_exporter": "python",
   "pygments_lexer": "ipython3",
   "version": "3.7.6"
  }
 },
 "nbformat": 4,
 "nbformat_minor": 4
}
