{
 "cells": [
  {
   "cell_type": "markdown",
   "metadata": {},
   "source": [
    "## Process a raw Dataset\n",
    "This notebook shows the complete pipeline to have machine learning ready data"
   ]
  },
  {
   "cell_type": "code",
   "execution_count": 1,
   "metadata": {},
   "outputs": [
    {
     "name": "stdout",
     "output_type": "stream",
     "text": [
      "D:\\Masterthesis\\thesis_eeg\\code\n"
     ]
    },
    {
     "name": "stderr",
     "output_type": "stream",
     "text": [
      "Using TensorFlow backend.\n"
     ]
    }
   ],
   "source": [
    "# Imports\n",
    "import os, sys\n",
    "import numpy as np\n",
    "from typing import Tuple, List, Dict\n",
    "import pandas as pd\n",
    "import io\n",
    "\n",
    "# to enable local imports\n",
    "module_path = os.path.abspath('code')\n",
    "print(module_path)\n",
    "if module_path not in sys.path:\n",
    "    sys.path.append(module_path)\n",
    "    \n",
    "from machine_learning_data_generation import loadPickeldDataset, processRawDatasetToPickleFiles, loadOnlineEEGdata\n",
    "from consts import DEVICES_NEUROSCAN, DEVICES_MUSE_LSL_OPEN_VIBE\n",
    "\n",
    "SKIP_DIRS = ['openVibe', 'subject_1', 'subject_6', 'simulatorData']"
   ]
  },
  {
   "cell_type": "markdown",
   "metadata": {},
   "source": [
    "## Save a dataset to pickel files\n",
    "With this function  a dataset gets processed and the output will be saved to pickel files\n",
    "\n",
    "*** Careful! Takes about 1 Hour! ***"
   ]
  },
  {
   "cell_type": "code",
   "execution_count": 2,
   "metadata": {},
   "outputs": [
    {
     "name": "stdout",
     "output_type": "stream",
     "text": [
      "Already processed the EEG Online Data\n"
     ]
    }
   ],
   "source": [
    "PROCESS_DATA = False\n",
    "\n",
    "\n",
    "if PROCESS_DATA:\n",
    "    # Process the online EEG Data\n",
    "    '''\n",
    "    processRawDatasetToPickleFiles(datasetDirPath = \"D:/Masterthesis/EEG_Data/eeg_data_online\",\n",
    "                              device = DEVICES_NEUROSCAN,\n",
    "                              awakeFileName = None,\n",
    "                              fatigueFileName = \"Fatigue_state_256hz.csv\",\n",
    "                              normalFileName = \"Normal_state_256hz.csv\",\n",
    "                              unlabeledFileName = None)\n",
    "    '''\n",
    "    \n",
    "    # Process the Muse Data\n",
    "    \n",
    "    # Todo add parameter to optionally add en extra name/id to the generated data. E.g. for where it came from (driving, p300, reaction,)\n",
    "    processRawDatasetToPickleFiles(datasetDirPath = \"D:/Masterthesis/EEG_Data/muse_data\",\n",
    "                                  device = DEVICES_MUSE_LSL_OPEN_VIBE,\n",
    "                                  awakeFileName = \"reaction_game_complete.csv\",\n",
    "                                  fatigueFileName = 'driving_fatigue.csv',\n",
    "                                  normalFileName = None,\n",
    "                                  unlabeledFileName = None, # 'driving_complete.csv',\n",
    "                                  skipDirs=SKIP_DIRS) # faulty or empty dirs\n",
    "    \n",
    "    \n",
    "else:\n",
    "    print (\"Already processed the EEG Online Data\")"
   ]
  },
  {
   "cell_type": "markdown",
   "metadata": {},
   "source": [
    "### Function to create a Machine Learning Dataset\n",
    "With this functions you can create a X and y Dataset from a given EEG Dataset (use the function 'processRawDatasetToPickleFiles').\n",
    "It creates a X & y for the EEG Signals and the frequency features"
   ]
  },
  {
   "cell_type": "code",
   "execution_count": 22,
   "metadata": {},
   "outputs": [
    {
     "data": {
      "text/plain": [
       "NoneType"
      ]
     },
     "execution_count": 22,
     "metadata": {},
     "output_type": "execute_result"
    }
   ],
   "source": [
    "type(eegDataset['subject_3']['FATIGUE'][2])"
   ]
  },
  {
   "cell_type": "code",
   "execution_count": 24,
   "metadata": {},
   "outputs": [
    {
     "name": "stdout",
     "output_type": "stream",
     "text": [
      "********* Skipping dir 'openVibe' *********\n",
      "********* Skipping dir 'subject_1' *********\n",
      "Load Subject subject_10 Data...\n",
      "Load Subject subject_2 Data...\n",
      "Load Subject subject_3 Data...\n",
      "Load Subject subject_4 Data...\n",
      "Load Subject subject_5 Data...\n",
      "********* Skipping dir 'subject_6' *********\n",
      "Load Subject subject_7 Data...\n",
      "Load Subject subject_8 Data...\n",
      "Load Subject subject_9 Data...\n",
      "********* Skipping dir 'simulatorData' *********\n",
      "Creating Machine Learning Dataset!\n",
      "Processing Subject subject_10 - Target: AWAKE ...\n",
      "Processing Subject subject_10 - Target: FATIGUE ...\n",
      "Processing Subject subject_2 - Target: AWAKE ...\n",
      "Processing Subject subject_2 - Target: FATIGUE ...\n",
      "Processing Subject subject_3 - Target: AWAKE ...\n",
      "Processing Subject subject_3 - Target: FATIGUE ...\n",
      "Processing Subject subject_4 - Target: AWAKE ...\n",
      "Processing Subject subject_4 - Target: FATIGUE ...\n",
      "Processing Subject subject_5 - Target: AWAKE ...\n",
      "Processing Subject subject_5 - Target: FATIGUE ...\n",
      "Processing Subject subject_7 - Target: AWAKE ...\n",
      "Processing Subject subject_7 - Target: FATIGUE ...\n",
      "Processing Subject subject_8 - Target: AWAKE ...\n",
      "Processing Subject subject_8 - Target: FATIGUE ...\n",
      "Processing Subject subject_9 - Target: AWAKE ...\n",
      "Processing Subject subject_9 - Target: FATIGUE ...\n",
      "Done!\n",
      "\n",
      "Saving Machine Learning Dataset into this directory: D:/Masterthesis/EEG_Data/muse_data\n",
      "Saving dict to D:/Masterthesis/EEG_Data/muse_data\\target_labels.txt\n"
     ]
    }
   ],
   "source": [
    "from machine_learning_data_generation import createAndSafeMlDataset\n",
    "from consts import TARGET_FATIGUE, TARGET_NORMAL, TARGET_AWAKE\n",
    "\n",
    "CREATE_ML_DATA = True\n",
    "\n",
    "TARGET_LABEL_DICT = {TARGET_AWAKE : 0,\n",
    "                     TARGET_FATIGUE : 1}\n",
    "\n",
    "if CREATE_ML_DATA:\n",
    "    \n",
    "    '''\n",
    "    eegDataset = loadPickeldDataset(\"D:/Masterthesis/EEG_Data/eeg_data_online\")\n",
    "    createAndSafeMlDataset(eegDataset=eegDataset,\n",
    "                           targetLabelDict=TARGET_LABEL_DICT,\n",
    "                           dirPath=\"D:/Masterthesis/EEG_Data/eeg_data_online\")\n",
    "    '''\n",
    "    \n",
    "    eegDataset = loadPickeldDataset(\"D:/Masterthesis/EEG_Data/muse_data\",\n",
    "                                    skipDirs=SKIP_DIRS)\n",
    "    \n",
    "    createAndSafeMlDataset(eegDataset=eegDataset,\n",
    "                          targetLabelDict=TARGET_LABEL_DICT,\n",
    "                          dirPath=\"D:/Masterthesis/EEG_Data/muse_data\")\n",
    "    \n",
    "else:\n",
    "    print(\"Already created ML Data\")\n"
   ]
  },
  {
   "cell_type": "markdown",
   "metadata": {},
   "source": [
    "### Example - Load  the online EEG Dataset"
   ]
  },
  {
   "cell_type": "code",
   "execution_count": 26,
   "metadata": {},
   "outputs": [
    {
     "name": "stdout",
     "output_type": "stream",
     "text": [
      "Loading Online EEG Data from D:/Masterthesis/EEG_Data/muse_data ...\n",
      "Data does not get splitted into train and test!\n",
      "EEG Data Shape:\n",
      "(4724, 512, 4) (4724,)\n",
      "Freq Data Shape:\n",
      "(950, 1, 120) (950,)\n",
      "Entropy Data Shape:\n",
      "(4724, 1, 20) (4724,)\n"
     ]
    }
   ],
   "source": [
    "eegData, freqData, entropyData = loadOnlineEEGdata(dirPath='D:/Masterthesis/EEG_Data/muse_data', shuffle=False, splitData=False)"
   ]
  }
 ],
 "metadata": {
  "kernelspec": {
   "display_name": "ml",
   "language": "python",
   "name": "ml"
  },
  "language_info": {
   "codemirror_mode": {
    "name": "ipython",
    "version": 3
   },
   "file_extension": ".py",
   "mimetype": "text/x-python",
   "name": "python",
   "nbconvert_exporter": "python",
   "pygments_lexer": "ipython3",
   "version": "3.7.6"
  }
 },
 "nbformat": 4,
 "nbformat_minor": 4
}
