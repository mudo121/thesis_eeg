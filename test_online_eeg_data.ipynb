{
 "cells": [
  {
   "cell_type": "markdown",
   "metadata": {},
   "source": [
    "# Test Online EEG Data\n",
    "Data: https://figshare.com/articles/The_original_EEG_data_for_driver_fatigue_detection/5202739\n",
    "\n",
    "The Data is in .cnt and needs to be converted to .csv"
   ]
  },
  {
   "cell_type": "code",
   "execution_count": 1,
   "metadata": {},
   "outputs": [],
   "source": [
    "# Imports\n",
    "import os, sys\n",
    "import pandas as pd\n",
    "from datetime import datetime\n",
    "\n",
    "# to enable local imports\n",
    "module_path = os.path.abspath(os.path.join('code'))\n",
    "if module_path not in sys.path:\n",
    "    sys.path.append(module_path)\n",
    "\n",
    "from machine_learning_data_generation import generateFeatureDf, pre_process_signal, feature_extraction\n",
    "from utils import loadConfigFile\n",
    "from plotFunctions import plot_magnitudeFreq_and_PSD\n",
    "from pipelines import filter_signal"
   ]
  },
  {
   "cell_type": "markdown",
   "metadata": {},
   "source": [
    "### Function to convert all the .cnt files to .csv - Does not need to be done again"
   ]
  },
  {
   "cell_type": "code",
   "execution_count": 2,
   "metadata": {},
   "outputs": [],
   "source": [
    "def convertAllCntToCsv(fileDir : str):\n",
    "    ''' Convert all the .cnt files to .csv - Needs to be done only once'''\n",
    "    print(\"Already done this\")\n",
    "    return\n",
    "    # loop through the subjects\n",
    "    for i in range(1, 13):\n",
    "        print(\"Converting Subject {}\".format(i))\n",
    "        rawCntNormal = read_raw_cnt(input_fname=os.path.join(fileDir,str(i),\"Normal state.cnt\"), preload=True, data_format='int32')\n",
    "        df = rawCnT.to_data_frame()\n",
    "        df.to_csv(os.path.join(fileDir,str(i),\"Normal_state.csv\"))\n",
    "        \n",
    "        rawCntFatigue = read_raw_cnt(input_fname=os.path.join(fileDir,str(i),\"Fatigue state.cnt\"), preload=True, data_format='int32')\n",
    "        df = rawCnT.to_data_frame()\n",
    "        df.to_csv(os.path.join(fileDir,str(i),\"Fatigue_state.csv\"))\n",
    "        break\n",
    "    print(\"Done\")   \n",
    "\n",
    "#convertAllCntToCsv(\"D:/Masterthesis/EEG_Data/eeg_data_online/\")"
   ]
  },
  {
   "cell_type": "code",
   "execution_count": 3,
   "metadata": {},
   "outputs": [
    {
     "name": "stdout",
     "output_type": "stream",
     "text": [
      "Reading 0 ... 300439  =      0.000 ...   300.439 secs...\n"
     ]
    },
    {
     "name": "stderr",
     "output_type": "stream",
     "text": [
      "<ipython-input-3-c01aff43b4df>:3: RuntimeWarning:   Could not parse meas date from the header. Setting to None.\n",
      "  mneRaw = mne.io.read_raw_cnt(\"D:/Masterthesis/EEG_Data/eeg_data_online/1/Normal state.cnt\", data_format=\"int32\", preload=True)\n"
     ]
    }
   ],
   "source": [
    "import mne\n",
    "\n",
    "mneRaw = mne.io.read_raw_cnt(\"D:/Masterthesis/EEG_Data/eeg_data_online/1/Normal state.cnt\", data_format=\"int32\", preload=True)"
   ]
  },
  {
   "cell_type": "code",
   "execution_count": 4,
   "metadata": {},
   "outputs": [
    {
     "data": {
      "text/plain": [
       "<Info | 8 non-empty values\n",
       " bads: []\n",
       " ch_names: HEOL, HEOR, FP1, FP2, VEOU, VEOL, F7, F3, FZ, F4, F8, FT7, FC3, ...\n",
       " chs: 40 EEG\n",
       " custom_ref_applied: False\n",
       " highpass: 0.0 Hz\n",
       " lowpass: 500.0 Hz\n",
       " meas_date: unspecified\n",
       " nchan: 40\n",
       " projs: []\n",
       " sfreq: 1000.0 Hz\n",
       " subject_info: 5 items (dict)\n",
       ">"
      ]
     },
     "execution_count": 4,
     "metadata": {},
     "output_type": "execute_result"
    }
   ],
   "source": [
    "mneRaw.info"
   ]
  },
  {
   "cell_type": "markdown",
   "metadata": {},
   "source": [
    "### Test the .csv file"
   ]
  },
  {
   "cell_type": "code",
   "execution_count": 5,
   "metadata": {},
   "outputs": [
    {
     "data": {
      "text/html": [
       "<div>\n",
       "<style scoped>\n",
       "    .dataframe tbody tr th:only-of-type {\n",
       "        vertical-align: middle;\n",
       "    }\n",
       "\n",
       "    .dataframe tbody tr th {\n",
       "        vertical-align: top;\n",
       "    }\n",
       "\n",
       "    .dataframe thead th {\n",
       "        text-align: right;\n",
       "    }\n",
       "</style>\n",
       "<table border=\"1\" class=\"dataframe\">\n",
       "  <thead>\n",
       "    <tr style=\"text-align: right;\">\n",
       "      <th></th>\n",
       "      <th>Unnamed: 0</th>\n",
       "      <th>time</th>\n",
       "      <th>HEOL</th>\n",
       "      <th>HEOR</th>\n",
       "      <th>FP1</th>\n",
       "      <th>FP2</th>\n",
       "      <th>VEOU</th>\n",
       "      <th>VEOL</th>\n",
       "      <th>F7</th>\n",
       "      <th>F3</th>\n",
       "      <th>...</th>\n",
       "      <th>P4</th>\n",
       "      <th>T6</th>\n",
       "      <th>A2</th>\n",
       "      <th>O1</th>\n",
       "      <th>OZ</th>\n",
       "      <th>O2</th>\n",
       "      <th>FT9</th>\n",
       "      <th>FT10</th>\n",
       "      <th>PO1</th>\n",
       "      <th>PO2</th>\n",
       "    </tr>\n",
       "  </thead>\n",
       "  <tbody>\n",
       "    <tr>\n",
       "      <th>0</th>\n",
       "      <td>0</td>\n",
       "      <td>0</td>\n",
       "      <td>-18507.996188</td>\n",
       "      <td>0.0</td>\n",
       "      <td>-16469.956409</td>\n",
       "      <td>-21905.586623</td>\n",
       "      <td>-12648.357329</td>\n",
       "      <td>-1417.273052</td>\n",
       "      <td>-9619.625555</td>\n",
       "      <td>-20989.494550</td>\n",
       "      <td>...</td>\n",
       "      <td>-16887.314431</td>\n",
       "      <td>-17331.839623</td>\n",
       "      <td>0.0</td>\n",
       "      <td>-12945.376703</td>\n",
       "      <td>-10286.005522</td>\n",
       "      <td>-9498.596748</td>\n",
       "      <td>0.0</td>\n",
       "      <td>0.0</td>\n",
       "      <td>0.0</td>\n",
       "      <td>0.0</td>\n",
       "    </tr>\n",
       "    <tr>\n",
       "      <th>1</th>\n",
       "      <td>1</td>\n",
       "      <td>1</td>\n",
       "      <td>-18514.458587</td>\n",
       "      <td>0.0</td>\n",
       "      <td>-16473.344463</td>\n",
       "      <td>-21909.978544</td>\n",
       "      <td>-12651.431674</td>\n",
       "      <td>-1424.802061</td>\n",
       "      <td>-9623.139092</td>\n",
       "      <td>-20996.019690</td>\n",
       "      <td>...</td>\n",
       "      <td>-16890.765226</td>\n",
       "      <td>-17334.286551</td>\n",
       "      <td>0.0</td>\n",
       "      <td>-12948.827498</td>\n",
       "      <td>-10289.519060</td>\n",
       "      <td>-9501.169159</td>\n",
       "      <td>0.0</td>\n",
       "      <td>0.0</td>\n",
       "      <td>0.0</td>\n",
       "      <td>0.0</td>\n",
       "    </tr>\n",
       "    <tr>\n",
       "      <th>2</th>\n",
       "      <td>2</td>\n",
       "      <td>2</td>\n",
       "      <td>-18520.983727</td>\n",
       "      <td>0.0</td>\n",
       "      <td>-16474.787523</td>\n",
       "      <td>-21910.668703</td>\n",
       "      <td>-12655.572629</td>\n",
       "      <td>-1428.943015</td>\n",
       "      <td>-9625.021344</td>\n",
       "      <td>-20998.780326</td>\n",
       "      <td>...</td>\n",
       "      <td>-16892.208286</td>\n",
       "      <td>-17337.549121</td>\n",
       "      <td>0.0</td>\n",
       "      <td>-12950.270558</td>\n",
       "      <td>-10292.593405</td>\n",
       "      <td>-9502.361252</td>\n",
       "      <td>0.0</td>\n",
       "      <td>0.0</td>\n",
       "      <td>0.0</td>\n",
       "      <td>0.0</td>\n",
       "    </tr>\n",
       "    <tr>\n",
       "      <th>3</th>\n",
       "      <td>3</td>\n",
       "      <td>3</td>\n",
       "      <td>-18522.991463</td>\n",
       "      <td>0.0</td>\n",
       "      <td>-16472.905271</td>\n",
       "      <td>-21909.853061</td>\n",
       "      <td>-12656.451013</td>\n",
       "      <td>-1428.943015</td>\n",
       "      <td>-9623.829251</td>\n",
       "      <td>-20995.705981</td>\n",
       "      <td>...</td>\n",
       "      <td>-16889.949584</td>\n",
       "      <td>-17338.992181</td>\n",
       "      <td>0.0</td>\n",
       "      <td>-12949.015724</td>\n",
       "      <td>-10294.538398</td>\n",
       "      <td>-9501.482868</td>\n",
       "      <td>0.0</td>\n",
       "      <td>0.0</td>\n",
       "      <td>0.0</td>\n",
       "      <td>0.0</td>\n",
       "    </tr>\n",
       "    <tr>\n",
       "      <th>4</th>\n",
       "      <td>4</td>\n",
       "      <td>4</td>\n",
       "      <td>-18521.611144</td>\n",
       "      <td>0.0</td>\n",
       "      <td>-16469.266250</td>\n",
       "      <td>-21907.092424</td>\n",
       "      <td>-12655.007953</td>\n",
       "      <td>-1429.131240</td>\n",
       "      <td>-9620.943131</td>\n",
       "      <td>-20991.000351</td>\n",
       "      <td>...</td>\n",
       "      <td>-16886.812497</td>\n",
       "      <td>-17336.921704</td>\n",
       "      <td>0.0</td>\n",
       "      <td>-12946.819763</td>\n",
       "      <td>-10292.718888</td>\n",
       "      <td>-9499.161424</td>\n",
       "      <td>0.0</td>\n",
       "      <td>0.0</td>\n",
       "      <td>0.0</td>\n",
       "      <td>0.0</td>\n",
       "    </tr>\n",
       "  </tbody>\n",
       "</table>\n",
       "<p>5 rows × 42 columns</p>\n",
       "</div>"
      ],
      "text/plain": [
       "   Unnamed: 0  time          HEOL  HEOR           FP1           FP2  \\\n",
       "0           0     0 -18507.996188   0.0 -16469.956409 -21905.586623   \n",
       "1           1     1 -18514.458587   0.0 -16473.344463 -21909.978544   \n",
       "2           2     2 -18520.983727   0.0 -16474.787523 -21910.668703   \n",
       "3           3     3 -18522.991463   0.0 -16472.905271 -21909.853061   \n",
       "4           4     4 -18521.611144   0.0 -16469.266250 -21907.092424   \n",
       "\n",
       "           VEOU         VEOL           F7            F3  ...            P4  \\\n",
       "0 -12648.357329 -1417.273052 -9619.625555 -20989.494550  ... -16887.314431   \n",
       "1 -12651.431674 -1424.802061 -9623.139092 -20996.019690  ... -16890.765226   \n",
       "2 -12655.572629 -1428.943015 -9625.021344 -20998.780326  ... -16892.208286   \n",
       "3 -12656.451013 -1428.943015 -9623.829251 -20995.705981  ... -16889.949584   \n",
       "4 -12655.007953 -1429.131240 -9620.943131 -20991.000351  ... -16886.812497   \n",
       "\n",
       "             T6   A2            O1            OZ           O2  FT9  FT10  PO1  \\\n",
       "0 -17331.839623  0.0 -12945.376703 -10286.005522 -9498.596748  0.0   0.0  0.0   \n",
       "1 -17334.286551  0.0 -12948.827498 -10289.519060 -9501.169159  0.0   0.0  0.0   \n",
       "2 -17337.549121  0.0 -12950.270558 -10292.593405 -9502.361252  0.0   0.0  0.0   \n",
       "3 -17338.992181  0.0 -12949.015724 -10294.538398 -9501.482868  0.0   0.0  0.0   \n",
       "4 -17336.921704  0.0 -12946.819763 -10292.718888 -9499.161424  0.0   0.0  0.0   \n",
       "\n",
       "   PO2  \n",
       "0  0.0  \n",
       "1  0.0  \n",
       "2  0.0  \n",
       "3  0.0  \n",
       "4  0.0  \n",
       "\n",
       "[5 rows x 42 columns]"
      ]
     },
     "execution_count": 5,
     "metadata": {},
     "output_type": "execute_result"
    }
   ],
   "source": [
    "df = pd.read_csv(\"D:/Masterthesis/EEG_Data/eeg_data_online/1/Normal_state.csv\")\n",
    "\n",
    "#del df['Unnamed: 0']\n",
    "#del df['time']\n",
    "\n",
    "df.head()"
   ]
  },
  {
   "cell_type": "code",
   "execution_count": 6,
   "metadata": {},
   "outputs": [
    {
     "data": {
      "image/png": "[encoded data removed]",
      "text/plain": [
       "<Figure size 1296x360 with 2 Axes>"
      ]
     },
     "metadata": {
      "needs_background": "light"
     },
     "output_type": "display_data"
    }
   ],
   "source": [
    "plot_magnitudeFreq_and_PSD(df.HEOL, samplingRate=1000, signalName=\"FP2\")"
   ]
  },
  {
   "cell_type": "markdown",
   "metadata": {},
   "source": [
    "# Main"
   ]
  },
  {
   "cell_type": "code",
   "execution_count": 7,
   "metadata": {},
   "outputs": [
    {
     "name": "stdout",
     "output_type": "stream",
     "text": [
      "Generate data is 'True'\n",
      "Loading the config file for neuroscan\n",
      "Resample Signal from 1000 to 256 Hz\n",
      "Creating sliding windows...\n",
      "Deleting faulty data...\n",
      "Deleting Nan's...\n",
      "Normalizing data...\n",
      "Frequenccy Bands: [(0.5, 4, 'Delta'), (4, 8, 'Theta'), (8, 12, 'Alpha'), (12, 30, 'Beta'), (30, 50, 'Gamma')]\n"
     ]
    },
    {
     "name": "stderr",
     "output_type": "stream",
     "text": [
      "C:\\Users\\reiss\\Anaconda3\\envs\\ml\\lib\\site-packages\\scipy\\signal\\spectral.py:1966: UserWarning: nperseg = 4000 is greater than input length  = 2000, using nperseg = 2000\n",
      "  .format(nperseg, input_length))\n"
     ]
    },
    {
     "name": "stdout",
     "output_type": "stream",
     "text": [
      "Creating bandpower, lower & upper envelope dictionary...\n"
     ]
    },
    {
     "name": "stderr",
     "output_type": "stream",
     "text": [
      "D:\\Masterthesis\\thesis_eeg\\code\\Transformer_Feature_Extraction.py:184: RuntimeWarning: invalid value encountered in sign\n",
      "  if (np.sign(aTimeSeries[k]-aTimeSeries[k-1])==1) and (np.sign(aTimeSeries[k]-aTimeSeries[k+1])==1) and ((k-lastPeak)>rejectCloserThan):\n",
      "D:\\Masterthesis\\thesis_eeg\\code\\Transformer_Feature_Extraction.py:190: RuntimeWarning: invalid value encountered in sign\n",
      "  if (np.sign(aTimeSeries[k]-aTimeSeries[k-1])==-1) and ((np.sign(aTimeSeries[k]-aTimeSeries[k+1]))==-1) and ((k-lastTrough)>rejectCloserThan):\n"
     ]
    },
    {
     "name": "stdout",
     "output_type": "stream",
     "text": [
      "Creating statistics bandpower dict...\n",
      "Creating a nice feature dataframe...\n"
     ]
    }
   ],
   "source": [
    "GENERATE_DATA = True\n",
    "print(\"Generate data is '{}'\".format(GENERATE_DATA))\n",
    "# load config\n",
    "MAIN_DIR = \"D:/Masterthesis/thesis_eeg/\"\n",
    "\n",
    "TARGET_AWAKE = \"awake\"\n",
    "TARGET_NON_AWAKE = \"non_awake\"\n",
    "TARGET_UNLABELED = \"unlabeled\"\n",
    "\n",
    "\n",
    "SUBJECT = 2 # Subject to use\n",
    "from data import onlineEegDataDict as subjectDict\n",
    "yamlConfig = loadConfigFile(subjectDict[SUBJECT][\"Device\"])\n",
    "\n",
    "\n",
    "df = pd.read_csv(\"D:/Masterthesis/EEG_Data/eeg_data_online/1/Normal_state.csv\")\n",
    "df = filter_signal(df, yamlConfig)\n",
    "series_df = pre_process_signal(df=df, config=yamlConfig)\n",
    "feature_series = feature_extraction(epochSeries=series_df, config=yamlConfig)\n",
    "\n"
   ]
  }
 ],
 "metadata": {
  "kernelspec": {
   "display_name": "ml",
   "language": "python",
   "name": "ml"
  },
  "language_info": {
   "codemirror_mode": {
    "name": "ipython",
    "version": 3
   },
   "file_extension": ".py",
   "mimetype": "text/x-python",
   "name": "python",
   "nbconvert_exporter": "python",
   "pygments_lexer": "ipython3",
   "version": "3.7.6"
  }
 },
 "nbformat": 4,
 "nbformat_minor": 4
}
